{
 "cells": [
  {
   "cell_type": "markdown",
   "metadata": {
    "_uuid": "ac282d342d6584347623d859f7e234fd58ab6cd9"
   },
   "source": [
    "# Introduction"
   ]
  },
  {
   "cell_type": "code",
   "execution_count": null,
   "metadata": {
    "id": "8olzL03906Du"
   },
   "outputs": [],
   "source": [
    "from google.colab import files"
   ]
  },
  {
   "cell_type": "code",
   "execution_count": null,
   "metadata": {
    "colab": {
     "base_uri": "https://localhost:8080/",
     "height": 90,
     "resources": {
      "http://localhost:8080/nbextensions/google.colab/files.js": {
       "data": "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",
       "headers": [
        [
         "content-type",
         "application/javascript"
        ]
       ],
       "ok": true,
       "status": 200,
       "status_text": ""
      }
     }
    },
    "id": "SHd4PlIt1GNN",
    "outputId": "748125ca-d5e0-4d6a-a93a-2e1a2845f1b7"
   },
   "outputs": [],
   "source": [
    "files.upload()"
   ]
  },
  {
   "cell_type": "code",
   "execution_count": null,
   "metadata": {
    "id": "F_hOffEV1IFK"
   },
   "outputs": [],
   "source": [
    "!mkdir ~/.kaggle\n",
    "!cp kaggle.json ~/.kaggle/\n",
    "!chmod 600 ~/.kaggle/kaggle.json"
   ]
  },
  {
   "cell_type": "code",
   "execution_count": null,
   "metadata": {
    "id": "rHm6v4_0uYDi"
   },
   "outputs": [],
   "source": [
    "!pip install -q kaggle"
   ]
  },
  {
   "cell_type": "code",
   "execution_count": 2,
   "metadata": {
    "colab": {
     "base_uri": "https://localhost:8080/"
    },
    "id": "nTwk6lbv96TT",
    "outputId": "9bbb7eda-2707-40b1-ffad-faccce963a6f"
   },
   "outputs": [
    {
     "name": "stdout",
     "output_type": "stream",
     "text": [
      "ref                                                    title                                         size  lastUpdated          downloadCount  voteCount  usabilityRating  \r\n",
      "-----------------------------------------------------  -------------------------------------------  -----  -------------------  -------------  ---------  ---------------  \r\n",
      "snap/amazon-fine-food-reviews                          Amazon Fine Food Reviews                     242MB  2017-05-01 18:51:31         125092       1892  0.7941176        \r\n",
      "kritanjalijain/amazon-reviews                          Amazon reviews                                 1GB  2021-05-15 09:45:40           3824         63  1.0              \r\n",
      "sid321axn/amazon-alexa-reviews                         Amazon Alexa Reviews                         164KB  2018-07-31 17:45:14          16425        242  0.8235294        \r\n",
      "eswarchandt/amazon-music-reviews                       Amazon Musical Instruments Reviews             5MB  2020-03-29 02:59:52          10841        264  1.0              \r\n",
      "grikomsn/amazon-cell-phones-reviews                    Amazon Cell Phones Reviews                     9MB  2019-12-26 22:21:16          13519        200  1.0              \r\n",
      "sootersaalu/amazon-top-50-bestselling-books-2009-2019  Amazon Top 50 Bestselling Books 2009 - 2019   15KB  2020-10-13 09:39:21          42293        920  1.0              \r\n",
      "bittlingmayer/amazonreviews                            Amazon Reviews for Sentiment Analysis        493MB  2019-11-18 02:50:34          51626        799  0.6875           \r\n",
      "skillsmuggler/amazon-ratings                           Amazon - Ratings (Beauty Products)            29MB  2018-06-24 09:49:57           7022         83  1.0              \r\n",
      "PromptCloudHQ/amazon-reviews-unlocked-mobile-phones    Amazon Reviews: Unlocked Mobile Phones        33MB  2017-01-11 10:22:30          12025        162  1.0              \r\n",
      "datafiniti/consumer-reviews-of-amazon-products         Consumer Reviews of Amazon Products           16MB  2019-05-20 00:38:59          33773        400  0.7647059        \r\n",
      "bharadwaj6/kindle-reviews                              Amazon reviews: Kindle Store Category        525MB  2018-05-22 04:50:16           5867        153  1.0              \r\n",
      "PromptCloudHQ/toy-products-on-amazon                   Toy Products on Amazon                         8MB  2017-09-15 19:45:36           8967        130  1.0              \r\n",
      "saurav9786/amazon-product-reviews                      Amazon Product Reviews                       109MB  2020-01-14 13:25:53           6261         89  0.64705884       \r\n",
      "nilimajauhari/amazon-prime-tv-shows                    Amazon Prime TV Shows                          7KB  2020-10-13 12:55:09           2598         56  1.0              \r\n",
      "pranalibose/amazon-seller-order-status-prediction      Amazon Seller - Order Status Prediction       23KB  2022-02-26 06:31:07           6655        133  0.88235295       \r\n",
      "arhamrumi/amazon-product-reviews                       Amazon Product Reviews                       115MB  2021-07-11 17:40:05           1268         19  1.0              \r\n",
      "nehaprabhavalkar/indian-products-on-amazon             Indian Products on Amazon                    121KB  2020-10-08 11:35:21           1327         40  1.0              \r\n",
      "shitalkat/amazonearphonesreviews                       Amazon Earphones Reviews                     772KB  2019-07-19 04:53:11           1849         26  1.0              \r\n",
      "atahmasb/amazon-job-skills                             AMAZON Job Skills                              2MB  2018-03-02 04:02:20           4546         94  0.7058824        \r\n",
      "shivamb/amazon-prime-movies-and-tv-shows               Amazon Prime Movies and TV Shows               2MB  2021-10-12 14:55:12           5836         89  1.0              \r\n"
     ]
    }
   ],
   "source": [
    "!kaggle datasets list -s amazon"
   ]
  },
  {
   "cell_type": "code",
   "execution_count": 3,
   "metadata": {
    "colab": {
     "base_uri": "https://localhost:8080/"
    },
    "id": "_Aq-0Q6z-e_w",
    "outputId": "35126c96-1635-476e-93fb-edbfc6f1307a"
   },
   "outputs": [
    {
     "name": "stdout",
     "output_type": "stream",
     "text": [
      "Downloading amazon-fine-food-reviews.zip to /home/bruno/git/am\n",
      "100%|███████████████████████████████████████▉| 242M/242M [00:11<00:00, 25.4MB/s]\n",
      "100%|████████████████████████████████████████| 242M/242M [00:11<00:00, 21.2MB/s]\n"
     ]
    }
   ],
   "source": [
    "!kaggle datasets download -d snap/amazon-fine-food-reviews"
   ]
  },
  {
   "cell_type": "code",
   "execution_count": 4,
   "metadata": {
    "colab": {
     "base_uri": "https://localhost:8080/"
    },
    "id": "HLPveo2_ARlO",
    "outputId": "fb45f6ca-ff09-4fcd-c440-e04b21759e0b",
    "scrolled": true
   },
   "outputs": [
    {
     "name": "stdout",
     "output_type": "stream",
     "text": [
      "Archive:  amazon-fine-food-reviews.zip\n",
      "  inflating: data/amazon/Reviews.csv  \n",
      "  inflating: data/amazon/database.sqlite  \n",
      "  inflating: data/amazon/hashes.txt  \n"
     ]
    }
   ],
   "source": [
    "!mkdir -p data/amazon\n",
    "!unzip amazon-fine-food-reviews.zip -d data/amazon"
   ]
  },
  {
   "cell_type": "code",
   "execution_count": 76,
   "metadata": {
    "_uuid": "bd443a07d3e31f280a9cd1d6c56ec201b00fe884"
   },
   "outputs": [],
   "source": [
    "import pandas as pd\n",
    "#load the data\n",
    "sample=pd.read_csv(\"data/amazon/Reviews.csv\")"
   ]
  },
  {
   "cell_type": "code",
   "execution_count": 78,
   "metadata": {},
   "outputs": [],
   "source": [
    "sample = sample.groupby('Score', group_keys=False).apply(lambda x: x.sample(frac=0.1))"
   ]
  },
  {
   "cell_type": "code",
   "execution_count": 79,
   "metadata": {
    "_uuid": "59ed3e079934cd4ce54270ed6d1094ac6721a9c8"
   },
   "outputs": [
    {
     "name": "stdout",
     "output_type": "stream",
     "text": [
      "(56846, 10)\n"
     ]
    }
   ],
   "source": [
    "#check the loaded data\n",
    "print(sample.shape)"
   ]
  },
  {
   "cell_type": "code",
   "execution_count": 80,
   "metadata": {
    "_uuid": "edad0362c139710bbf130d518c2798ef6426bb45"
   },
   "outputs": [
    {
     "data": {
      "text/html": [
       "<div>\n",
       "<style scoped>\n",
       "    .dataframe tbody tr th:only-of-type {\n",
       "        vertical-align: middle;\n",
       "    }\n",
       "\n",
       "    .dataframe tbody tr th {\n",
       "        vertical-align: top;\n",
       "    }\n",
       "\n",
       "    .dataframe thead th {\n",
       "        text-align: right;\n",
       "    }\n",
       "</style>\n",
       "<table border=\"1\" class=\"dataframe\">\n",
       "  <thead>\n",
       "    <tr style=\"text-align: right;\">\n",
       "      <th></th>\n",
       "      <th>Id</th>\n",
       "      <th>ProductId</th>\n",
       "      <th>UserId</th>\n",
       "      <th>ProfileName</th>\n",
       "      <th>HelpfulnessNumerator</th>\n",
       "      <th>HelpfulnessDenominator</th>\n",
       "      <th>Score</th>\n",
       "      <th>Time</th>\n",
       "      <th>Summary</th>\n",
       "      <th>Text</th>\n",
       "    </tr>\n",
       "  </thead>\n",
       "  <tbody>\n",
       "    <tr>\n",
       "      <th>268614</th>\n",
       "      <td>268615</td>\n",
       "      <td>B004SRFYMK</td>\n",
       "      <td>A36X8R1Y6NREHY</td>\n",
       "      <td>S. H.</td>\n",
       "      <td>0</td>\n",
       "      <td>0</td>\n",
       "      <td>1</td>\n",
       "      <td>1349222400</td>\n",
       "      <td>Tastes like plastic-YUCK!</td>\n",
       "      <td>Have purchased this product in different citie...</td>\n",
       "    </tr>\n",
       "    <tr>\n",
       "      <th>68237</th>\n",
       "      <td>68238</td>\n",
       "      <td>B003EM7J9Q</td>\n",
       "      <td>A1LPQ97WUIAIKV</td>\n",
       "      <td>Robert V. Boston</td>\n",
       "      <td>9</td>\n",
       "      <td>10</td>\n",
       "      <td>1</td>\n",
       "      <td>1235779200</td>\n",
       "      <td>Hard To Cook</td>\n",
       "      <td>I don't know if I got a bad batch or something...</td>\n",
       "    </tr>\n",
       "    <tr>\n",
       "      <th>5958</th>\n",
       "      <td>5959</td>\n",
       "      <td>B001O2IX8E</td>\n",
       "      <td>A3KDZCQ82JFWLN</td>\n",
       "      <td>Phoebe Oh</td>\n",
       "      <td>0</td>\n",
       "      <td>1</td>\n",
       "      <td>1</td>\n",
       "      <td>1245888000</td>\n",
       "      <td>Some broken jars</td>\n",
       "      <td>When I saw some of the Earth's Best jars offer...</td>\n",
       "    </tr>\n",
       "    <tr>\n",
       "      <th>522614</th>\n",
       "      <td>522615</td>\n",
       "      <td>B007TJGZ0Y</td>\n",
       "      <td>A2V9VS4VWCSCNK</td>\n",
       "      <td>A. Shibley</td>\n",
       "      <td>0</td>\n",
       "      <td>0</td>\n",
       "      <td>1</td>\n",
       "      <td>1349222400</td>\n",
       "      <td>Really don't get the rave reviews. Tastes like...</td>\n",
       "      <td>I made the mistake of buying a 50 pack of thes...</td>\n",
       "    </tr>\n",
       "    <tr>\n",
       "      <th>26686</th>\n",
       "      <td>26687</td>\n",
       "      <td>B000YSS7EO</td>\n",
       "      <td>AUECOTLRQLGJH</td>\n",
       "      <td>KarTerz</td>\n",
       "      <td>2</td>\n",
       "      <td>3</td>\n",
       "      <td>1</td>\n",
       "      <td>1259020800</td>\n",
       "      <td>Smells stale</td>\n",
       "      <td>I love this brand and my baby loves the oatmea...</td>\n",
       "    </tr>\n",
       "  </tbody>\n",
       "</table>\n",
       "</div>"
      ],
      "text/plain": [
       "            Id   ProductId          UserId       ProfileName  \\\n",
       "268614  268615  B004SRFYMK  A36X8R1Y6NREHY             S. H.   \n",
       "68237    68238  B003EM7J9Q  A1LPQ97WUIAIKV  Robert V. Boston   \n",
       "5958      5959  B001O2IX8E  A3KDZCQ82JFWLN         Phoebe Oh   \n",
       "522614  522615  B007TJGZ0Y  A2V9VS4VWCSCNK        A. Shibley   \n",
       "26686    26687  B000YSS7EO   AUECOTLRQLGJH           KarTerz   \n",
       "\n",
       "        HelpfulnessNumerator  HelpfulnessDenominator  Score        Time  \\\n",
       "268614                     0                       0      1  1349222400   \n",
       "68237                      9                      10      1  1235779200   \n",
       "5958                       0                       1      1  1245888000   \n",
       "522614                     0                       0      1  1349222400   \n",
       "26686                      2                       3      1  1259020800   \n",
       "\n",
       "                                                  Summary  \\\n",
       "268614                          Tastes like plastic-YUCK!   \n",
       "68237                                        Hard To Cook   \n",
       "5958                                     Some broken jars   \n",
       "522614  Really don't get the rave reviews. Tastes like...   \n",
       "26686                                        Smells stale   \n",
       "\n",
       "                                                     Text  \n",
       "268614  Have purchased this product in different citie...  \n",
       "68237   I don't know if I got a bad batch or something...  \n",
       "5958    When I saw some of the Earth's Best jars offer...  \n",
       "522614  I made the mistake of buying a 50 pack of thes...  \n",
       "26686   I love this brand and my baby loves the oatmea...  "
      ]
     },
     "execution_count": 80,
     "metadata": {},
     "output_type": "execute_result"
    }
   ],
   "source": [
    "#look of the dataset\n",
    "sample.head()"
   ]
  },
  {
   "cell_type": "code",
   "execution_count": 81,
   "metadata": {
    "_uuid": "e9e49bb588ba1b8f4fde1fa39b79f279c61f589f"
   },
   "outputs": [
    {
     "name": "stderr",
     "output_type": "stream",
     "text": [
      "/home/bruno/anaconda3/lib/python3.9/site-packages/seaborn/_decorators.py:36: FutureWarning: Pass the following variable as a keyword arg: x. From version 0.12, the only valid positional argument will be `data`, and passing other arguments without an explicit keyword will result in an error or misinterpretation.\n",
      "  warnings.warn(\n"
     ]
    },
    {
     "data": {
      "text/plain": [
       "<AxesSubplot:xlabel='Score', ylabel='count'>"
      ]
     },
     "execution_count": 81,
     "metadata": {},
     "output_type": "execute_result"
    },
    {
     "data": {
      "image/png": "[encoded data removed]",
      "text/plain": [
       "<Figure size 432x288 with 1 Axes>"
      ]
     },
     "metadata": {
      "needs_background": "light"
     },
     "output_type": "display_data"
    }
   ],
   "source": [
    "# Understand how customer ratings are distributed\n",
    "import seaborn as sns\n",
    "sns.countplot(sample.Score)"
   ]
  },
  {
   "cell_type": "markdown",
   "metadata": {
    "_uuid": "48049f2669fd2119f4ccf6404fcbc3b29a85e44b"
   },
   "source": [
    " # Data Cleaning"
   ]
  },
  {
   "cell_type": "code",
   "execution_count": 82,
   "metadata": {
    "_uuid": "80457bcb98802fa5bd362e986af87a8113c5f410"
   },
   "outputs": [],
   "source": [
    "#converting the Numerical reviws to categorical reviews on codition above 3 are\n",
    "#positive and below 3 are negative as reviews rating with 3 are not much useful\n",
    "#for analysis\n",
    "\n",
    "#function\n",
    "def partition(x):\n",
    "    if x < 3:\n",
    "        return 'negative'\n",
    "    return 'positive'\n",
    "\n",
    "#changing reviews with score less than 3 to be positive\n",
    "actualScore = sample['Score']\n",
    "positiveNegative = actualScore.map(partition) \n",
    "sample['Score'] = positiveNegative"
   ]
  },
  {
   "cell_type": "code",
   "execution_count": 97,
   "metadata": {
    "_uuid": "b155c3f1830d430e54d996a2d0a285d9c0f22496"
   },
   "outputs": [
    {
     "data": {
      "text/html": [
       "<div>\n",
       "<style scoped>\n",
       "    .dataframe tbody tr th:only-of-type {\n",
       "        vertical-align: middle;\n",
       "    }\n",
       "\n",
       "    .dataframe tbody tr th {\n",
       "        vertical-align: top;\n",
       "    }\n",
       "\n",
       "    .dataframe thead th {\n",
       "        text-align: right;\n",
       "    }\n",
       "</style>\n",
       "<table border=\"1\" class=\"dataframe\">\n",
       "  <thead>\n",
       "    <tr style=\"text-align: right;\">\n",
       "      <th></th>\n",
       "      <th>Id</th>\n",
       "      <th>ProductId</th>\n",
       "      <th>UserId</th>\n",
       "      <th>ProfileName</th>\n",
       "      <th>HelpfulnessNumerator</th>\n",
       "      <th>HelpfulnessDenominator</th>\n",
       "      <th>Score</th>\n",
       "      <th>Time</th>\n",
       "      <th>Summary</th>\n",
       "      <th>Text</th>\n",
       "    </tr>\n",
       "  </thead>\n",
       "  <tbody>\n",
       "    <tr>\n",
       "      <th>268614</th>\n",
       "      <td>268615</td>\n",
       "      <td>B004SRFYMK</td>\n",
       "      <td>A36X8R1Y6NREHY</td>\n",
       "      <td>S. H.</td>\n",
       "      <td>0</td>\n",
       "      <td>0</td>\n",
       "      <td>negative</td>\n",
       "      <td>1349222400</td>\n",
       "      <td>Tastes like plastic-YUCK!</td>\n",
       "      <td>Have purchased this product in different citie...</td>\n",
       "    </tr>\n",
       "    <tr>\n",
       "      <th>68237</th>\n",
       "      <td>68238</td>\n",
       "      <td>B003EM7J9Q</td>\n",
       "      <td>A1LPQ97WUIAIKV</td>\n",
       "      <td>Robert V. Boston</td>\n",
       "      <td>9</td>\n",
       "      <td>10</td>\n",
       "      <td>negative</td>\n",
       "      <td>1235779200</td>\n",
       "      <td>Hard To Cook</td>\n",
       "      <td>I don't know if I got a bad batch or something...</td>\n",
       "    </tr>\n",
       "    <tr>\n",
       "      <th>5958</th>\n",
       "      <td>5959</td>\n",
       "      <td>B001O2IX8E</td>\n",
       "      <td>A3KDZCQ82JFWLN</td>\n",
       "      <td>Phoebe Oh</td>\n",
       "      <td>0</td>\n",
       "      <td>1</td>\n",
       "      <td>negative</td>\n",
       "      <td>1245888000</td>\n",
       "      <td>Some broken jars</td>\n",
       "      <td>When I saw some of the Earth's Best jars offer...</td>\n",
       "    </tr>\n",
       "    <tr>\n",
       "      <th>522614</th>\n",
       "      <td>522615</td>\n",
       "      <td>B007TJGZ0Y</td>\n",
       "      <td>A2V9VS4VWCSCNK</td>\n",
       "      <td>A. Shibley</td>\n",
       "      <td>0</td>\n",
       "      <td>0</td>\n",
       "      <td>negative</td>\n",
       "      <td>1349222400</td>\n",
       "      <td>Really don't get the rave reviews. Tastes like...</td>\n",
       "      <td>I made the mistake of buying a 50 pack of thes...</td>\n",
       "    </tr>\n",
       "    <tr>\n",
       "      <th>26686</th>\n",
       "      <td>26687</td>\n",
       "      <td>B000YSS7EO</td>\n",
       "      <td>AUECOTLRQLGJH</td>\n",
       "      <td>KarTerz</td>\n",
       "      <td>2</td>\n",
       "      <td>3</td>\n",
       "      <td>negative</td>\n",
       "      <td>1259020800</td>\n",
       "      <td>Smells stale</td>\n",
       "      <td>I love this brand and my baby loves the oatmea...</td>\n",
       "    </tr>\n",
       "  </tbody>\n",
       "</table>\n",
       "</div>"
      ],
      "text/plain": [
       "            Id   ProductId          UserId       ProfileName  \\\n",
       "268614  268615  B004SRFYMK  A36X8R1Y6NREHY             S. H.   \n",
       "68237    68238  B003EM7J9Q  A1LPQ97WUIAIKV  Robert V. Boston   \n",
       "5958      5959  B001O2IX8E  A3KDZCQ82JFWLN         Phoebe Oh   \n",
       "522614  522615  B007TJGZ0Y  A2V9VS4VWCSCNK        A. Shibley   \n",
       "26686    26687  B000YSS7EO   AUECOTLRQLGJH           KarTerz   \n",
       "\n",
       "        HelpfulnessNumerator  HelpfulnessDenominator     Score        Time  \\\n",
       "268614                     0                       0  negative  1349222400   \n",
       "68237                      9                      10  negative  1235779200   \n",
       "5958                       0                       1  negative  1245888000   \n",
       "522614                     0                       0  negative  1349222400   \n",
       "26686                      2                       3  negative  1259020800   \n",
       "\n",
       "                                                  Summary  \\\n",
       "268614                          Tastes like plastic-YUCK!   \n",
       "68237                                        Hard To Cook   \n",
       "5958                                     Some broken jars   \n",
       "522614  Really don't get the rave reviews. Tastes like...   \n",
       "26686                                        Smells stale   \n",
       "\n",
       "                                                     Text  \n",
       "268614  Have purchased this product in different citie...  \n",
       "68237   I don't know if I got a bad batch or something...  \n",
       "5958    When I saw some of the Earth's Best jars offer...  \n",
       "522614  I made the mistake of buying a 50 pack of thes...  \n",
       "26686   I love this brand and my baby loves the oatmea...  "
      ]
     },
     "execution_count": 97,
     "metadata": {},
     "output_type": "execute_result"
    }
   ],
   "source": [
    "sample.head()"
   ]
  },
  {
   "cell_type": "code",
   "execution_count": 98,
   "metadata": {
    "_uuid": "da944962df95336fcab103a85897118bdda3794d"
   },
   "outputs": [
    {
     "data": {
      "text/plain": [
       "positive    48642\n",
       "negative     8204\n",
       "Name: Score, dtype: int64"
      ]
     },
     "execution_count": 98,
     "metadata": {},
     "output_type": "execute_result"
    }
   ],
   "source": [
    "# no of positive and negative reviews\n",
    "sample[\"Score\"].value_counts()\n",
    "#here we can say it is a unbalanced data set"
   ]
  },
  {
   "cell_type": "code",
   "execution_count": 99,
   "metadata": {
    "_uuid": "e082408194a1d6f250adfcb6f2dc6eebfba7fff7"
   },
   "outputs": [
    {
     "data": {
      "text/plain": [
       "(52151, 10)"
      ]
     },
     "execution_count": 99,
     "metadata": {},
     "output_type": "execute_result"
    }
   ],
   "source": [
    "#dropping  the duplicates column if any using drop duplicates from pandas\n",
    "sorted_data=sample.sort_values('ProductId', axis=0, ascending=True, inplace=False, kind='quicksort', na_position='last')\n",
    "final=sorted_data.drop_duplicates(subset={\"UserId\",\"ProfileName\",\"Time\",\"Text\"}, keep='first', inplace=False)\n",
    "final.shape"
   ]
  },
  {
   "cell_type": "code",
   "execution_count": 100,
   "metadata": {
    "_uuid": "c941055068b082ebde46dc1d7085c3a0878b137f"
   },
   "outputs": [
    {
     "data": {
      "text/plain": [
       "91.74084368293283"
      ]
     },
     "execution_count": 100,
     "metadata": {},
     "output_type": "execute_result"
    }
   ],
   "source": [
    "# no duplicate columns found\n",
    "(final['Id'].size*1.0)/(sample['Id'].size*1.0)*100"
   ]
  },
  {
   "cell_type": "code",
   "execution_count": 101,
   "metadata": {
    "_uuid": "2a52bd1a029123c7cdb42f4443d07d63f61cd78f"
   },
   "outputs": [
    {
     "name": "stdout",
     "output_type": "stream",
     "text": [
      "(52151, 10)\n"
     ]
    },
    {
     "data": {
      "text/plain": [
       "positive    44680\n",
       "negative     7471\n",
       "Name: Score, dtype: int64"
      ]
     },
     "execution_count": 101,
     "metadata": {},
     "output_type": "execute_result"
    }
   ],
   "source": [
    "final=final[final.HelpfulnessNumerator<=final.HelpfulnessDenominator]\n",
    "# Help..Num is always less than Denom.. as Denom is people who upvote and donwvote\n",
    "#Before understanding text preprocessing lets see the number of entries left\n",
    "print(final.shape)\n",
    "\n",
    "#How many positive and negative reviews are present in our dataset?\n",
    "final['Score'].value_counts()\n",
    "\n",
    "# after removing duplicate rows we found, 8346 positive and 1457 negative"
   ]
  },
  {
   "cell_type": "code",
   "execution_count": 102,
   "metadata": {
    "_uuid": "7fc2d23679328d9d3640029f7a7bc97de0c2369c"
   },
   "outputs": [
    {
     "name": "stderr",
     "output_type": "stream",
     "text": [
      "/home/bruno/anaconda3/lib/python3.9/site-packages/seaborn/_decorators.py:36: FutureWarning: Pass the following variable as a keyword arg: x. From version 0.12, the only valid positional argument will be `data`, and passing other arguments without an explicit keyword will result in an error or misinterpretation.\n",
      "  warnings.warn(\n"
     ]
    },
    {
     "data": {
      "text/plain": [
       "<AxesSubplot:xlabel='Score', ylabel='count'>"
      ]
     },
     "execution_count": 102,
     "metadata": {},
     "output_type": "execute_result"
    },
    {
     "data": {
      "image/png": "[encoded data removed]",
      "text/plain": [
       "<Figure size 432x288 with 1 Axes>"
      ]
     },
     "metadata": {
      "needs_background": "light"
     },
     "output_type": "display_data"
    }
   ],
   "source": [
    "# After Removing Duplicate rows\n",
    "import seaborn as sns\n",
    "sns.countplot(final.Score)"
   ]
  },
  {
   "cell_type": "markdown",
   "metadata": {
    "_uuid": "d424e7b744fe2be8a5d2bee78fbf54f3c2e6ca1c"
   },
   "source": [
    "# Text Processing\n",
    "\n",
    "To make the text clean by removing HTML tag reviews, stopwords to segregate and adding timestamp"
   ]
  },
  {
   "cell_type": "code",
   "execution_count": 103,
   "metadata": {
    "_uuid": "a0c15a9fd788e3320b6940a8de82a60dd065a2a3"
   },
   "outputs": [
    {
     "name": "stdout",
     "output_type": "stream",
     "text": [
      "3\n",
      "This product is a real bargain, considering the fact that dogs love liver. I've used this as an addition to another dog treat product I use for my dog. My dog goes nuts when he knows that he's about to be rewarded with<br />Pro-Treat Beef Liver treats. The instructions advise to give 2-3 pieces per day when using. At this rate, the container will last you a good while. The product itself is very fresh and the pieces are all of various sizes and thickness. Average size of treat is small rectangular pieces of different thickness. They're easy to break into smaller pieces if necessary. My Springer Spaniel pup is 5 months old and he just loves these. I tried this product on my girlfriend's 10 yr old teacup Poodle, who is pretty slow at this point in her life. She absolutely came to life and jumped all over the place for a taste of one of these treats. Buy it....your dog will love it!\n"
     ]
    }
   ],
   "source": [
    "# find sentences containing HTML tags\n",
    "import re\n",
    "i=0;\n",
    "for sent in final['Text'].values:\n",
    "    if (len(re.findall('<.*?>', sent))):\n",
    "        print(i)\n",
    "        print(sent)\n",
    "        break;\n",
    "    i += 1;"
   ]
  },
  {
   "cell_type": "code",
   "execution_count": 104,
   "metadata": {
    "_uuid": "df951cb6888aa7e6a8e1ecea90dc41e84bdf4e6c"
   },
   "outputs": [
    {
     "name": "stdout",
     "output_type": "stream",
     "text": [
      "{'can', 'yourselves', 'of', 'here', 'being', 'again', 'my', 'shouldn', 'as', 'why', \"it's\", 'are', 'more', 'theirs', 'because', 'until', 'above', 'now', 'what', 'other', \"mustn't\", 'his', 'were', 'on', 'over', 'each', 'with', 'them', 'or', 'under', 'yourself', 'hadn', 'from', 'ma', 'themselves', \"she's\", 'their', \"you've\", 'few', 'an', 'mustn', 'that', 'out', 'all', 'has', 'very', \"didn't\", 'be', 'nor', 'o', 'won', 'our', 'further', \"doesn't\", 'own', 'it', 'just', 'such', 'didn', 'isn', 'but', 'into', 'not', \"don't\", 'wouldn', 'they', 'no', 'before', 'both', 'her', 'doesn', 'so', 'him', 'she', \"aren't\", 'its', 'by', 'your', 'then', 'if', 'should', 'some', \"shouldn't\", 'd', 'a', \"wasn't\", 'about', 'any', \"should've\", 'am', \"hasn't\", 'was', 'weren', 'to', 'have', 'mightn', 'this', 'than', 'most', \"you'll\", \"haven't\", 'herself', 'once', 'between', 'been', 'there', 'ain', 'same', \"hadn't\", 'up', 'll', 'during', 'through', 'me', 'whom', 'you', \"isn't\", 'itself', 'couldn', 's', \"weren't\", 'is', 'did', 'the', 'for', 'he', 'will', 'haven', 'hasn', 'down', 'ours', 'aren', 'while', 'off', 'how', 'shan', 'having', 'doing', \"needn't\", \"shan't\", 't', 'needn', 'and', 'when', 've', 'where', 'below', 'i', \"you'd\", 'after', 'these', 'against', 'in', 'only', 're', 'don', 'hers', 'himself', 'wasn', 'ourselves', 'myself', \"that'll\", 'at', \"couldn't\", \"mightn't\", 'who', 'had', 'those', \"wouldn't\", \"you're\", 'm', 'do', 'we', 'does', 'which', \"won't\", 'yours', 'too', 'y'}\n",
      "************************************\n",
      "tasti\n"
     ]
    },
    {
     "name": "stderr",
     "output_type": "stream",
     "text": [
      "[nltk_data] Downloading package stopwords to /home/bruno/nltk_data...\n",
      "[nltk_data]   Package stopwords is already up-to-date!\n"
     ]
    }
   ],
   "source": [
    "import nltk\n",
    "nltk.download('stopwords')\n",
    "from nltk.corpus import stopwords\n",
    "sno = nltk.stem.SnowballStemmer('english') #initialising the snowball stemmer which is developed in recent years\n",
    "stop=set(stopwords.words('english'))\n",
    "\n",
    "def cleanhtml(sentence): #function to clean the word of any html-tags\n",
    "    cleanr = re.compile('<.*?>')\n",
    "    cleantext = re.sub(cleanr, ' ', sentence)\n",
    "    return cleantext\n",
    "def cleanpunc(sentence): #function to clean the word of any punctuation or special characters\n",
    "    cleaned = re.sub(r'[?|!|\\'|\"|#]',r'',sentence)\n",
    "    cleaned = re.sub(r'[.|,|)|(|\\|/]',r' ',cleaned)\n",
    "    return  cleaned\n",
    "print(stop)\n",
    "print('************************************')\n",
    "print(sno.stem('tasty'))"
   ]
  },
  {
   "cell_type": "code",
   "execution_count": 105,
   "metadata": {},
   "outputs": [],
   "source": [
    "from tqdm import tqdm"
   ]
  },
  {
   "cell_type": "code",
   "execution_count": 106,
   "metadata": {
    "_uuid": "ddb8bcb1d99775bae365536e32a92728b306a1f0"
   },
   "outputs": [
    {
     "name": "stderr",
     "output_type": "stream",
     "text": [
      "100%|███████████████████████████████████| 52151/52151 [00:34<00:00, 1494.75it/s]\n"
     ]
    }
   ],
   "source": [
    "i=0\n",
    "str1=' '\n",
    "final_string=[]\n",
    "all_positive_words=[] # store words from +ve reviews here\n",
    "all_negative_words=[] # store words from -ve reviews here.\n",
    "s=''\n",
    "for sent in tqdm(final['Text'].values):\n",
    "    filtered_sentence=[]\n",
    "    #print(sent);\n",
    "    sent=cleanhtml(sent) # remove HTMl tags\n",
    "    for w in sent.split():\n",
    "        for cleaned_words in cleanpunc(w).split():\n",
    "            if((cleaned_words.isalpha()) & (len(cleaned_words)>2)):    \n",
    "                if(cleaned_words.lower() not in stop):\n",
    "                    s=(sno.stem(cleaned_words.lower())).encode('utf8')\n",
    "                    filtered_sentence.append(s)\n",
    "                    if (final['Score'].values)[i] == 'positive': \n",
    "                        all_positive_words.append(s) #list of all words used to describe positive reviews\n",
    "                    if(final['Score'].values)[i] == 'negative':\n",
    "                        all_negative_words.append(s) #list of all words used to describe negative reviews reviews\n",
    "                else:\n",
    "                    continue\n",
    "            else:\n",
    "                continue \n",
    "    #print(filtered_sentence)\n",
    "    str1 = b\" \".join(filtered_sentence) #final string of cleaned words\n",
    "    #print(\"***********************************************************************\")\n",
    "    \n",
    "    final_string.append(str1)\n",
    "    i+=1"
   ]
  },
  {
   "cell_type": "code",
   "execution_count": 107,
   "metadata": {
    "_uuid": "368155a5dbb82479695879d98b44ee3709e086f2"
   },
   "outputs": [],
   "source": [
    "final['CleanedText']=final_string #adding a column of CleanedText which displays the data after pre-processing of the review \n",
    "final['CleanedText']=final['CleanedText'].str.decode(\"utf-8\")"
   ]
  },
  {
   "cell_type": "code",
   "execution_count": 108,
   "metadata": {
    "_uuid": "c7679df66babf4b107d58866576c5b2f92a67d97"
   },
   "outputs": [
    {
     "data": {
      "text/plain": [
       "(52151, 11)"
      ]
     },
     "execution_count": 108,
     "metadata": {},
     "output_type": "execute_result"
    }
   ],
   "source": [
    "final.shape "
   ]
  },
  {
   "cell_type": "code",
   "execution_count": 109,
   "metadata": {
    "_uuid": "f5de930427a9175d44959c989ff3b76063991acd"
   },
   "outputs": [
    {
     "data": {
      "text/html": [
       "<div>\n",
       "<style scoped>\n",
       "    .dataframe tbody tr th:only-of-type {\n",
       "        vertical-align: middle;\n",
       "    }\n",
       "\n",
       "    .dataframe tbody tr th {\n",
       "        vertical-align: top;\n",
       "    }\n",
       "\n",
       "    .dataframe thead th {\n",
       "        text-align: right;\n",
       "    }\n",
       "</style>\n",
       "<table border=\"1\" class=\"dataframe\">\n",
       "  <thead>\n",
       "    <tr style=\"text-align: right;\">\n",
       "      <th></th>\n",
       "      <th>Id</th>\n",
       "      <th>ProductId</th>\n",
       "      <th>UserId</th>\n",
       "      <th>ProfileName</th>\n",
       "      <th>HelpfulnessNumerator</th>\n",
       "      <th>HelpfulnessDenominator</th>\n",
       "      <th>Score</th>\n",
       "      <th>Time</th>\n",
       "      <th>Summary</th>\n",
       "      <th>Text</th>\n",
       "      <th>CleanedText</th>\n",
       "    </tr>\n",
       "  </thead>\n",
       "  <tbody>\n",
       "    <tr>\n",
       "      <th>150515</th>\n",
       "      <td>150516</td>\n",
       "      <td>0006641040</td>\n",
       "      <td>A3OI7ZGH6WZJ5G</td>\n",
       "      <td>Mary Jane Rogers \"Maedchen\"</td>\n",
       "      <td>0</td>\n",
       "      <td>0</td>\n",
       "      <td>positive</td>\n",
       "      <td>1293840000</td>\n",
       "      <td>Darling!</td>\n",
       "      <td>The same author wrote \"Where the Wild Things A...</td>\n",
       "      <td>author wrote wild thing carol king wrote great...</td>\n",
       "    </tr>\n",
       "    <tr>\n",
       "      <th>171157</th>\n",
       "      <td>171158</td>\n",
       "      <td>7310172001</td>\n",
       "      <td>A223KNNTFHHIM7</td>\n",
       "      <td>Silkworm</td>\n",
       "      <td>0</td>\n",
       "      <td>0</td>\n",
       "      <td>positive</td>\n",
       "      <td>1232150400</td>\n",
       "      <td>Great product</td>\n",
       "      <td>These liver treats are great for training. We ...</td>\n",
       "      <td>liver treat great train adopt german shepherd ...</td>\n",
       "    </tr>\n",
       "    <tr>\n",
       "      <th>171158</th>\n",
       "      <td>171159</td>\n",
       "      <td>7310172001</td>\n",
       "      <td>A16GY2RCF410DT</td>\n",
       "      <td>LB</td>\n",
       "      <td>0</td>\n",
       "      <td>0</td>\n",
       "      <td>positive</td>\n",
       "      <td>1231718400</td>\n",
       "      <td>Great!</td>\n",
       "      <td>My dog loves these treats!  We started using t...</td>\n",
       "      <td>dog love treat start use train purpos treat he...</td>\n",
       "    </tr>\n",
       "    <tr>\n",
       "      <th>171215</th>\n",
       "      <td>171216</td>\n",
       "      <td>7310172001</td>\n",
       "      <td>A3084RD2YNXRXJ</td>\n",
       "      <td>John L. Gonzales</td>\n",
       "      <td>1</td>\n",
       "      <td>1</td>\n",
       "      <td>positive</td>\n",
       "      <td>1267574400</td>\n",
       "      <td>Rolls Royce of dog treats.......</td>\n",
       "      <td>This product is a real bargain, considering th...</td>\n",
       "      <td>product real bargain consid fact dog love live...</td>\n",
       "    </tr>\n",
       "    <tr>\n",
       "      <th>171136</th>\n",
       "      <td>171137</td>\n",
       "      <td>7310172001</td>\n",
       "      <td>A38H80FBUIF8I3</td>\n",
       "      <td>Bryan Kelly \"bk\"</td>\n",
       "      <td>0</td>\n",
       "      <td>0</td>\n",
       "      <td>positive</td>\n",
       "      <td>1269302400</td>\n",
       "      <td>Amazing Training Treat!!</td>\n",
       "      <td>I have tried several different kinds of traini...</td>\n",
       "      <td>tri sever differ kind train treat pet store ei...</td>\n",
       "    </tr>\n",
       "  </tbody>\n",
       "</table>\n",
       "</div>"
      ],
      "text/plain": [
       "            Id   ProductId          UserId                  ProfileName  \\\n",
       "150515  150516  0006641040  A3OI7ZGH6WZJ5G  Mary Jane Rogers \"Maedchen\"   \n",
       "171157  171158  7310172001  A223KNNTFHHIM7                     Silkworm   \n",
       "171158  171159  7310172001  A16GY2RCF410DT                           LB   \n",
       "171215  171216  7310172001  A3084RD2YNXRXJ             John L. Gonzales   \n",
       "171136  171137  7310172001  A38H80FBUIF8I3             Bryan Kelly \"bk\"   \n",
       "\n",
       "        HelpfulnessNumerator  HelpfulnessDenominator     Score        Time  \\\n",
       "150515                     0                       0  positive  1293840000   \n",
       "171157                     0                       0  positive  1232150400   \n",
       "171158                     0                       0  positive  1231718400   \n",
       "171215                     1                       1  positive  1267574400   \n",
       "171136                     0                       0  positive  1269302400   \n",
       "\n",
       "                                 Summary  \\\n",
       "150515                          Darling!   \n",
       "171157                     Great product   \n",
       "171158                            Great!   \n",
       "171215  Rolls Royce of dog treats.......   \n",
       "171136          Amazing Training Treat!!   \n",
       "\n",
       "                                                     Text  \\\n",
       "150515  The same author wrote \"Where the Wild Things A...   \n",
       "171157  These liver treats are great for training. We ...   \n",
       "171158  My dog loves these treats!  We started using t...   \n",
       "171215  This product is a real bargain, considering th...   \n",
       "171136  I have tried several different kinds of traini...   \n",
       "\n",
       "                                              CleanedText  \n",
       "150515  author wrote wild thing carol king wrote great...  \n",
       "171157  liver treat great train adopt german shepherd ...  \n",
       "171158  dog love treat start use train purpos treat he...  \n",
       "171215  product real bargain consid fact dog love live...  \n",
       "171136  tri sever differ kind train treat pet store ei...  "
      ]
     },
     "execution_count": 109,
     "metadata": {},
     "output_type": "execute_result"
    }
   ],
   "source": [
    "data_pos = final[final[\"Score\"] == \"positive\"]\n",
    "data_neg = final[final[\"Score\"] == \"negative\"]\n",
    "final = pd.concat([data_pos, data_neg])\n",
    "score =final[\"Score\"]\n",
    "final.head()\n"
   ]
  },
  {
   "cell_type": "code",
   "execution_count": 110,
   "metadata": {
    "_uuid": "8e9ba5a94375b22ae244352f87e3432f05115eff"
   },
   "outputs": [
    {
     "data": {
      "text/html": [
       "<div>\n",
       "<style scoped>\n",
       "    .dataframe tbody tr th:only-of-type {\n",
       "        vertical-align: middle;\n",
       "    }\n",
       "\n",
       "    .dataframe tbody tr th {\n",
       "        vertical-align: top;\n",
       "    }\n",
       "\n",
       "    .dataframe thead th {\n",
       "        text-align: right;\n",
       "    }\n",
       "</style>\n",
       "<table border=\"1\" class=\"dataframe\">\n",
       "  <thead>\n",
       "    <tr style=\"text-align: right;\">\n",
       "      <th></th>\n",
       "      <th>Id</th>\n",
       "      <th>ProductId</th>\n",
       "      <th>UserId</th>\n",
       "      <th>ProfileName</th>\n",
       "      <th>HelpfulnessNumerator</th>\n",
       "      <th>HelpfulnessDenominator</th>\n",
       "      <th>Score</th>\n",
       "      <th>Time</th>\n",
       "      <th>Summary</th>\n",
       "      <th>Text</th>\n",
       "      <th>CleanedText</th>\n",
       "    </tr>\n",
       "  </thead>\n",
       "  <tbody>\n",
       "    <tr>\n",
       "      <th>451854</th>\n",
       "      <td>451855</td>\n",
       "      <td>B00004CXX9</td>\n",
       "      <td>AJH6LUC1UT1ON</td>\n",
       "      <td>The Phantom of the Opera</td>\n",
       "      <td>0</td>\n",
       "      <td>0</td>\n",
       "      <td>positive</td>\n",
       "      <td>2000-01-03</td>\n",
       "      <td>FANTASTIC!</td>\n",
       "      <td>Beetlejuice is an excellent and funny movie. K...</td>\n",
       "      <td>beetlejuic excel funni movi keaton hilari wack...</td>\n",
       "    </tr>\n",
       "    <tr>\n",
       "      <th>374421</th>\n",
       "      <td>374422</td>\n",
       "      <td>B00004CI84</td>\n",
       "      <td>A1048CYU0OV4O8</td>\n",
       "      <td>Judy L. Eans</td>\n",
       "      <td>2</td>\n",
       "      <td>2</td>\n",
       "      <td>positive</td>\n",
       "      <td>2000-01-09</td>\n",
       "      <td>GREAT</td>\n",
       "      <td>THIS IS ONE MOVIE THAT SHOULD BE IN YOUR MOVIE...</td>\n",
       "      <td>one movi movi collect fill comedi action whate...</td>\n",
       "    </tr>\n",
       "    <tr>\n",
       "      <th>451863</th>\n",
       "      <td>451864</td>\n",
       "      <td>B00004CXX9</td>\n",
       "      <td>A1B2IZU1JLZA6</td>\n",
       "      <td>Wes</td>\n",
       "      <td>19</td>\n",
       "      <td>23</td>\n",
       "      <td>negative</td>\n",
       "      <td>2000-01-19</td>\n",
       "      <td>WARNING: CLAMSHELL EDITION IS EDITED TV VERSION</td>\n",
       "      <td>I, myself always enjoyed this movie, it's very...</td>\n",
       "      <td>alway enjoy movi funni entertain didnt hesit p...</td>\n",
       "    </tr>\n",
       "    <tr>\n",
       "      <th>1244</th>\n",
       "      <td>1245</td>\n",
       "      <td>B00002Z754</td>\n",
       "      <td>A29Z5PI9BW2PU3</td>\n",
       "      <td>Robbie</td>\n",
       "      <td>7</td>\n",
       "      <td>7</td>\n",
       "      <td>positive</td>\n",
       "      <td>2000-06-23</td>\n",
       "      <td>Great Product</td>\n",
       "      <td>This was a really good idea and the final prod...</td>\n",
       "      <td>realli good idea final product outstand use de...</td>\n",
       "    </tr>\n",
       "    <tr>\n",
       "      <th>451975</th>\n",
       "      <td>451976</td>\n",
       "      <td>B00004CXX9</td>\n",
       "      <td>A3K3YJWV0N54ZO</td>\n",
       "      <td>Joey</td>\n",
       "      <td>2</td>\n",
       "      <td>3</td>\n",
       "      <td>positive</td>\n",
       "      <td>2001-09-24</td>\n",
       "      <td>Beetlejuice is a greatmovie, but they cheated ...</td>\n",
       "      <td>Just to warn you. when in trying to trick you ...</td>\n",
       "      <td>warn tri trick widescreen format compani made ...</td>\n",
       "    </tr>\n",
       "  </tbody>\n",
       "</table>\n",
       "</div>"
      ],
      "text/plain": [
       "            Id   ProductId          UserId               ProfileName  \\\n",
       "451854  451855  B00004CXX9   AJH6LUC1UT1ON  The Phantom of the Opera   \n",
       "374421  374422  B00004CI84  A1048CYU0OV4O8              Judy L. Eans   \n",
       "451863  451864  B00004CXX9   A1B2IZU1JLZA6                       Wes   \n",
       "1244      1245  B00002Z754  A29Z5PI9BW2PU3                    Robbie   \n",
       "451975  451976  B00004CXX9  A3K3YJWV0N54ZO                      Joey   \n",
       "\n",
       "        HelpfulnessNumerator  HelpfulnessDenominator     Score       Time  \\\n",
       "451854                     0                       0  positive 2000-01-03   \n",
       "374421                     2                       2  positive 2000-01-09   \n",
       "451863                    19                      23  negative 2000-01-19   \n",
       "1244                       7                       7  positive 2000-06-23   \n",
       "451975                     2                       3  positive 2001-09-24   \n",
       "\n",
       "                                                  Summary  \\\n",
       "451854                                         FANTASTIC!   \n",
       "374421                                              GREAT   \n",
       "451863    WARNING: CLAMSHELL EDITION IS EDITED TV VERSION   \n",
       "1244                                        Great Product   \n",
       "451975  Beetlejuice is a greatmovie, but they cheated ...   \n",
       "\n",
       "                                                     Text  \\\n",
       "451854  Beetlejuice is an excellent and funny movie. K...   \n",
       "374421  THIS IS ONE MOVIE THAT SHOULD BE IN YOUR MOVIE...   \n",
       "451863  I, myself always enjoyed this movie, it's very...   \n",
       "1244    This was a really good idea and the final prod...   \n",
       "451975  Just to warn you. when in trying to trick you ...   \n",
       "\n",
       "                                              CleanedText  \n",
       "451854  beetlejuic excel funni movi keaton hilari wack...  \n",
       "374421  one movi movi collect fill comedi action whate...  \n",
       "451863  alway enjoy movi funni entertain didnt hesit p...  \n",
       "1244    realli good idea final product outstand use de...  \n",
       "451975  warn tri trick widescreen format compani made ...  "
      ]
     },
     "execution_count": 110,
     "metadata": {},
     "output_type": "execute_result"
    }
   ],
   "source": [
    "\n",
    "final[\"Time\"] = pd.to_datetime(final[\"Time\"], unit = \"s\")\n",
    "final= final.sort_values(by = \"Time\")\n",
    "final.head()"
   ]
  },
  {
   "cell_type": "markdown",
   "metadata": {
    "_uuid": "949d47c499a755e85cb140197369782f2da15d2e"
   },
   "source": [
    "#  Clustering\n"
   ]
  },
  {
   "cell_type": "markdown",
   "metadata": {
    "_uuid": "cd887599aabb6d597418777cb9e10fdb84d7e79e"
   },
   "source": [
    "### K means using bag of words"
   ]
  },
  {
   "cell_type": "code",
   "execution_count": 114,
   "metadata": {
    "_uuid": "08ac3f88f6d047719791bf6cdf2b513a83c4d547"
   },
   "outputs": [
    {
     "data": {
      "text/plain": [
       "(52151, 27380)"
      ]
     },
     "execution_count": 114,
     "metadata": {},
     "output_type": "execute_result"
    }
   ],
   "source": [
    "from sklearn.feature_extraction.text import TfidfVectorizer\n",
    "count_vect = TfidfVectorizer()\n",
    "bow = count_vect.fit_transform(final['CleanedText'].values)\n",
    "bow.shape"
   ]
  },
  {
   "cell_type": "code",
   "execution_count": 115,
   "metadata": {
    "_uuid": "5692669eb185fc58039f7b12d3986e3048cd68b2",
    "scrolled": true
   },
   "outputs": [
    {
     "data": {
      "text/plain": [
       "<52151x27380 sparse matrix of type '<class 'numpy.float64'>'\n",
       "\twith 1654786 stored elements in Compressed Sparse Row format>"
      ]
     },
     "execution_count": 115,
     "metadata": {},
     "output_type": "execute_result"
    }
   ],
   "source": [
    "bow"
   ]
  },
  {
   "cell_type": "code",
   "execution_count": 119,
   "metadata": {},
   "outputs": [
    {
     "data": {
      "text/html": [
       "<style>#sk-container-id-1 {color: black;background-color: white;}#sk-container-id-1 pre{padding: 0;}#sk-container-id-1 div.sk-toggleable {background-color: white;}#sk-container-id-1 label.sk-toggleable__label {cursor: pointer;display: block;width: 100%;margin-bottom: 0;padding: 0.3em;box-sizing: border-box;text-align: center;}#sk-container-id-1 label.sk-toggleable__label-arrow:before {content: \"▸\";float: left;margin-right: 0.25em;color: #696969;}#sk-container-id-1 label.sk-toggleable__label-arrow:hover:before {color: black;}#sk-container-id-1 div.sk-estimator:hover label.sk-toggleable__label-arrow:before {color: black;}#sk-container-id-1 div.sk-toggleable__content {max-height: 0;max-width: 0;overflow: hidden;text-align: left;background-color: #f0f8ff;}#sk-container-id-1 div.sk-toggleable__content pre {margin: 0.2em;color: black;border-radius: 0.25em;background-color: #f0f8ff;}#sk-container-id-1 input.sk-toggleable__control:checked~div.sk-toggleable__content {max-height: 200px;max-width: 100%;overflow: auto;}#sk-container-id-1 input.sk-toggleable__control:checked~label.sk-toggleable__label-arrow:before {content: \"▾\";}#sk-container-id-1 div.sk-estimator input.sk-toggleable__control:checked~label.sk-toggleable__label {background-color: #d4ebff;}#sk-container-id-1 div.sk-label input.sk-toggleable__control:checked~label.sk-toggleable__label {background-color: #d4ebff;}#sk-container-id-1 input.sk-hidden--visually {border: 0;clip: rect(1px 1px 1px 1px);clip: rect(1px, 1px, 1px, 1px);height: 1px;margin: -1px;overflow: hidden;padding: 0;position: absolute;width: 1px;}#sk-container-id-1 div.sk-estimator {font-family: monospace;background-color: #f0f8ff;border: 1px dotted black;border-radius: 0.25em;box-sizing: border-box;margin-bottom: 0.5em;}#sk-container-id-1 div.sk-estimator:hover {background-color: #d4ebff;}#sk-container-id-1 div.sk-parallel-item::after {content: \"\";width: 100%;border-bottom: 1px solid gray;flex-grow: 1;}#sk-container-id-1 div.sk-label:hover label.sk-toggleable__label {background-color: #d4ebff;}#sk-container-id-1 div.sk-serial::before {content: \"\";position: absolute;border-left: 1px solid gray;box-sizing: border-box;top: 0;bottom: 0;left: 50%;z-index: 0;}#sk-container-id-1 div.sk-serial {display: flex;flex-direction: column;align-items: center;background-color: white;padding-right: 0.2em;padding-left: 0.2em;position: relative;}#sk-container-id-1 div.sk-item {position: relative;z-index: 1;}#sk-container-id-1 div.sk-parallel {display: flex;align-items: stretch;justify-content: center;background-color: white;position: relative;}#sk-container-id-1 div.sk-item::before, #sk-container-id-1 div.sk-parallel-item::before {content: \"\";position: absolute;border-left: 1px solid gray;box-sizing: border-box;top: 0;bottom: 0;left: 50%;z-index: -1;}#sk-container-id-1 div.sk-parallel-item {display: flex;flex-direction: column;z-index: 1;position: relative;background-color: white;}#sk-container-id-1 div.sk-parallel-item:first-child::after {align-self: flex-end;width: 50%;}#sk-container-id-1 div.sk-parallel-item:last-child::after {align-self: flex-start;width: 50%;}#sk-container-id-1 div.sk-parallel-item:only-child::after {width: 0;}#sk-container-id-1 div.sk-dashed-wrapped {border: 1px dashed gray;margin: 0 0.4em 0.5em 0.4em;box-sizing: border-box;padding-bottom: 0.4em;background-color: white;}#sk-container-id-1 div.sk-label label {font-family: monospace;font-weight: bold;display: inline-block;line-height: 1.2em;}#sk-container-id-1 div.sk-label-container {text-align: center;}#sk-container-id-1 div.sk-container {/* jupyter's `normalize.less` sets `[hidden] { display: none; }` but bootstrap.min.css set `[hidden] { display: none !important; }` so we also need the `!important` here to be able to override the default hidden behavior on the sphinx rendered scikit-learn.org. See: https://github.com/scikit-learn/scikit-learn/issues/21755 */display: inline-block !important;position: relative;}#sk-container-id-1 div.sk-text-repr-fallback {display: none;}</style><div id=\"sk-container-id-1\" class=\"sk-top-container\"><div class=\"sk-text-repr-fallback\"><pre>KMeans(n_clusters=10, random_state=99)</pre><b>In a Jupyter environment, please rerun this cell to show the HTML representation or trust the notebook. <br />On GitHub, the HTML representation is unable to render, please try loading this page with nbviewer.org.</b></div><div class=\"sk-container\" hidden><div class=\"sk-item\"><div class=\"sk-estimator sk-toggleable\"><input class=\"sk-toggleable__control sk-hidden--visually\" id=\"sk-estimator-id-1\" type=\"checkbox\" checked><label for=\"sk-estimator-id-1\" class=\"sk-toggleable__label sk-toggleable__label-arrow\">KMeans</label><div class=\"sk-toggleable__content\"><pre>KMeans(n_clusters=10, random_state=99)</pre></div></div></div></div></div>"
      ],
      "text/plain": [
       "KMeans(n_clusters=10, random_state=99)"
      ]
     },
     "execution_count": 119,
     "metadata": {},
     "output_type": "execute_result"
    }
   ],
   "source": [
    "from sklearn.cluster import KMeans\n",
    "model = KMeans(n_clusters = 10,init='k-means++',random_state=99)\n",
    "model.fit(bow)"
   ]
  },
  {
   "cell_type": "code",
   "execution_count": 122,
   "metadata": {},
   "outputs": [
    {
     "data": {
      "text/html": [
       "<div>\n",
       "<style scoped>\n",
       "    .dataframe tbody tr th:only-of-type {\n",
       "        vertical-align: middle;\n",
       "    }\n",
       "\n",
       "    .dataframe tbody tr th {\n",
       "        vertical-align: top;\n",
       "    }\n",
       "\n",
       "    .dataframe thead th {\n",
       "        text-align: right;\n",
       "    }\n",
       "</style>\n",
       "<table border=\"1\" class=\"dataframe\">\n",
       "  <thead>\n",
       "    <tr style=\"text-align: right;\">\n",
       "      <th></th>\n",
       "      <th>Id</th>\n",
       "      <th>ProductId</th>\n",
       "      <th>UserId</th>\n",
       "      <th>ProfileName</th>\n",
       "      <th>HelpfulnessNumerator</th>\n",
       "      <th>HelpfulnessDenominator</th>\n",
       "      <th>Score</th>\n",
       "      <th>Time</th>\n",
       "      <th>Summary</th>\n",
       "      <th>Text</th>\n",
       "      <th>CleanedText</th>\n",
       "      <th>Bow Clus Label</th>\n",
       "      <th>Tfidf Clus Label</th>\n",
       "    </tr>\n",
       "  </thead>\n",
       "  <tbody>\n",
       "    <tr>\n",
       "      <th>451854</th>\n",
       "      <td>451855</td>\n",
       "      <td>B00004CXX9</td>\n",
       "      <td>AJH6LUC1UT1ON</td>\n",
       "      <td>The Phantom of the Opera</td>\n",
       "      <td>0</td>\n",
       "      <td>0</td>\n",
       "      <td>positive</td>\n",
       "      <td>2000-01-03</td>\n",
       "      <td>FANTASTIC!</td>\n",
       "      <td>Beetlejuice is an excellent and funny movie. K...</td>\n",
       "      <td>beetlejuic excel funni movi keaton hilari wack...</td>\n",
       "      <td>2</td>\n",
       "      <td>2</td>\n",
       "    </tr>\n",
       "    <tr>\n",
       "      <th>374421</th>\n",
       "      <td>374422</td>\n",
       "      <td>B00004CI84</td>\n",
       "      <td>A1048CYU0OV4O8</td>\n",
       "      <td>Judy L. Eans</td>\n",
       "      <td>2</td>\n",
       "      <td>2</td>\n",
       "      <td>positive</td>\n",
       "      <td>2000-01-09</td>\n",
       "      <td>GREAT</td>\n",
       "      <td>THIS IS ONE MOVIE THAT SHOULD BE IN YOUR MOVIE...</td>\n",
       "      <td>one movi movi collect fill comedi action whate...</td>\n",
       "      <td>2</td>\n",
       "      <td>2</td>\n",
       "    </tr>\n",
       "  </tbody>\n",
       "</table>\n",
       "</div>"
      ],
      "text/plain": [
       "            Id   ProductId          UserId               ProfileName  \\\n",
       "451854  451855  B00004CXX9   AJH6LUC1UT1ON  The Phantom of the Opera   \n",
       "374421  374422  B00004CI84  A1048CYU0OV4O8              Judy L. Eans   \n",
       "\n",
       "        HelpfulnessNumerator  HelpfulnessDenominator     Score       Time  \\\n",
       "451854                     0                       0  positive 2000-01-03   \n",
       "374421                     2                       2  positive 2000-01-09   \n",
       "\n",
       "           Summary                                               Text  \\\n",
       "451854  FANTASTIC!  Beetlejuice is an excellent and funny movie. K...   \n",
       "374421       GREAT  THIS IS ONE MOVIE THAT SHOULD BE IN YOUR MOVIE...   \n",
       "\n",
       "                                              CleanedText  Bow Clus Label  \\\n",
       "451854  beetlejuic excel funni movi keaton hilari wack...               2   \n",
       "374421  one movi movi collect fill comedi action whate...               2   \n",
       "\n",
       "        Tfidf Clus Label  \n",
       "451854                 2  \n",
       "374421                 2  "
      ]
     },
     "execution_count": 122,
     "metadata": {},
     "output_type": "execute_result"
    }
   ],
   "source": [
    "df = final\n",
    "df[\"Tfidf Clus Label\"] = model.labels_ # the last column you can see the label numebers\n",
    "df.head(2)"
   ]
  },
  {
   "cell_type": "code",
   "execution_count": 125,
   "metadata": {},
   "outputs": [],
   "source": [
    "# visually how points or reviews are distributed across 10 clusters \n",
    "import matplotlib.pyplot as plt"
   ]
  },
  {
   "cell_type": "code",
   "execution_count": 127,
   "metadata": {
    "_uuid": "3c4d242e90ccf1ad6e23eba1e7d075b0e98d26b9"
   },
   "outputs": [
    {
     "data": {
      "image/png": "[encoded data removed]",
      "text/plain": [
       "<Figure size 432x288 with 1 Axes>"
      ]
     },
     "metadata": {
      "needs_background": "light"
     },
     "output_type": "display_data"
    }
   ],
   "source": [
    "plt.bar([x for x in range(10)], df.groupby(['Tfidf Clus Label'])['Text'].count(), alpha = 0.4)\n",
    "plt.title('KMeans cluster points')\n",
    "plt.xlabel(\"Cluster number\")\n",
    "plt.ylabel(\"Number of points\")\n",
    "plt.show()"
   ]
  },
  {
   "cell_type": "code",
   "execution_count": 129,
   "metadata": {
    "_uuid": "99d72a6cf17d9fa064d583b105d0acfae4506240"
   },
   "outputs": [
    {
     "name": "stderr",
     "output_type": "stream",
     "text": [
      "/home/bruno/anaconda3/lib/python3.9/site-packages/sklearn/utils/deprecation.py:87: FutureWarning: Function get_feature_names is deprecated; get_feature_names is deprecated in 1.0 and will be removed in 1.2. Please use get_feature_names_out instead.\n",
      "  warnings.warn(msg, category=FutureWarning)\n"
     ]
    }
   ],
   "source": [
    "terms1 = tfidf_vect.get_feature_names()"
   ]
  },
  {
   "cell_type": "code",
   "execution_count": 130,
   "metadata": {
    "_uuid": "0f3e4313d2123dabe4bd6251ee28a19c28c81c81"
   },
   "outputs": [
    {
     "data": {
      "text/plain": [
       "['aaa',\n",
       " 'aaaa',\n",
       " 'aaaaaaarrrrrggghhh',\n",
       " 'aaaah',\n",
       " 'aaaallll',\n",
       " 'aaaand',\n",
       " 'aaahhhhhh',\n",
       " 'aachen',\n",
       " 'aadd']"
      ]
     },
     "execution_count": 130,
     "metadata": {},
     "output_type": "execute_result"
    }
   ],
   "source": [
    "terms1[1:10]"
   ]
  },
  {
   "cell_type": "code",
   "execution_count": 134,
   "metadata": {
    "_uuid": "a838d51aa844b442dddb520d43e1e619ab5540bc"
   },
   "outputs": [
    {
     "data": {
      "text/plain": [
       "Tfidf Clus Label\n",
       "0     1175\n",
       "1     8462\n",
       "2    20232\n",
       "3     3216\n",
       "4     6946\n",
       "5     4701\n",
       "6     1345\n",
       "7     1508\n",
       "8     3463\n",
       "9     1103\n",
       "Name: Text, dtype: int64"
      ]
     },
     "execution_count": 134,
     "metadata": {},
     "output_type": "execute_result"
    }
   ],
   "source": [
    "df1.groupby(['Tfidf Clus Label'])['Text'].count()"
   ]
  },
  {
   "cell_type": "code",
   "execution_count": 136,
   "metadata": {
    "_uuid": "af81aac2ef31726af2b6d34e11a3a6ab5d621322"
   },
   "outputs": [
    {
     "name": "stdout",
     "output_type": "stream",
     "text": [
      "Top terms per cluster:\n",
      "Cluster 0: cooke\n",
      " chocmod\n",
      " tabl\n",
      " loriva\n",
      " liesur\n",
      " glutamin\n",
      " golosina\n",
      " greatesti\n",
      " freebe\n",
      " dysfunct\n",
      "Cluster 1: tabl\n",
      " liesur\n",
      " flatten\n",
      " golosina\n",
      " dragonfli\n",
      " chocmod\n",
      " vivid\n",
      " stroe\n",
      " tooooooooooo\n",
      " superautomat\n",
      "Cluster 2: unmil\n",
      " loriva\n",
      " greatesti\n",
      " pretens\n",
      " golosina\n",
      " oilyyyyyy\n",
      " magnif\n",
      " liesur\n",
      " flatten\n",
      " tabl\n",
      "Cluster 3: talbott\n",
      " greem\n",
      " dragonfli\n",
      " flatten\n",
      " tabl\n",
      " balitmor\n",
      " liesur\n",
      " golosina\n",
      " greatesti\n",
      " loriva\n",
      "Cluster 4: amazinggrass\n",
      " predecessor\n",
      " oomplet\n",
      " pretens\n",
      " statist\n",
      " filo\n",
      " greatesti\n",
      " byrd\n",
      " seven\n",
      " livng\n",
      "Cluster 5: cofee\n",
      " csb\n",
      " flatten\n",
      " liesur\n",
      " tabl\n",
      " stickler\n",
      " golosina\n",
      " rhapsodi\n",
      " bonnat\n",
      " greatesti\n",
      "Cluster 6: barolo\n",
      " chocmod\n",
      " tabl\n",
      " sleepov\n",
      " proced\n",
      " liesur\n",
      " golosina\n",
      " dysfunct\n",
      " oilyyyyyy\n",
      " greatesti\n",
      "Cluster 7: caterpillar\n",
      " fontera\n",
      " dysfunct\n",
      " loriva\n",
      " liesur\n",
      " tomthi\n",
      " candl\n",
      " oilyyyyyy\n",
      " favor\n",
      " chief\n",
      "Cluster 8: diva\n",
      " tomthi\n",
      " fontera\n",
      " loriva\n",
      " chex\n",
      " dysfunct\n",
      " gerkhin\n",
      " oilyyyyyy\n",
      " liesur\n",
      " pretens\n",
      "Cluster 9: chipotl\n",
      " pom\n",
      " balitmor\n",
      " flatten\n",
      " liesur\n",
      " tabl\n",
      " rusk\n",
      " sleepov\n",
      " loriva\n",
      " greatesti\n"
     ]
    }
   ],
   "source": [
    "print(\"Top terms per cluster:\")\n",
    "order_centroids = model.cluster_centers_.argsort()[:, ::-1]\n",
    "for i in range(10):\n",
    "    print(\"Cluster %d:\" % i, end='')\n",
    "    for ind in order_centroids[i, :10]:\n",
    "        print(' %s' % terms1[ind], end='')\n",
    "        print()"
   ]
  },
  {
   "cell_type": "markdown",
   "metadata": {
    "_uuid": "3c0a9d4f0869e28e38fb573c37e412c7424af8c2"
   },
   "source": [
    "# Average Word to Vector"
   ]
  },
  {
   "cell_type": "code",
   "execution_count": 138,
   "metadata": {},
   "outputs": [
    {
     "data": {
      "text/plain": [
       "(52151, 13)"
      ]
     },
     "execution_count": 138,
     "metadata": {},
     "output_type": "execute_result"
    }
   ],
   "source": [
    "final.shape"
   ]
  },
  {
   "cell_type": "code",
   "execution_count": 152,
   "metadata": {},
   "outputs": [],
   "source": [
    "final = final.groupby('Score', group_keys=False).apply(lambda x: x.sample(frac=0.1))"
   ]
  },
  {
   "cell_type": "code",
   "execution_count": 153,
   "metadata": {
    "_uuid": "0327906c371acaa309a7155c50e619bbeca1fe3b"
   },
   "outputs": [],
   "source": [
    "i=0\n",
    "list_of_sent=[]\n",
    "for sent in final['CleanedText'].values:\n",
    "    list_of_sent.append(sent.split())"
   ]
  },
  {
   "cell_type": "code",
   "execution_count": 154,
   "metadata": {
    "_uuid": "bbf2f9b6919ee748d926da5b74e0396abf5284c0"
   },
   "outputs": [
    {
     "name": "stdout",
     "output_type": "stream",
     "text": [
      "read review walnut amazon com also order one packag senior like order packag sent friend differ citi everyon like baklawa howev last week decid order packag baklawa baklava pistachio believ bodi like would think stuff good stuff made pistachio wastag money feel sorri spend doller poor qualiti product without tast dont know pistachio use product low qualiti problem\n",
      "*****************************************************************\n",
      "['read', 'review', 'walnut', 'amazon', 'com', 'also', 'order', 'one', 'packag', 'senior', 'like', 'order', 'packag', 'sent', 'friend', 'differ', 'citi', 'everyon', 'like', 'baklawa', 'howev', 'last', 'week', 'decid', 'order', 'packag', 'baklawa', 'baklava', 'pistachio', 'believ', 'bodi', 'like', 'would', 'think', 'stuff', 'good', 'stuff', 'made', 'pistachio', 'wastag', 'money', 'feel', 'sorri', 'spend', 'doller', 'poor', 'qualiti', 'product', 'without', 'tast', 'dont', 'know', 'pistachio', 'use', 'product', 'low', 'qualiti', 'problem']\n"
     ]
    }
   ],
   "source": [
    "print(final['CleanedText'].values[0])\n",
    "print(\"*****************************************************************\")\n",
    "print(list_of_sent[0])"
   ]
  },
  {
   "cell_type": "code",
   "execution_count": 155,
   "metadata": {
    "_uuid": "a9640c552a627717a576b42181c514218e8d0c46"
   },
   "outputs": [],
   "source": [
    "\n",
    "import re\n",
    "def cleanhtml(sentence): #function to clean the word of any html-tags\n",
    "    cleanr = re.compile('<.*?>')\n",
    "    cleantext = re.sub(cleanr, ' ', sentence)\n",
    "    return cleantext\n",
    "def cleanpunc(sentence): #function to clean the word of any punctuation or special characters\n",
    "    cleaned = re.sub(r'[?|!|\\'|\"|#]',r'',sentence)\n",
    "    cleaned = re.sub(r'[.|,|)|(|\\|/]',r' ',cleaned)\n",
    "    return  cleaned"
   ]
  },
  {
   "cell_type": "code",
   "execution_count": 156,
   "metadata": {
    "_uuid": "83df91521ad074e5625208c0b38a08fb8a6bc4bc"
   },
   "outputs": [],
   "source": [
    "i=0\n",
    "list_of_sent_train=[]\n",
    "for sent in final['CleanedText'].values:\n",
    "    filtered_sentence=[]\n",
    "    sent=cleanhtml(sent)\n",
    "    for w in sent.split():\n",
    "        for cleaned_words in cleanpunc(w).split():\n",
    "            if(cleaned_words.isalpha()):    \n",
    "                filtered_sentence.append(cleaned_words.lower())\n",
    "            else:\n",
    "                continue \n",
    "    list_of_sent_train.append(filtered_sentence)"
   ]
  },
  {
   "cell_type": "code",
   "execution_count": 157,
   "metadata": {
    "_uuid": "a42a539ac97ddc07d4a66949c87c4903431cbc52"
   },
   "outputs": [],
   "source": [
    "import gensim\n",
    "w2v_model=gensim.models.Word2Vec(list_of_sent_train,vector_size=100, workers=4)"
   ]
  },
  {
   "cell_type": "code",
   "execution_count": 158,
   "metadata": {
    "_uuid": "a6d900f47371e98ac8119b6e5997ad797a5b1b0a"
   },
   "outputs": [
    {
     "name": "stderr",
     "output_type": "stream",
     "text": [
      "100%|█████████████████████████████████████| 5215/5215 [00:00<00:00, 9994.74it/s]\n"
     ]
    },
    {
     "data": {
      "text/plain": [
       "(5215, 100)"
      ]
     },
     "execution_count": 158,
     "metadata": {},
     "output_type": "execute_result"
    }
   ],
   "source": [
    "import numpy as np\n",
    "sent_vectors = []; # the avg-w2v for each sentence/review is stored in this train\n",
    "for sent in tqdm(list_of_sent_train): # for each review/sentence\n",
    "    sent_vec = np.zeros(100) # as word vectors are of zero length\n",
    "    cnt_words =0; # num of words with a valid vector in the sentence/review\n",
    "    for word in sent: # for each word in a review/sentence\n",
    "        try:\n",
    "            vec = w2v_model.wv[word]\n",
    "            sent_vec += vec\n",
    "            cnt_words += 1\n",
    "        except:\n",
    "            pass\n",
    "    sent_vec /= cnt_words\n",
    "    sent_vectors.append(sent_vec)\n",
    "sent_vectors = np.array(sent_vectors)\n",
    "sent_vectors = np.nan_to_num(sent_vectors)\n",
    "sent_vectors.shape\n"
   ]
  },
  {
   "cell_type": "code",
   "execution_count": null,
   "metadata": {},
   "outputs": [],
   "source": []
  },
  {
   "cell_type": "code",
   "execution_count": 159,
   "metadata": {},
   "outputs": [],
   "source": [
    "from sklearn.metrics import pairwise_distances\n",
    "from scipy.spatial.distance import cosine\n",
    "distance_array = pairwise_distances(sent_vectors, metric='cosine')"
   ]
  },
  {
   "cell_type": "code",
   "execution_count": 161,
   "metadata": {},
   "outputs": [],
   "source": [
    "from sklearn.cluster import DBSCAN\n",
    "clustering = DBSCAN(eps=0.6, min_samples=2).fit(distance_array)"
   ]
  },
  {
   "cell_type": "code",
   "execution_count": 162,
   "metadata": {
    "_uuid": "3121d26680118e8f63009594bd24a2cfb4889108",
    "scrolled": true
   },
   "outputs": [
    {
     "data": {
      "text/plain": [
       "array([ 0,  0,  0, ...,  0,  0, 31])"
      ]
     },
     "execution_count": 162,
     "metadata": {},
     "output_type": "execute_result"
    }
   ],
   "source": [
    "clustering.labels_\n"
   ]
  },
  {
   "cell_type": "code",
   "execution_count": 164,
   "metadata": {
    "_uuid": "32bc4d90b70f0826f864d89c8c4bff75a9083622"
   },
   "outputs": [
    {
     "data": {
      "text/html": [
       "<div>\n",
       "<style scoped>\n",
       "    .dataframe tbody tr th:only-of-type {\n",
       "        vertical-align: middle;\n",
       "    }\n",
       "\n",
       "    .dataframe tbody tr th {\n",
       "        vertical-align: top;\n",
       "    }\n",
       "\n",
       "    .dataframe thead th {\n",
       "        text-align: right;\n",
       "    }\n",
       "</style>\n",
       "<table border=\"1\" class=\"dataframe\">\n",
       "  <thead>\n",
       "    <tr style=\"text-align: right;\">\n",
       "      <th></th>\n",
       "      <th>Id</th>\n",
       "      <th>ProductId</th>\n",
       "      <th>UserId</th>\n",
       "      <th>ProfileName</th>\n",
       "      <th>HelpfulnessNumerator</th>\n",
       "      <th>HelpfulnessDenominator</th>\n",
       "      <th>Score</th>\n",
       "      <th>Time</th>\n",
       "      <th>Summary</th>\n",
       "      <th>Text</th>\n",
       "      <th>CleanedText</th>\n",
       "      <th>Bow Clus Label</th>\n",
       "      <th>Tfidf Clus Label</th>\n",
       "      <th>w2v Clus Label</th>\n",
       "    </tr>\n",
       "  </thead>\n",
       "  <tbody>\n",
       "    <tr>\n",
       "      <th>551643</th>\n",
       "      <td>551644</td>\n",
       "      <td>B0002HDM0Q</td>\n",
       "      <td>A3MPN3PLR87EC</td>\n",
       "      <td>Sardar N. Khan</td>\n",
       "      <td>7</td>\n",
       "      <td>10</td>\n",
       "      <td>negative</td>\n",
       "      <td>2006-07-06</td>\n",
       "      <td>very poor quality stuff</td>\n",
       "      <td>After reading reviews about Baklawa-w/Walnuts ...</td>\n",
       "      <td>read review walnut amazon com also order one p...</td>\n",
       "      <td>0</td>\n",
       "      <td>4</td>\n",
       "      <td>0</td>\n",
       "    </tr>\n",
       "    <tr>\n",
       "      <th>375433</th>\n",
       "      <td>375434</td>\n",
       "      <td>B000EITV3K</td>\n",
       "      <td>A25ZI768DV2K8S</td>\n",
       "      <td>Denise M. Ostmeyer</td>\n",
       "      <td>1</td>\n",
       "      <td>2</td>\n",
       "      <td>negative</td>\n",
       "      <td>2009-09-16</td>\n",
       "      <td>Not that Great</td>\n",
       "      <td>I really wouldn't recommend these to my friend...</td>\n",
       "      <td>realli wouldnt recommend friend realli look so...</td>\n",
       "      <td>0</td>\n",
       "      <td>0</td>\n",
       "      <td>0</td>\n",
       "    </tr>\n",
       "  </tbody>\n",
       "</table>\n",
       "</div>"
      ],
      "text/plain": [
       "            Id   ProductId          UserId         ProfileName  \\\n",
       "551643  551644  B0002HDM0Q   A3MPN3PLR87EC      Sardar N. Khan   \n",
       "375433  375434  B000EITV3K  A25ZI768DV2K8S  Denise M. Ostmeyer   \n",
       "\n",
       "        HelpfulnessNumerator  HelpfulnessDenominator     Score       Time  \\\n",
       "551643                     7                      10  negative 2006-07-06   \n",
       "375433                     1                       2  negative 2009-09-16   \n",
       "\n",
       "                        Summary  \\\n",
       "551643  very poor quality stuff   \n",
       "375433           Not that Great   \n",
       "\n",
       "                                                     Text  \\\n",
       "551643  After reading reviews about Baklawa-w/Walnuts ...   \n",
       "375433  I really wouldn't recommend these to my friend...   \n",
       "\n",
       "                                              CleanedText  Bow Clus Label  \\\n",
       "551643  read review walnut amazon com also order one p...               0   \n",
       "375433  realli wouldnt recommend friend realli look so...               0   \n",
       "\n",
       "        Tfidf Clus Label  w2v Clus Label  \n",
       "551643                 4               0  \n",
       "375433                 0               0  "
      ]
     },
     "execution_count": 164,
     "metadata": {},
     "output_type": "execute_result"
    }
   ],
   "source": [
    "df = final\n",
    "df['w2v Clus Label'] = clustering.labels_ # the last column you can see the label numebers\n",
    "df.head(2)"
   ]
  },
  {
   "cell_type": "code",
   "execution_count": 165,
   "metadata": {},
   "outputs": [
    {
     "data": {
      "text/plain": [
       "w2v Clus Label\n",
       "-1      133\n",
       " 0     4962\n",
       " 1        9\n",
       " 2        2\n",
       " 3        2\n",
       " 4        2\n",
       " 5       21\n",
       " 6        3\n",
       " 7        6\n",
       " 8        9\n",
       " 9        2\n",
       " 10       3\n",
       " 11       3\n",
       " 12       3\n",
       " 13       2\n",
       " 14       3\n",
       " 15       2\n",
       " 16       2\n",
       " 17       3\n",
       " 18       3\n",
       " 19       2\n",
       " 20       2\n",
       " 21       6\n",
       " 22       2\n",
       " 23       2\n",
       " 24       5\n",
       " 25       3\n",
       " 26       2\n",
       " 27       2\n",
       " 28       4\n",
       " 29       2\n",
       " 30       2\n",
       " 31       2\n",
       " 32       2\n",
       " 33       2\n",
       "Name: Text, dtype: int64"
      ]
     },
     "execution_count": 165,
     "metadata": {},
     "output_type": "execute_result"
    }
   ],
   "source": [
    "df.groupby(['w2v Clus Label'])['Text'].count()"
   ]
  },
  {
   "cell_type": "code",
   "execution_count": 166,
   "metadata": {},
   "outputs": [
    {
     "data": {
      "text/plain": [
       "array([\"I ordered two boxes of 12 cans each.  Amazon poorly protects this product in shipping.  Of the 24 cans, 9 of them were dented and damaged, some in each box.  I've ordered canned items one other time and got the same results.  So I had decided not to mail order canned food again.  Well, I did.  This time, I've learned my lesson.  Dented up cans risk being compromised.\",\n",
       "       'This coffee is nothing like I expected coffee so weak it looks like tea.  It taste like I am drinking water with sugar (if I add sugar)',\n",
       "       'This \"cappuccino\" doesn\\'t taste good at all! DO NOT BUY, and will never buy again. I would not recommend this product to anyone.',\n",
       "       'This product is not environmentally sensitive ... you will put it in the trash after one cup. Thus, thousands of years from now, your mistake will endure!!',\n",
       "       'I can get this at my local grocery store for $2.69 per can ($32.28 for 12).',\n",
       "       \"I bought this food thinking my dog, Jake, would like it.  It has wonderful ingredients and is very healthy.  He just wouldn't eat it!  Nothing against the dog food.  Just personal taste, I guess.\",\n",
       "       'All of my cats eat Castor & Pollux Indoor Dry Cat Food, but only 2 of my cats will consistently eat this wet food.  A third cat will nibble at it and then walk away.<br /><br />The non-eaters have not traditionally been finicky eaters.  I have fed them Friskies Special Diet wet food in the past, but one of my cats seemed to react to the Friskies (itchy skin).  They now have no other wet food choice anymore, so all I can determine is they simply do not like the taste of this Castor & Pollux food.<br /><br />I will not purchase again.',\n",
       "       \"I did not know that I was ordering biscuit crumbs. That is exactly what I received. Such a lousy product. It's Amazon's fault for shipping out expires products. Will NEVER order food from Amazon.com ever.\",\n",
       "       'that is so unfair. I was a faithful customer now i have to go buy them somewhere else . Why Amazon!!!',\n",
       "       \"Kalamata oolives are great, Peloponnese Kalamatas are unique.<br /><br />Other brands simply don't have the piquant, grapey taste.<br /><br />Highly recommended.\",\n",
       "       'I start my day EVERY day with this.  I can only find it in the commissary and when they are out I panic.  LOVE Amazon being my back-up plan, they NEVER let me down!',\n",
       "       'Great product, convenient and cost efficient.  Good quality.  Will order this product again.  Fast on delivery. Dogs love it and have no issues with it.',\n",
       "       \"Makes my dog's poo smell like roses!  No just kidding, but in all seriousness, this is some quality good food!  Rock on !\",\n",
       "       'This is the only flavor of soft food my cats will eat. They eat dry food but the come running for this.',\n",
       "       'Very good product and very good service.  Highly pleased.  Will definitely order more.',\n",
       "       'This is not the first time I have bought these from this seller. I have two dogs who are in love with these. They only get them as special treats but as soon as I start towards the box they are there waiting.',\n",
       "       \"Tastes like an iced coffee with a little sugar added.  It's a little thin, like a traditional ice coffee where the ice has melted to water it down a bit.  The coffee flavor is probably a little light for most people who like dark bold coffee, and probably a little dark for people who like light coffee.  It's right in the middle.  It's not exceptional, but tastes fine.\",\n",
       "       'Taylors of Harrogate Green Tea with Jasmine is some of the most divine tea in the world.  Their other teas are good too.',\n",
       "       'You know how picky a toddler can be, my daughter (18months old) love this, it is the only breakfast she likes with her milk. We try all the different types but the one with Peach is her favorite.',\n",
       "       'This coffee was in a \"sample\" selection when we ordered our Keurig Brewer.  It was by far our favorite!  I have ordered this coffee several times from Amazon.  It is a dark roast, but not too strong.',\n",
       "       'Carnation Chocolate Malt mix makes the best chocolate malts that can be created!<br />Add some vanilla ice cream for a fabulous malt!  And, use it to make the best hot chocolate you have ever tasted!  All you need is this mix, some milk, and a marshmallow or two.',\n",
       "       'The dog really loved these bones and it seemed to freshen her breath.  It was a good treat for a dog with tummy troubles.',\n",
       "       'Yes, they are a bit expensive but, they are high quality, and pure nutrition.  Good training treat and not too high in calories.  Highly recommend this!',\n",
       "       'Nice to have these organic granola bars.  My kids love them and they are a healthy snack.  I give them at their lunch for an extra cookie treat.',\n",
       "       'Rawhides are nasty, these are a great alternative. Made with natural ingredients, they will keep your dog engaged for a while and give them nice breath in the process. I highly recommend this product.',\n",
       "       \"I've been taking Cytomax for a few years now and I find it helpful in marathons and triathlons.  I would highly recommend the tropical fruit flavor.\",\n",
       "       \"Not only are these a great selection of Sahale's products, but they taste great and are soooooooo good for you.\",\n",
       "       'my dogs love these treats my beagle only treat she will eat i tryed every treat on the market but this is the only one',\n",
       "       \"I've tried several different coffee's and this is the best so far. If you don't like  strong coffee, then this is not for you.\",\n",
       "       \"Love, Love, Love!  I've been using for years, if you haven't tried it, please do.  Great customer service\",\n",
       "       \"I love these thing, I love chewing and drinking the juice. nostalgia! Who doesn't love these things? Just know I like em.\",\n",
       "       \"I have a one and a half year old shiba. He loves to chew and enjoys this toy very much. Amazon's price is way better than what you will find in a pet store.\",\n",
       "       'This stuff is the only grain-free canned cat food that all four of my furry buddies agree on!',\n",
       "       'Like other Illy coffees, this is fantastic.  The coffee taste is strong and rich but not bitter.',\n",
       "       'Microwave pork rinds make a great and easy snack for diabetics. They are extremely low carb and hi protein and also low fat for those who are dieting.',\n",
       "       '2 bags to 64 ounces of water and stick it in the refrigerator - very refreshing any time of year',\n",
       "       'offers a cool flavor, not bad for the price. relieved my skepticism because due to the price it turned out to be a high quality product.',\n",
       "       'I order a bag of these every other month. I live in Korea currently and the gets here fairly quick.',\n",
       "       'I love amazon and I received a great product for a great price. I really recommend others to purchase this product.',\n",
       "       'We have found that the Newmans coffee in the K-cups has the best flavor of all brands. The price from this dealer is the best.',\n",
       "       'I was very happy with my order.  It arrived on time and as described.  Thank you!!',\n",
       "       'These are tasty but a little hotter than I like.',\n",
       "       \"This is the first dog treat I've bought that my dogs actually fight over. They love them.\",\n",
       "       'Take care if choosing this food as they recently released a new formula that has more grains and has resulted in the superpoops for my dog that I have been feeding canidae for 2 years.',\n",
       "       \"A nice flavored coffee in decaf.  Not many flavors in decaf.  A good bargin in k-cups.<br />It's a smooth cup of coffee.\",\n",
       "       'Nice to know my 15 year old cat is eating healthy organic food (and has done for years) AND that he loves the taste!',\n",
       "       'If you like coconut and peanut butter then you will like this candy. It is an oldie but a goody.',\n",
       "       'Our Bischon Loves these treats, so does our cat! And we love that they have fresh fruits and veggies in them! Yeah!',\n",
       "       'The syrup has a good taste. The flavor of B grade is better than A grade, which is only sweet.',\n",
       "       'Maybe not the best I have ever tasted but they are very good',\n",
       "       'My 14 yr. old terrier is finicky about her food, but she never refuses one of these treats.  It has helped her with her early-stage congestive heart failure.  I highly recommend these treats.',\n",
       "       'This coffee we have purchased many times from Amazon and each time it has met all of our expectations. We will purchase it again',\n",
       "       'This product sell in the the store at a great price. What is up with the online price. The price pluse the fee to shop the product, that expensive. Go to Walmart.',\n",
       "       \"I love this coffee is a healthy coffee, smells like coffee, I love it!!! and if we add the ganoderma of the best I've tasted!\",\n",
       "       'If you have a K cup machine Amazon is the place to buy your coffee. The prices are great and buying from Amazon directly is seamless.',\n",
       "       \"Tully's coffee is superior and it holds its on against Starbucks and others.  With Keurig coffee brewers you get the same quality coffee as having a cup at your local Tully's.\",\n",
       "       'Rich, great tasting dark coffee. Not bitter at all. A good coffee for those that enjoy a dark richer tasting coffee that is decaf.',\n",
       "       \"We're HOOKED on this stuff.  This stuff is really great, and I love that it doesn't have a ton of sugar.  It's way better than nutella and much healthier.  Highly, highly recommend this!\",\n",
       "       'I order 5lbs of these at a time and they last me about 2 or three months. Maybe I need to order more of them more frequently.',\n",
       "       'This is awesome dog food. It smells like a human homemade beef stew. It even has a gravy in the can. My 8 dogs love it!',\n",
       "       'This milk taste pretty good. I was expecting a not so fresh taste but it taste just like regular milk from the grocery store',\n",
       "       'My dog goes crazy for Zukes mini naturals. And I am very pleased with Zukes because the treats are made in the United States with healthy ingredients. Zukes is now the only treats that I give my dog and he just loves them, highly recommend Zukes.',\n",
       "       'I usually enjoy my coffee but the package was split and coffee grounds were in every cup of coffee making my mornings unhappy',\n",
       "       'Well designed, 16 oz capacity.  Lid keeps tea warm for extended drinking.  I use this every day, multiple infusions, very pleased.',\n",
       "       \"For a bar with chocolate, these aren't overly sweet. You can taste the cherry as well. The bar is on the softer side.\",\n",
       "       'I have so far ordered them 3-4 times and always have liked them. You get them on amazon at the same price you pay for them at any indian grocery store, which is unlike any other Indian dessert that you find on amazon.  Price is one of the reasons, we keep buying them from amazon, followed by convenient 2-days shopping from amazon.',\n",
       "       'Kaia foods granola is not only yummy (all three flavors) but it is also very healthy!  Our entire family eats it for breakfast.  It is also a great quick snack.  Highly recommended.',\n",
       "       'Our Airedale loves the taste of the Beef Freeze Dried Dog Treats which we use for training. It really works',\n",
       "       \"My husband is a paraplegic and was having UTIs constantly.  Since he started drinking a cup of this tea every morning, he hasn't had a UTI for a year.\",\n",
       "       'I bought the everlasting treat for mine and my sisters dog.  Both dogs devoured them and for our picky dogs that gives this treat a 5 star rating.',\n",
       "       \"Our favorite K-Cup is Gloria Jean's Hazelnut. We have tried other brands but this is our preferred. Always the same.\",\n",
       "       'I just love this coffee, I have not been able to find a coffee as good in the local stores.',\n",
       "       'I am very satified with the coffee very good price.  The price beats my local store and the coffee is exactly what I normally purchase.',\n",
       "       'Very good product - K-Cups are our only choice now and this coffee is our only coffee.',\n",
       "       \"This is a great unusual touch to add to the table.  It's very distinctive and rates high marks for coolnes.\",\n",
       "       'I have 4 dogs who aand it is very hard to find 1 brand of dog food that works for all of them. Pro Plan worked for all of them . I was very happy with this product',\n",
       "       'This cacao is some of the better cacao I have tasted. Excellant quality and great price! I would definately recommend',\n",
       "       'Great product and great price.  I paid $1 more per bag at my local grocery store.  Resealable bag.  Store in frig.',\n",
       "       \"This snack is highly nutritious and great tasting.  Amazon's price is far too high.  I buy the identical product at Costco for $7.79.\",\n",
       "       'My dogs love this food and the ear problems one of my dogs was having are clearing up nicely. Thank you',\n",
       "       'this is a great product, especially if you have allergies.  it is almost totally allergin free.  the jelly beans have a wide choice of great flavors.  would highly recommend.',\n",
       "       'HAVE BEEN DRINKING SENSEO COFFEE FOR SEVERAL YEARS AND LOVE IT.  THE AMAZON PRICE IS MUCH CHEAPER THAN THE GROCERY STORE.',\n",
       "       \"It really does what they say.  It tastes good but I don't like artificial sweeteners.\",\n",
       "       'This is the best spiced tea I have ever had.<br />The flavors are strong and do not weaken after brewing.<br />I highly recommend it.',\n",
       "       'I am always a little unsure about getting coffee online, but this was wonderful.  I look forward every day to my cup (or two or three...) in the mornings.',\n",
       "       'I have 3 dogs, all eat and love Beneful. They end up happy and are healthy...<br /><br />I am so happy with this food... (and the dogs too)',\n",
       "       'It cost me more for the postage than the product<br />I would not order this again because of the cost<br />on shipping',\n",
       "       \"I'm never disappointed with the Breakfast Blend Coffee from Green Mountain Coffee.  It's always fresh and makes a very smooth cup of coffee, never bitter.\",\n",
       "       'Great coffee - much better price when you order on a regular basis thru Amazon than you can get in grocery stores or other websites.',\n",
       "       'We enjoyed these, and they are a healthy snack.  They are not low calorie, but very nutritious.',\n",
       "       \"My rescue cat loves these pates and this one, although not her favorite, is readily gulped down whenever I serve it to her.  These varieties have such a high nutritional value that they've helped her coat and overall health immensely.  Great food, price is high though - I pay about six dollars less at the grocery store.  Highly recommend!\",\n",
       "       'My dog Alphi loves this healthy treat.  Amazon offers a great price.  I highly recommend this product if your dog is finicky.',\n",
       "       'As with the extract, great product of high quality and arrived in less than a week.  I will be ordering from them again.',\n",
       "       'Excellent Quality and taste. Very aromatic and nice consistency. It does have some root fibers (fibrous pulp) though.<br />Good price and Volume.',\n",
       "       'Fantastic strong tea.  One bag in a 24 oz. tea pot is just right for me.',\n",
       "       'Very Convenient and at a good price.<br /><br />Thanks<br /><br />Jim B',\n",
       "       \"These panko bread crumbs are good and it's great having a supply on hand.  I bought them at Amazon because the price was better than the grocery store.\",\n",
       "       'I loved these banana chips. They are very good quality and you get a ton of them in the bag. Would recommend them.',\n",
       "       'All around great experience, from now on i will e ordering all my dog food through them.  Great price and fast shipping.',\n",
       "       'These thing are like crack for dogs. I am not sure of the make-up but the doggies sure love them.',\n",
       "       'I am pleased with the mix of coffee in this pack. I will order this coffee sampler again when we need more!',\n",
       "       'It is hard to find decaf K cups in the stores. This way I was able to get a good selection and they were delivered right to my door.',\n",
       "       'Great item, great taste, will buy from again! I like the item because it is full of potassium! A great seller very great prices, super low prices! Fast shipping.',\n",
       "       'I received my package of Green Tea with three days and it was exactly as decribed in the ad.',\n",
       "       'My cats love these Whiskers Temptation treats and Amazon is the only place I can find them.  As I have five cats it is much more convenient than the  hairball gel.',\n",
       "       'You can taste the quality and care that goes into these chocolates. Great flavor, I highly recommend it. You have to try for yourself!',\n",
       "       'These Blue Buffalo Health Bars are very healthy for your dog and made with the best ingredients.  Our dogs love them !  We always buy from Amazon due to lowest price, free shipping (over $ 25) and the excellent customer service.  Very highly recommended.',\n",
       "       'An excellant tea for Keurig Brewers...  Did I mention that Amazon is the only place I can get many of the brewing cups for Keurig Brewer!',\n",
       "       'This coconut oil is the best.  It tolerates very high heat; great for stir fry and lends just a nice hint of coconut flavor!',\n",
       "       'Have loved this tea for some time. What surprises me, unpleasantly, is the price through Amazon. I can get this for $10 directly from Republic of Tea, and for $9 through other sites. To pay more than list price through Amazon is unacceptable.',\n",
       "       'These bars are one of my favorites.  They are the lowest in calories of all the Larabars, too.  The cherry pie bar contains just Dates, Almonds, and Unsweetened Cherries.  Total calories = 190.  Total fat = 9 gm.  No sodium.  Total carbs = 24g (4g fiber, 17g sugars)',\n",
       "       'High quality product, the dog loves them and they are made in the USA...they do have a strong fish smell however.',\n",
       "       \"This is a great treat for my dogs. I've been buying them for 12 years and they never turn it down.\",\n",
       "       \"Buying the 96 cup supply lessens trips to the grocery.  It is as though the coffee fairy leaves my husband's java on the front pourch:)\",\n",
       "       \"I don't like strong coffee and this is a really aromatic blend and a very smooth coffee.  It is a shame that it is is seasonal.\",\n",
       "       'This is a robust dark roast coffee. My husband and I are coffee snobs and we love this coffee. It is so smooth and never bitter.',\n",
       "       \"I don't know how they do it, but most flavored coffess only taste slightly like what they are supposed to taste like.  This one really tastes like french toast with syrup.  I love it!\",\n",
       "       'My sister was visiting with her 2 Cavalier King Charles Spaniels when my dog Jake, a Golden Retriever Mix, had an opportunity to \"sample\" their Newman\\'s Own dog food while they weren\\'t looking, He loved it; so I bought it at my local grocery store. Amazon\\'s pricing, especially using the \"subscription\" is so much lower than the grocery store. I don\\'t have to think about it, it just arrives every month.',\n",
       "       \"My daughter loves this!  She is picky so she doesn't always eat as many healthy foods as she should.  This flavor gives her the vegetables and protein that she needs.  It is a little bit grainier than other stage 2 foods but still very usable for babies over 6 months.\",\n",
       "       'While I have no personal opinion of these treats, my dog loves them and they really seem to help her \"doggie breath\".',\n",
       "       \"I love this peanut butter.  It tastes incredible!  I wouldn't say that I feel like I'm eating a dessert.  To me, it's not THAT sweet.  The sweetness of the chocolate is more subtle, but delicious nonetheless.  I also don't use jelly with this, nor do my children feel like they need jelly with it.\",\n",
       "       'but a pain to cook, so I cook a batch a week, and take out a cup a day',\n",
       "       'Stash Premium Chai Spice Black Tea can be hard to find on the local shelves, but is never more than a few clicks away on Amazon! The price is great and delivery is always as promised. Enjoy your tea from Amazon.',\n",
       "       'I tried the chia seeds because I was told they are a great source of fiber and have all the omegas in them.I am very pleased with the product and they give me enery. Would highly recommend them to anyone.',\n",
       "       'This coffee is so sweet you might not want to drink it everyday-but if you like chocolate and raspberries this is the coffee for you.',\n",
       "       'These lentils are very fresh and a very high quality product. I am very pleased and I recommend these to anone who loves lentils. Absolutely wonderful!',\n",
       "       \"This is one of my favorite winter teas! The ginger-peach flavor is absolutely wonderful, especially when I have a cold or flu. Next time, I won't order this specific packaging. I expected the tea bags to be arranged in rows in a box, but STASH appears to have dumped and squashed 100 tea bags into too small of a box. The individual packs are crumpled, folded and mangled. If you prefer more pristine tea bags, order the multi-pack box.\",\n",
       "       'For those who do not drink coffee, this is a great compliment to the teas and ciders also available for your Keurig.',\n",
       "       'I really like the Probars, except the calorie count was too high.  The Halo bars have few calories and I like the flavors.',\n",
       "       'Package arrived on time; however some of the packs were ripped.  Other than that it was satisfactory.',\n",
       "       \"I received the Tully's house blend K-cups on time. I love the flavor of the coffee. I use the Keurig coffee machine when I only want one cup of coffee. I will reorder when I'm out of the coffee.\",\n",
       "       'Purchasing these dog treats in this large package size saves me lots of money. These are my two dogs favorite treat and I have purchase this size three times now. My dogs Love them!',\n",
       "       \"My dog, a picky eater, loves this food.  And it's made with better ingredients than most other stuff on the market.\"],\n",
       "      dtype=object)"
      ]
     },
     "execution_count": 166,
     "metadata": {},
     "output_type": "execute_result"
    }
   ],
   "source": [
    "df[df['w2v Clus Label'] == -1][\"Text\"].values"
   ]
  },
  {
   "cell_type": "code",
   "execution_count": 167,
   "metadata": {},
   "outputs": [
    {
     "data": {
      "text/plain": [
       "array([\"After reading reviews about Baklawa-w/Walnuts in amazon.com, I also ordered for one package, my seniors and co-workers liked it. I ordered for 3 more packages that were sent out to my friends in different cities, everyone liked this Baklawa. However last week, I decided to order for 2 packages of Baklawa (Baklava) w/Pistachios, believe me no body liked it.You would think that this stuff should be as good as other stuffs made of Pistachios,but no way--just a wastage of money. I feel sorry for spending about 35 dollers on this poor quality product without any taste.I don't know if the pistachios used in this product is of low quality or what is the problem??.\",\n",
       "       \"I really wouldn't recommend these to my friends. I was really looking for something that actually tasted like a chocolate chococolate chip cookie. Just didn't like them.....Sorry\",\n",
       "       'It is such a shame that my 4 dogs loved the Taste of the Wild dog food and it was recalled due to the salmonella infected product!I enjoyed believing that Amazon wouldnt not sell anything I could feed them that would potentially hurt or even kill them!  It wasnt their fault and they did reimburse 2 of the 3 bags i most recently bought, but I have another full, unopened bag that I dont want any living creature to eat, but just cant throw it out!  does anybody think theyd pay me the cost of it plus shipping to send it back to them!?<br /><br />janellelaine',\n",
       "       ...,\n",
       "       'I just LOVE this coffee!  It\\'s just so light, not heavy and \"burned\" like a lot of morning coffees, but it has all the caffeine that you\\'re accustomed to for morning.  I have always loved Caribou\\'s coffees WAY over Starbuck\\'s (Starbuck\\'s is AWESOME for growing roses, however), and this one is just perfect for us.  It\\'s not overdone, just a smooth, rich blend of some of the most awesome beans available.  If you put your nose close enough to your Keurig, this one is a delight to smell after you pull down the handle and it pierces the top. Ahhhhh!  SO LOVE this stuff, highly highly recommend!',\n",
       "       'This coffee is the best, and we have it sent to us monthly...absolutely no hassles!! Amazon.com ships it right on time every month! We love it.',\n",
       "       \"It was flowering when I got it out of the box, and it's still flowering a lot right now! The plant came extremely quickly and in great shape. Can't wait to see it overpopulate itself and take over the entire pot!\"],\n",
       "      dtype=object)"
      ]
     },
     "execution_count": 167,
     "metadata": {},
     "output_type": "execute_result"
    }
   ],
   "source": [
    "df[df['w2v Clus Label'] == 0][\"Text\"].values"
   ]
  },
  {
   "cell_type": "code",
   "execution_count": 168,
   "metadata": {},
   "outputs": [
    {
     "data": {
      "text/plain": [
       "positive    124\n",
       "negative      9\n",
       "Name: Score, dtype: int64"
      ]
     },
     "execution_count": 168,
     "metadata": {},
     "output_type": "execute_result"
    }
   ],
   "source": [
    "df[df['w2v Clus Label'] == -1][\"Score\"].value_counts()"
   ]
  },
  {
   "cell_type": "code",
   "execution_count": 169,
   "metadata": {},
   "outputs": [
    {
     "data": {
      "text/plain": [
       "positive    4234\n",
       "negative     728\n",
       "Name: Score, dtype: int64"
      ]
     },
     "execution_count": 169,
     "metadata": {},
     "output_type": "execute_result"
    }
   ],
   "source": [
    "df[df['w2v Clus Label'] == 0][\"Score\"].value_counts()"
   ]
  },
  {
   "cell_type": "code",
   "execution_count": 170,
   "metadata": {},
   "outputs": [
    {
     "data": {
      "text/plain": [
       "negative    1\n",
       "positive    1\n",
       "Name: Score, dtype: int64"
      ]
     },
     "execution_count": 170,
     "metadata": {},
     "output_type": "execute_result"
    }
   ],
   "source": [
    "df[df['w2v Clus Label'] == 2][\"Score\"].value_counts()"
   ]
  },
  {
   "cell_type": "code",
   "execution_count": null,
   "metadata": {},
   "outputs": [],
   "source": []
  }
 ],
 "metadata": {
  "kernelspec": {
   "display_name": "Python 3 (ipykernel)",
   "language": "python",
   "name": "python3"
  },
  "language_info": {
   "codemirror_mode": {
    "name": "ipython",
    "version": 3
   },
   "file_extension": ".py",
   "mimetype": "text/x-python",
   "name": "python",
   "nbconvert_exporter": "python",
   "pygments_lexer": "ipython3",
   "version": "3.9.12"
  }
 },
 "nbformat": 4,
 "nbformat_minor": 4
}
