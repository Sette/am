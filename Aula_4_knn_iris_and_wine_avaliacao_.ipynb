{
  "cells": [
    {
      "cell_type": "markdown",
      "source": [
        "\n",
        "#Introdução ao scikit-learn metrics\n",
        "-------------------------------------------------\n",
        "Documentação: https://scikit-learn.org/stable/modules/model_evaluation.html\n",
        "-------------------------------------------------"
      ],
      "metadata": {
        "id": "KRR63hP3b6GN"
      }
    },
    {
      "cell_type": "markdown",
      "metadata": {
        "id": "nOr1WbV_T-1f"
      },
      "source": [
        "### Importando as bibliotecas"
      ]
    },
    {
      "cell_type": "code",
      "execution_count": null,
      "metadata": {
        "id": "jQie_froT-1g"
      },
      "outputs": [],
      "source": [
        "import pandas as pd\n",
        "import numpy as np\n",
        "import matplotlib.pyplot as plt\n",
        "import scipy as scp\n",
        "import warnings\n",
        "from sklearn import datasets\n",
        "from sklearn.model_selection import train_test_split \n",
        "from sklearn.neighbors import KNeighborsClassifier  \n",
        "warnings.filterwarnings(\"ignore\")"
      ]
    },
    {
      "cell_type": "markdown",
      "metadata": {
        "id": "lHgpxr2bT-1h"
      },
      "source": [
        "### Importando o dataset"
      ]
    },
    {
      "cell_type": "code",
      "source": [
        "from google.colab import files"
      ],
      "metadata": {
        "id": "8olzL03906Du"
      },
      "execution_count": null,
      "outputs": []
    },
    {
      "cell_type": "code",
      "source": [
        "files.upload()"
      ],
      "metadata": {
        "colab": {
          "resources": {
            "http://localhost:8080/nbextensions/google.colab/files.js": {
              "data": "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",
              "ok": true,
              "headers": [
                [
                  "content-type",
                  "application/javascript"
                ]
              ],
              "status": 200,
              "status_text": ""
            }
          },
          "base_uri": "https://localhost:8080/",
          "height": 91
        },
        "id": "SHd4PlIt1GNN",
        "outputId": "f830b423-052f-4464-d073-4f3cc4664fe6"
      },
      "execution_count": null,
      "outputs": [
        {
          "output_type": "display_data",
          "data": {
            "text/plain": [
              "<IPython.core.display.HTML object>"
            ],
            "text/html": [
              "\n",
              "     <input type=\"file\" id=\"files-858f7b31-d7df-43f8-b61b-70995521ee32\" name=\"files[]\" multiple disabled\n",
              "        style=\"border:none\" />\n",
              "     <output id=\"result-858f7b31-d7df-43f8-b61b-70995521ee32\">\n",
              "      Upload widget is only available when the cell has been executed in the\n",
              "      current browser session. Please rerun this cell to enable.\n",
              "      </output>\n",
              "      <script src=\"/nbextensions/google.colab/files.js\"></script> "
            ]
          },
          "metadata": {}
        },
        {
          "output_type": "stream",
          "name": "stdout",
          "text": [
            "Saving kaggle.json to kaggle.json\n"
          ]
        },
        {
          "output_type": "execute_result",
          "data": {
            "text/plain": [
              "{'kaggle.json': b'{\"username\":\"settebr\",\"key\":\"71798c39421b8856910ad34ae19ae95f\"}'}"
            ]
          },
          "metadata": {},
          "execution_count": 4
        }
      ]
    },
    {
      "cell_type": "code",
      "source": [
        "!mkdir ~/.kaggle\n",
        "!cp kaggle.json ~/.kaggle/\n",
        "!chmod 600 ~/.kaggle/kaggle.json\n",
        "!kaggle datasets download -d uciml/iris\n",
        "!mkdir -p data/iris\n",
        "!unzip iris.zip -d data/iris"
      ],
      "metadata": {
        "colab": {
          "base_uri": "https://localhost:8080/"
        },
        "id": "1Up9CHLXaGDu",
        "outputId": "c9ebf158-8260-42fb-a6f0-5b949aa42cc7"
      },
      "execution_count": null,
      "outputs": [
        {
          "output_type": "stream",
          "name": "stdout",
          "text": [
            "Downloading iris.zip to /content\n",
            "\r  0% 0.00/3.60k [00:00<?, ?B/s]\n",
            "\r100% 3.60k/3.60k [00:00<00:00, 3.35MB/s]\n",
            "Archive:  iris.zip\n",
            "  inflating: data/iris/Iris.csv      \n",
            "  inflating: data/iris/database.sqlite  \n"
          ]
        }
      ]
    },
    {
      "cell_type": "code",
      "source": [
        "df = pd.read_csv(\"data/iris/Iris.csv\",index_col=\"Id\")"
      ],
      "metadata": {
        "id": "tr_BLrMl8ra2"
      },
      "execution_count": null,
      "outputs": []
    },
    {
      "cell_type": "markdown",
      "metadata": {
        "id": "ciLSg6u5T-1i"
      },
      "source": [
        "### Explorando o dataset"
      ]
    },
    {
      "cell_type": "code",
      "execution_count": null,
      "metadata": {
        "colab": {
          "base_uri": "https://localhost:8080/",
          "height": 237
        },
        "id": "Jx1Rdw6fT-1i",
        "outputId": "6fc3410e-6647-4e3b-e14c-45c56bcb580c"
      },
      "outputs": [
        {
          "output_type": "execute_result",
          "data": {
            "text/plain": [
              "    SepalLengthCm  SepalWidthCm  PetalLengthCm  PetalWidthCm      Species\n",
              "Id                                                                       \n",
              "1             5.1           3.5            1.4           0.2  Iris-setosa\n",
              "2             4.9           3.0            1.4           0.2  Iris-setosa\n",
              "3             4.7           3.2            1.3           0.2  Iris-setosa\n",
              "4             4.6           3.1            1.5           0.2  Iris-setosa\n",
              "5             5.0           3.6            1.4           0.2  Iris-setosa"
            ],
            "text/html": [
              "\n",
              "  <div id=\"df-43af5544-502b-46f2-bed3-11a0af0e07a2\">\n",
              "    <div class=\"colab-df-container\">\n",
              "      <div>\n",
              "<style scoped>\n",
              "    .dataframe tbody tr th:only-of-type {\n",
              "        vertical-align: middle;\n",
              "    }\n",
              "\n",
              "    .dataframe tbody tr th {\n",
              "        vertical-align: top;\n",
              "    }\n",
              "\n",
              "    .dataframe thead th {\n",
              "        text-align: right;\n",
              "    }\n",
              "</style>\n",
              "<table border=\"1\" class=\"dataframe\">\n",
              "  <thead>\n",
              "    <tr style=\"text-align: right;\">\n",
              "      <th></th>\n",
              "      <th>SepalLengthCm</th>\n",
              "      <th>SepalWidthCm</th>\n",
              "      <th>PetalLengthCm</th>\n",
              "      <th>PetalWidthCm</th>\n",
              "      <th>Species</th>\n",
              "    </tr>\n",
              "    <tr>\n",
              "      <th>Id</th>\n",
              "      <th></th>\n",
              "      <th></th>\n",
              "      <th></th>\n",
              "      <th></th>\n",
              "      <th></th>\n",
              "    </tr>\n",
              "  </thead>\n",
              "  <tbody>\n",
              "    <tr>\n",
              "      <th>1</th>\n",
              "      <td>5.1</td>\n",
              "      <td>3.5</td>\n",
              "      <td>1.4</td>\n",
              "      <td>0.2</td>\n",
              "      <td>Iris-setosa</td>\n",
              "    </tr>\n",
              "    <tr>\n",
              "      <th>2</th>\n",
              "      <td>4.9</td>\n",
              "      <td>3.0</td>\n",
              "      <td>1.4</td>\n",
              "      <td>0.2</td>\n",
              "      <td>Iris-setosa</td>\n",
              "    </tr>\n",
              "    <tr>\n",
              "      <th>3</th>\n",
              "      <td>4.7</td>\n",
              "      <td>3.2</td>\n",
              "      <td>1.3</td>\n",
              "      <td>0.2</td>\n",
              "      <td>Iris-setosa</td>\n",
              "    </tr>\n",
              "    <tr>\n",
              "      <th>4</th>\n",
              "      <td>4.6</td>\n",
              "      <td>3.1</td>\n",
              "      <td>1.5</td>\n",
              "      <td>0.2</td>\n",
              "      <td>Iris-setosa</td>\n",
              "    </tr>\n",
              "    <tr>\n",
              "      <th>5</th>\n",
              "      <td>5.0</td>\n",
              "      <td>3.6</td>\n",
              "      <td>1.4</td>\n",
              "      <td>0.2</td>\n",
              "      <td>Iris-setosa</td>\n",
              "    </tr>\n",
              "  </tbody>\n",
              "</table>\n",
              "</div>\n",
              "      <button class=\"colab-df-convert\" onclick=\"convertToInteractive('df-43af5544-502b-46f2-bed3-11a0af0e07a2')\"\n",
              "              title=\"Convert this dataframe to an interactive table.\"\n",
              "              style=\"display:none;\">\n",
              "        \n",
              "  <svg xmlns=\"http://www.w3.org/2000/svg\" height=\"24px\"viewBox=\"0 0 24 24\"\n",
              "       width=\"24px\">\n",
              "    <path d=\"M0 0h24v24H0V0z\" fill=\"none\"/>\n",
              "    <path d=\"M18.56 5.44l.94 2.06.94-2.06 2.06-.94-2.06-.94-.94-2.06-.94 2.06-2.06.94zm-11 1L8.5 8.5l.94-2.06 2.06-.94-2.06-.94L8.5 2.5l-.94 2.06-2.06.94zm10 10l.94 2.06.94-2.06 2.06-.94-2.06-.94-.94-2.06-.94 2.06-2.06.94z\"/><path d=\"M17.41 7.96l-1.37-1.37c-.4-.4-.92-.59-1.43-.59-.52 0-1.04.2-1.43.59L10.3 9.45l-7.72 7.72c-.78.78-.78 2.05 0 2.83L4 21.41c.39.39.9.59 1.41.59.51 0 1.02-.2 1.41-.59l7.78-7.78 2.81-2.81c.8-.78.8-2.07 0-2.86zM5.41 20L4 18.59l7.72-7.72 1.47 1.35L5.41 20z\"/>\n",
              "  </svg>\n",
              "      </button>\n",
              "      \n",
              "  <style>\n",
              "    .colab-df-container {\n",
              "      display:flex;\n",
              "      flex-wrap:wrap;\n",
              "      gap: 12px;\n",
              "    }\n",
              "\n",
              "    .colab-df-convert {\n",
              "      background-color: #E8F0FE;\n",
              "      border: none;\n",
              "      border-radius: 50%;\n",
              "      cursor: pointer;\n",
              "      display: none;\n",
              "      fill: #1967D2;\n",
              "      height: 32px;\n",
              "      padding: 0 0 0 0;\n",
              "      width: 32px;\n",
              "    }\n",
              "\n",
              "    .colab-df-convert:hover {\n",
              "      background-color: #E2EBFA;\n",
              "      box-shadow: 0px 1px 2px rgba(60, 64, 67, 0.3), 0px 1px 3px 1px rgba(60, 64, 67, 0.15);\n",
              "      fill: #174EA6;\n",
              "    }\n",
              "\n",
              "    [theme=dark] .colab-df-convert {\n",
              "      background-color: #3B4455;\n",
              "      fill: #D2E3FC;\n",
              "    }\n",
              "\n",
              "    [theme=dark] .colab-df-convert:hover {\n",
              "      background-color: #434B5C;\n",
              "      box-shadow: 0px 1px 3px 1px rgba(0, 0, 0, 0.15);\n",
              "      filter: drop-shadow(0px 1px 2px rgba(0, 0, 0, 0.3));\n",
              "      fill: #FFFFFF;\n",
              "    }\n",
              "  </style>\n",
              "\n",
              "      <script>\n",
              "        const buttonEl =\n",
              "          document.querySelector('#df-43af5544-502b-46f2-bed3-11a0af0e07a2 button.colab-df-convert');\n",
              "        buttonEl.style.display =\n",
              "          google.colab.kernel.accessAllowed ? 'block' : 'none';\n",
              "\n",
              "        async function convertToInteractive(key) {\n",
              "          const element = document.querySelector('#df-43af5544-502b-46f2-bed3-11a0af0e07a2');\n",
              "          const dataTable =\n",
              "            await google.colab.kernel.invokeFunction('convertToInteractive',\n",
              "                                                     [key], {});\n",
              "          if (!dataTable) return;\n",
              "\n",
              "          const docLinkHtml = 'Like what you see? Visit the ' +\n",
              "            '<a target=\"_blank\" href=https://colab.research.google.com/notebooks/data_table.ipynb>data table notebook</a>'\n",
              "            + ' to learn more about interactive tables.';\n",
              "          element.innerHTML = '';\n",
              "          dataTable['output_type'] = 'display_data';\n",
              "          await google.colab.output.renderOutput(dataTable, element);\n",
              "          const docLink = document.createElement('div');\n",
              "          docLink.innerHTML = docLinkHtml;\n",
              "          element.appendChild(docLink);\n",
              "        }\n",
              "      </script>\n",
              "    </div>\n",
              "  </div>\n",
              "  "
            ]
          },
          "metadata": {},
          "execution_count": 8
        }
      ],
      "source": [
        "df.head()"
      ]
    },
    {
      "cell_type": "code",
      "execution_count": null,
      "metadata": {
        "colab": {
          "base_uri": "https://localhost:8080/"
        },
        "id": "sAuYfT4JT-1j",
        "outputId": "23dd9807-eeac-4e5f-ad2a-34202aaa8f9d"
      },
      "outputs": [
        {
          "output_type": "stream",
          "name": "stdout",
          "text": [
            "<class 'pandas.core.frame.DataFrame'>\n",
            "Int64Index: 150 entries, 1 to 150\n",
            "Data columns (total 5 columns):\n",
            " #   Column         Non-Null Count  Dtype  \n",
            "---  ------         --------------  -----  \n",
            " 0   SepalLengthCm  150 non-null    float64\n",
            " 1   SepalWidthCm   150 non-null    float64\n",
            " 2   PetalLengthCm  150 non-null    float64\n",
            " 3   PetalWidthCm   150 non-null    float64\n",
            " 4   Species        150 non-null    object \n",
            "dtypes: float64(4), object(1)\n",
            "memory usage: 7.0+ KB\n"
          ]
        }
      ],
      "source": [
        "df.info()"
      ]
    },
    {
      "cell_type": "code",
      "execution_count": null,
      "metadata": {
        "colab": {
          "base_uri": "https://localhost:8080/",
          "height": 300
        },
        "id": "1GzkViOtT-1k",
        "outputId": "27db1b3c-fa4e-4c34-8bee-688411e669b9"
      },
      "outputs": [
        {
          "output_type": "execute_result",
          "data": {
            "text/plain": [
              "       SepalLengthCm  SepalWidthCm  PetalLengthCm  PetalWidthCm\n",
              "count     150.000000    150.000000     150.000000    150.000000\n",
              "mean        5.843333      3.054000       3.758667      1.198667\n",
              "std         0.828066      0.433594       1.764420      0.763161\n",
              "min         4.300000      2.000000       1.000000      0.100000\n",
              "25%         5.100000      2.800000       1.600000      0.300000\n",
              "50%         5.800000      3.000000       4.350000      1.300000\n",
              "75%         6.400000      3.300000       5.100000      1.800000\n",
              "max         7.900000      4.400000       6.900000      2.500000"
            ],
            "text/html": [
              "\n",
              "  <div id=\"df-c89f2297-ce17-42b1-ac91-f47c821c264c\">\n",
              "    <div class=\"colab-df-container\">\n",
              "      <div>\n",
              "<style scoped>\n",
              "    .dataframe tbody tr th:only-of-type {\n",
              "        vertical-align: middle;\n",
              "    }\n",
              "\n",
              "    .dataframe tbody tr th {\n",
              "        vertical-align: top;\n",
              "    }\n",
              "\n",
              "    .dataframe thead th {\n",
              "        text-align: right;\n",
              "    }\n",
              "</style>\n",
              "<table border=\"1\" class=\"dataframe\">\n",
              "  <thead>\n",
              "    <tr style=\"text-align: right;\">\n",
              "      <th></th>\n",
              "      <th>SepalLengthCm</th>\n",
              "      <th>SepalWidthCm</th>\n",
              "      <th>PetalLengthCm</th>\n",
              "      <th>PetalWidthCm</th>\n",
              "    </tr>\n",
              "  </thead>\n",
              "  <tbody>\n",
              "    <tr>\n",
              "      <th>count</th>\n",
              "      <td>150.000000</td>\n",
              "      <td>150.000000</td>\n",
              "      <td>150.000000</td>\n",
              "      <td>150.000000</td>\n",
              "    </tr>\n",
              "    <tr>\n",
              "      <th>mean</th>\n",
              "      <td>5.843333</td>\n",
              "      <td>3.054000</td>\n",
              "      <td>3.758667</td>\n",
              "      <td>1.198667</td>\n",
              "    </tr>\n",
              "    <tr>\n",
              "      <th>std</th>\n",
              "      <td>0.828066</td>\n",
              "      <td>0.433594</td>\n",
              "      <td>1.764420</td>\n",
              "      <td>0.763161</td>\n",
              "    </tr>\n",
              "    <tr>\n",
              "      <th>min</th>\n",
              "      <td>4.300000</td>\n",
              "      <td>2.000000</td>\n",
              "      <td>1.000000</td>\n",
              "      <td>0.100000</td>\n",
              "    </tr>\n",
              "    <tr>\n",
              "      <th>25%</th>\n",
              "      <td>5.100000</td>\n",
              "      <td>2.800000</td>\n",
              "      <td>1.600000</td>\n",
              "      <td>0.300000</td>\n",
              "    </tr>\n",
              "    <tr>\n",
              "      <th>50%</th>\n",
              "      <td>5.800000</td>\n",
              "      <td>3.000000</td>\n",
              "      <td>4.350000</td>\n",
              "      <td>1.300000</td>\n",
              "    </tr>\n",
              "    <tr>\n",
              "      <th>75%</th>\n",
              "      <td>6.400000</td>\n",
              "      <td>3.300000</td>\n",
              "      <td>5.100000</td>\n",
              "      <td>1.800000</td>\n",
              "    </tr>\n",
              "    <tr>\n",
              "      <th>max</th>\n",
              "      <td>7.900000</td>\n",
              "      <td>4.400000</td>\n",
              "      <td>6.900000</td>\n",
              "      <td>2.500000</td>\n",
              "    </tr>\n",
              "  </tbody>\n",
              "</table>\n",
              "</div>\n",
              "      <button class=\"colab-df-convert\" onclick=\"convertToInteractive('df-c89f2297-ce17-42b1-ac91-f47c821c264c')\"\n",
              "              title=\"Convert this dataframe to an interactive table.\"\n",
              "              style=\"display:none;\">\n",
              "        \n",
              "  <svg xmlns=\"http://www.w3.org/2000/svg\" height=\"24px\"viewBox=\"0 0 24 24\"\n",
              "       width=\"24px\">\n",
              "    <path d=\"M0 0h24v24H0V0z\" fill=\"none\"/>\n",
              "    <path d=\"M18.56 5.44l.94 2.06.94-2.06 2.06-.94-2.06-.94-.94-2.06-.94 2.06-2.06.94zm-11 1L8.5 8.5l.94-2.06 2.06-.94-2.06-.94L8.5 2.5l-.94 2.06-2.06.94zm10 10l.94 2.06.94-2.06 2.06-.94-2.06-.94-.94-2.06-.94 2.06-2.06.94z\"/><path d=\"M17.41 7.96l-1.37-1.37c-.4-.4-.92-.59-1.43-.59-.52 0-1.04.2-1.43.59L10.3 9.45l-7.72 7.72c-.78.78-.78 2.05 0 2.83L4 21.41c.39.39.9.59 1.41.59.51 0 1.02-.2 1.41-.59l7.78-7.78 2.81-2.81c.8-.78.8-2.07 0-2.86zM5.41 20L4 18.59l7.72-7.72 1.47 1.35L5.41 20z\"/>\n",
              "  </svg>\n",
              "      </button>\n",
              "      \n",
              "  <style>\n",
              "    .colab-df-container {\n",
              "      display:flex;\n",
              "      flex-wrap:wrap;\n",
              "      gap: 12px;\n",
              "    }\n",
              "\n",
              "    .colab-df-convert {\n",
              "      background-color: #E8F0FE;\n",
              "      border: none;\n",
              "      border-radius: 50%;\n",
              "      cursor: pointer;\n",
              "      display: none;\n",
              "      fill: #1967D2;\n",
              "      height: 32px;\n",
              "      padding: 0 0 0 0;\n",
              "      width: 32px;\n",
              "    }\n",
              "\n",
              "    .colab-df-convert:hover {\n",
              "      background-color: #E2EBFA;\n",
              "      box-shadow: 0px 1px 2px rgba(60, 64, 67, 0.3), 0px 1px 3px 1px rgba(60, 64, 67, 0.15);\n",
              "      fill: #174EA6;\n",
              "    }\n",
              "\n",
              "    [theme=dark] .colab-df-convert {\n",
              "      background-color: #3B4455;\n",
              "      fill: #D2E3FC;\n",
              "    }\n",
              "\n",
              "    [theme=dark] .colab-df-convert:hover {\n",
              "      background-color: #434B5C;\n",
              "      box-shadow: 0px 1px 3px 1px rgba(0, 0, 0, 0.15);\n",
              "      filter: drop-shadow(0px 1px 2px rgba(0, 0, 0, 0.3));\n",
              "      fill: #FFFFFF;\n",
              "    }\n",
              "  </style>\n",
              "\n",
              "      <script>\n",
              "        const buttonEl =\n",
              "          document.querySelector('#df-c89f2297-ce17-42b1-ac91-f47c821c264c button.colab-df-convert');\n",
              "        buttonEl.style.display =\n",
              "          google.colab.kernel.accessAllowed ? 'block' : 'none';\n",
              "\n",
              "        async function convertToInteractive(key) {\n",
              "          const element = document.querySelector('#df-c89f2297-ce17-42b1-ac91-f47c821c264c');\n",
              "          const dataTable =\n",
              "            await google.colab.kernel.invokeFunction('convertToInteractive',\n",
              "                                                     [key], {});\n",
              "          if (!dataTable) return;\n",
              "\n",
              "          const docLinkHtml = 'Like what you see? Visit the ' +\n",
              "            '<a target=\"_blank\" href=https://colab.research.google.com/notebooks/data_table.ipynb>data table notebook</a>'\n",
              "            + ' to learn more about interactive tables.';\n",
              "          element.innerHTML = '';\n",
              "          dataTable['output_type'] = 'display_data';\n",
              "          await google.colab.output.renderOutput(dataTable, element);\n",
              "          const docLink = document.createElement('div');\n",
              "          docLink.innerHTML = docLinkHtml;\n",
              "          element.appendChild(docLink);\n",
              "        }\n",
              "      </script>\n",
              "    </div>\n",
              "  </div>\n",
              "  "
            ]
          },
          "metadata": {},
          "execution_count": 10
        }
      ],
      "source": [
        "df.describe()         "
      ]
    },
    {
      "cell_type": "markdown",
      "metadata": {
        "id": "2G_EfAnxT-1m"
      },
      "source": [
        "### Split do dataset"
      ]
    },
    {
      "cell_type": "code",
      "execution_count": null,
      "metadata": {
        "id": "wAUrdPL2T-1m"
      },
      "outputs": [],
      "source": [
        "X = df.drop('Species', axis=1)\n",
        "y = df['Species']"
      ]
    },
    {
      "cell_type": "code",
      "execution_count": null,
      "metadata": {
        "colab": {
          "base_uri": "https://localhost:8080/",
          "height": 237
        },
        "id": "eMAjB77YT-1m",
        "outputId": "bb7d0a35-e31a-48dc-cfd6-b5b8fb0b196a"
      },
      "outputs": [
        {
          "output_type": "execute_result",
          "data": {
            "text/plain": [
              "    SepalLengthCm  SepalWidthCm  PetalLengthCm  PetalWidthCm\n",
              "Id                                                          \n",
              "1             5.1           3.5            1.4           0.2\n",
              "2             4.9           3.0            1.4           0.2\n",
              "3             4.7           3.2            1.3           0.2\n",
              "4             4.6           3.1            1.5           0.2\n",
              "5             5.0           3.6            1.4           0.2"
            ],
            "text/html": [
              "\n",
              "  <div id=\"df-f9609da2-cc0c-4625-8a38-a48870cd260c\">\n",
              "    <div class=\"colab-df-container\">\n",
              "      <div>\n",
              "<style scoped>\n",
              "    .dataframe tbody tr th:only-of-type {\n",
              "        vertical-align: middle;\n",
              "    }\n",
              "\n",
              "    .dataframe tbody tr th {\n",
              "        vertical-align: top;\n",
              "    }\n",
              "\n",
              "    .dataframe thead th {\n",
              "        text-align: right;\n",
              "    }\n",
              "</style>\n",
              "<table border=\"1\" class=\"dataframe\">\n",
              "  <thead>\n",
              "    <tr style=\"text-align: right;\">\n",
              "      <th></th>\n",
              "      <th>SepalLengthCm</th>\n",
              "      <th>SepalWidthCm</th>\n",
              "      <th>PetalLengthCm</th>\n",
              "      <th>PetalWidthCm</th>\n",
              "    </tr>\n",
              "    <tr>\n",
              "      <th>Id</th>\n",
              "      <th></th>\n",
              "      <th></th>\n",
              "      <th></th>\n",
              "      <th></th>\n",
              "    </tr>\n",
              "  </thead>\n",
              "  <tbody>\n",
              "    <tr>\n",
              "      <th>1</th>\n",
              "      <td>5.1</td>\n",
              "      <td>3.5</td>\n",
              "      <td>1.4</td>\n",
              "      <td>0.2</td>\n",
              "    </tr>\n",
              "    <tr>\n",
              "      <th>2</th>\n",
              "      <td>4.9</td>\n",
              "      <td>3.0</td>\n",
              "      <td>1.4</td>\n",
              "      <td>0.2</td>\n",
              "    </tr>\n",
              "    <tr>\n",
              "      <th>3</th>\n",
              "      <td>4.7</td>\n",
              "      <td>3.2</td>\n",
              "      <td>1.3</td>\n",
              "      <td>0.2</td>\n",
              "    </tr>\n",
              "    <tr>\n",
              "      <th>4</th>\n",
              "      <td>4.6</td>\n",
              "      <td>3.1</td>\n",
              "      <td>1.5</td>\n",
              "      <td>0.2</td>\n",
              "    </tr>\n",
              "    <tr>\n",
              "      <th>5</th>\n",
              "      <td>5.0</td>\n",
              "      <td>3.6</td>\n",
              "      <td>1.4</td>\n",
              "      <td>0.2</td>\n",
              "    </tr>\n",
              "  </tbody>\n",
              "</table>\n",
              "</div>\n",
              "      <button class=\"colab-df-convert\" onclick=\"convertToInteractive('df-f9609da2-cc0c-4625-8a38-a48870cd260c')\"\n",
              "              title=\"Convert this dataframe to an interactive table.\"\n",
              "              style=\"display:none;\">\n",
              "        \n",
              "  <svg xmlns=\"http://www.w3.org/2000/svg\" height=\"24px\"viewBox=\"0 0 24 24\"\n",
              "       width=\"24px\">\n",
              "    <path d=\"M0 0h24v24H0V0z\" fill=\"none\"/>\n",
              "    <path d=\"M18.56 5.44l.94 2.06.94-2.06 2.06-.94-2.06-.94-.94-2.06-.94 2.06-2.06.94zm-11 1L8.5 8.5l.94-2.06 2.06-.94-2.06-.94L8.5 2.5l-.94 2.06-2.06.94zm10 10l.94 2.06.94-2.06 2.06-.94-2.06-.94-.94-2.06-.94 2.06-2.06.94z\"/><path d=\"M17.41 7.96l-1.37-1.37c-.4-.4-.92-.59-1.43-.59-.52 0-1.04.2-1.43.59L10.3 9.45l-7.72 7.72c-.78.78-.78 2.05 0 2.83L4 21.41c.39.39.9.59 1.41.59.51 0 1.02-.2 1.41-.59l7.78-7.78 2.81-2.81c.8-.78.8-2.07 0-2.86zM5.41 20L4 18.59l7.72-7.72 1.47 1.35L5.41 20z\"/>\n",
              "  </svg>\n",
              "      </button>\n",
              "      \n",
              "  <style>\n",
              "    .colab-df-container {\n",
              "      display:flex;\n",
              "      flex-wrap:wrap;\n",
              "      gap: 12px;\n",
              "    }\n",
              "\n",
              "    .colab-df-convert {\n",
              "      background-color: #E8F0FE;\n",
              "      border: none;\n",
              "      border-radius: 50%;\n",
              "      cursor: pointer;\n",
              "      display: none;\n",
              "      fill: #1967D2;\n",
              "      height: 32px;\n",
              "      padding: 0 0 0 0;\n",
              "      width: 32px;\n",
              "    }\n",
              "\n",
              "    .colab-df-convert:hover {\n",
              "      background-color: #E2EBFA;\n",
              "      box-shadow: 0px 1px 2px rgba(60, 64, 67, 0.3), 0px 1px 3px 1px rgba(60, 64, 67, 0.15);\n",
              "      fill: #174EA6;\n",
              "    }\n",
              "\n",
              "    [theme=dark] .colab-df-convert {\n",
              "      background-color: #3B4455;\n",
              "      fill: #D2E3FC;\n",
              "    }\n",
              "\n",
              "    [theme=dark] .colab-df-convert:hover {\n",
              "      background-color: #434B5C;\n",
              "      box-shadow: 0px 1px 3px 1px rgba(0, 0, 0, 0.15);\n",
              "      filter: drop-shadow(0px 1px 2px rgba(0, 0, 0, 0.3));\n",
              "      fill: #FFFFFF;\n",
              "    }\n",
              "  </style>\n",
              "\n",
              "      <script>\n",
              "        const buttonEl =\n",
              "          document.querySelector('#df-f9609da2-cc0c-4625-8a38-a48870cd260c button.colab-df-convert');\n",
              "        buttonEl.style.display =\n",
              "          google.colab.kernel.accessAllowed ? 'block' : 'none';\n",
              "\n",
              "        async function convertToInteractive(key) {\n",
              "          const element = document.querySelector('#df-f9609da2-cc0c-4625-8a38-a48870cd260c');\n",
              "          const dataTable =\n",
              "            await google.colab.kernel.invokeFunction('convertToInteractive',\n",
              "                                                     [key], {});\n",
              "          if (!dataTable) return;\n",
              "\n",
              "          const docLinkHtml = 'Like what you see? Visit the ' +\n",
              "            '<a target=\"_blank\" href=https://colab.research.google.com/notebooks/data_table.ipynb>data table notebook</a>'\n",
              "            + ' to learn more about interactive tables.';\n",
              "          element.innerHTML = '';\n",
              "          dataTable['output_type'] = 'display_data';\n",
              "          await google.colab.output.renderOutput(dataTable, element);\n",
              "          const docLink = document.createElement('div');\n",
              "          docLink.innerHTML = docLinkHtml;\n",
              "          element.appendChild(docLink);\n",
              "        }\n",
              "      </script>\n",
              "    </div>\n",
              "  </div>\n",
              "  "
            ]
          },
          "metadata": {},
          "execution_count": 14
        }
      ],
      "source": [
        "X.head()"
      ]
    },
    {
      "cell_type": "markdown",
      "metadata": {
        "id": "nuPIx5FVT-1n"
      },
      "source": [
        "### Train Test Split\n",
        "\n",
        "#### Nesta fase separamos o conjunto de dados em Treinamento e Teste, definindo o percentual que utilizaremos para teste e para treino do modelo"
      ]
    },
    {
      "cell_type": "code",
      "execution_count": null,
      "metadata": {
        "id": "RDwhbCkpT-1o"
      },
      "outputs": [],
      "source": [
        "X_train,X_test,y_train,y_test = train_test_split(X,y, stratify=y, test_size=0.3,random_state=1)"
      ]
    },
    {
      "cell_type": "markdown",
      "metadata": {
        "id": "edkjTGi5T-1o"
      },
      "source": [
        "### Feature Scaling\n",
        "\n",
        "#### Normaliza valores para media zero e desvio padrão 1\n"
      ]
    },
    {
      "cell_type": "code",
      "execution_count": null,
      "metadata": {
        "id": "Raos1wxST-1o"
      },
      "outputs": [],
      "source": [
        "from sklearn.preprocessing import StandardScaler  \n",
        "scaler = StandardScaler()  \n",
        "scaler.fit(X_train)\n",
        "\n",
        "X_train_sc = scaler.transform(X_train)  \n",
        "X_test_sc = scaler.transform(X_test) "
      ]
    },
    {
      "cell_type": "code",
      "source": [
        "df_train = pd.DataFrame(X_train_sc,index=X_train_sc[:,0],columns=X_train.columns)"
      ],
      "metadata": {
        "id": "uXfJgWVUeG0f"
      },
      "execution_count": null,
      "outputs": []
    },
    {
      "cell_type": "code",
      "source": [
        "display(df_train)"
      ],
      "metadata": {
        "colab": {
          "base_uri": "https://localhost:8080/",
          "height": 424
        },
        "id": "YAcBCZCXeWDN",
        "outputId": "fb40e71f-300e-4f2c-f6d1-9b7376d5f612"
      },
      "execution_count": null,
      "outputs": [
        {
          "output_type": "display_data",
          "data": {
            "text/plain": [
              "           SepalLengthCm  SepalWidthCm  PetalLengthCm  PetalWidthCm\n",
              "-0.430106      -0.430106      2.631185      -1.332697     -1.303804\n",
              "-0.550536      -0.550536      0.769184      -1.165380     -1.303804\n",
              " 0.653762       0.653762      0.303684       0.842430      1.444654\n",
              " 1.015051       1.015051      0.536434       1.065520      1.182896\n",
              "-1.032255      -1.032255      0.303684      -1.444242     -1.303804\n",
              "...                  ...           ...            ...           ...\n",
              "-1.634404      -1.634404     -1.791068      -1.388470     -1.172925\n",
              "-0.068817      -0.068817     -1.092817       0.117388      0.004986\n",
              "-1.032255      -1.032255      0.769184      -1.221152     -1.042046\n",
              "-1.513975      -1.513975      0.070933      -1.276925     -1.303804\n",
              "-1.754834      -1.754834      0.303684      -1.388470     -1.303804\n",
              "\n",
              "[105 rows x 4 columns]"
            ],
            "text/html": [
              "\n",
              "  <div id=\"df-df83b812-4aba-4064-9532-a93be3a2c02c\">\n",
              "    <div class=\"colab-df-container\">\n",
              "      <div>\n",
              "<style scoped>\n",
              "    .dataframe tbody tr th:only-of-type {\n",
              "        vertical-align: middle;\n",
              "    }\n",
              "\n",
              "    .dataframe tbody tr th {\n",
              "        vertical-align: top;\n",
              "    }\n",
              "\n",
              "    .dataframe thead th {\n",
              "        text-align: right;\n",
              "    }\n",
              "</style>\n",
              "<table border=\"1\" class=\"dataframe\">\n",
              "  <thead>\n",
              "    <tr style=\"text-align: right;\">\n",
              "      <th></th>\n",
              "      <th>SepalLengthCm</th>\n",
              "      <th>SepalWidthCm</th>\n",
              "      <th>PetalLengthCm</th>\n",
              "      <th>PetalWidthCm</th>\n",
              "    </tr>\n",
              "  </thead>\n",
              "  <tbody>\n",
              "    <tr>\n",
              "      <th>-0.430106</th>\n",
              "      <td>-0.430106</td>\n",
              "      <td>2.631185</td>\n",
              "      <td>-1.332697</td>\n",
              "      <td>-1.303804</td>\n",
              "    </tr>\n",
              "    <tr>\n",
              "      <th>-0.550536</th>\n",
              "      <td>-0.550536</td>\n",
              "      <td>0.769184</td>\n",
              "      <td>-1.165380</td>\n",
              "      <td>-1.303804</td>\n",
              "    </tr>\n",
              "    <tr>\n",
              "      <th>0.653762</th>\n",
              "      <td>0.653762</td>\n",
              "      <td>0.303684</td>\n",
              "      <td>0.842430</td>\n",
              "      <td>1.444654</td>\n",
              "    </tr>\n",
              "    <tr>\n",
              "      <th>1.015051</th>\n",
              "      <td>1.015051</td>\n",
              "      <td>0.536434</td>\n",
              "      <td>1.065520</td>\n",
              "      <td>1.182896</td>\n",
              "    </tr>\n",
              "    <tr>\n",
              "      <th>-1.032255</th>\n",
              "      <td>-1.032255</td>\n",
              "      <td>0.303684</td>\n",
              "      <td>-1.444242</td>\n",
              "      <td>-1.303804</td>\n",
              "    </tr>\n",
              "    <tr>\n",
              "      <th>...</th>\n",
              "      <td>...</td>\n",
              "      <td>...</td>\n",
              "      <td>...</td>\n",
              "      <td>...</td>\n",
              "    </tr>\n",
              "    <tr>\n",
              "      <th>-1.634404</th>\n",
              "      <td>-1.634404</td>\n",
              "      <td>-1.791068</td>\n",
              "      <td>-1.388470</td>\n",
              "      <td>-1.172925</td>\n",
              "    </tr>\n",
              "    <tr>\n",
              "      <th>-0.068817</th>\n",
              "      <td>-0.068817</td>\n",
              "      <td>-1.092817</td>\n",
              "      <td>0.117388</td>\n",
              "      <td>0.004986</td>\n",
              "    </tr>\n",
              "    <tr>\n",
              "      <th>-1.032255</th>\n",
              "      <td>-1.032255</td>\n",
              "      <td>0.769184</td>\n",
              "      <td>-1.221152</td>\n",
              "      <td>-1.042046</td>\n",
              "    </tr>\n",
              "    <tr>\n",
              "      <th>-1.513975</th>\n",
              "      <td>-1.513975</td>\n",
              "      <td>0.070933</td>\n",
              "      <td>-1.276925</td>\n",
              "      <td>-1.303804</td>\n",
              "    </tr>\n",
              "    <tr>\n",
              "      <th>-1.754834</th>\n",
              "      <td>-1.754834</td>\n",
              "      <td>0.303684</td>\n",
              "      <td>-1.388470</td>\n",
              "      <td>-1.303804</td>\n",
              "    </tr>\n",
              "  </tbody>\n",
              "</table>\n",
              "<p>105 rows × 4 columns</p>\n",
              "</div>\n",
              "      <button class=\"colab-df-convert\" onclick=\"convertToInteractive('df-df83b812-4aba-4064-9532-a93be3a2c02c')\"\n",
              "              title=\"Convert this dataframe to an interactive table.\"\n",
              "              style=\"display:none;\">\n",
              "        \n",
              "  <svg xmlns=\"http://www.w3.org/2000/svg\" height=\"24px\"viewBox=\"0 0 24 24\"\n",
              "       width=\"24px\">\n",
              "    <path d=\"M0 0h24v24H0V0z\" fill=\"none\"/>\n",
              "    <path d=\"M18.56 5.44l.94 2.06.94-2.06 2.06-.94-2.06-.94-.94-2.06-.94 2.06-2.06.94zm-11 1L8.5 8.5l.94-2.06 2.06-.94-2.06-.94L8.5 2.5l-.94 2.06-2.06.94zm10 10l.94 2.06.94-2.06 2.06-.94-2.06-.94-.94-2.06-.94 2.06-2.06.94z\"/><path d=\"M17.41 7.96l-1.37-1.37c-.4-.4-.92-.59-1.43-.59-.52 0-1.04.2-1.43.59L10.3 9.45l-7.72 7.72c-.78.78-.78 2.05 0 2.83L4 21.41c.39.39.9.59 1.41.59.51 0 1.02-.2 1.41-.59l7.78-7.78 2.81-2.81c.8-.78.8-2.07 0-2.86zM5.41 20L4 18.59l7.72-7.72 1.47 1.35L5.41 20z\"/>\n",
              "  </svg>\n",
              "      </button>\n",
              "      \n",
              "  <style>\n",
              "    .colab-df-container {\n",
              "      display:flex;\n",
              "      flex-wrap:wrap;\n",
              "      gap: 12px;\n",
              "    }\n",
              "\n",
              "    .colab-df-convert {\n",
              "      background-color: #E8F0FE;\n",
              "      border: none;\n",
              "      border-radius: 50%;\n",
              "      cursor: pointer;\n",
              "      display: none;\n",
              "      fill: #1967D2;\n",
              "      height: 32px;\n",
              "      padding: 0 0 0 0;\n",
              "      width: 32px;\n",
              "    }\n",
              "\n",
              "    .colab-df-convert:hover {\n",
              "      background-color: #E2EBFA;\n",
              "      box-shadow: 0px 1px 2px rgba(60, 64, 67, 0.3), 0px 1px 3px 1px rgba(60, 64, 67, 0.15);\n",
              "      fill: #174EA6;\n",
              "    }\n",
              "\n",
              "    [theme=dark] .colab-df-convert {\n",
              "      background-color: #3B4455;\n",
              "      fill: #D2E3FC;\n",
              "    }\n",
              "\n",
              "    [theme=dark] .colab-df-convert:hover {\n",
              "      background-color: #434B5C;\n",
              "      box-shadow: 0px 1px 3px 1px rgba(0, 0, 0, 0.15);\n",
              "      filter: drop-shadow(0px 1px 2px rgba(0, 0, 0, 0.3));\n",
              "      fill: #FFFFFF;\n",
              "    }\n",
              "  </style>\n",
              "\n",
              "      <script>\n",
              "        const buttonEl =\n",
              "          document.querySelector('#df-df83b812-4aba-4064-9532-a93be3a2c02c button.colab-df-convert');\n",
              "        buttonEl.style.display =\n",
              "          google.colab.kernel.accessAllowed ? 'block' : 'none';\n",
              "\n",
              "        async function convertToInteractive(key) {\n",
              "          const element = document.querySelector('#df-df83b812-4aba-4064-9532-a93be3a2c02c');\n",
              "          const dataTable =\n",
              "            await google.colab.kernel.invokeFunction('convertToInteractive',\n",
              "                                                     [key], {});\n",
              "          if (!dataTable) return;\n",
              "\n",
              "          const docLinkHtml = 'Like what you see? Visit the ' +\n",
              "            '<a target=\"_blank\" href=https://colab.research.google.com/notebooks/data_table.ipynb>data table notebook</a>'\n",
              "            + ' to learn more about interactive tables.';\n",
              "          element.innerHTML = '';\n",
              "          dataTable['output_type'] = 'display_data';\n",
              "          await google.colab.output.renderOutput(dataTable, element);\n",
              "          const docLink = document.createElement('div');\n",
              "          docLink.innerHTML = docLinkHtml;\n",
              "          element.appendChild(docLink);\n",
              "        }\n",
              "      </script>\n",
              "    </div>\n",
              "  </div>\n",
              "  "
            ]
          },
          "metadata": {}
        }
      ]
    },
    {
      "cell_type": "code",
      "source": [
        "df_train.describe()"
      ],
      "metadata": {
        "colab": {
          "base_uri": "https://localhost:8080/",
          "height": 300
        },
        "id": "ffFci4JF6H7n",
        "outputId": "7138fdb9-7ccb-4018-f8d6-b4c7edce2d2f"
      },
      "execution_count": null,
      "outputs": [
        {
          "output_type": "execute_result",
          "data": {
            "text/plain": [
              "       SepalLengthCm  SepalWidthCm  PetalLengthCm  PetalWidthCm\n",
              "count   1.050000e+02  1.050000e+02   1.050000e+02  1.050000e+02\n",
              "mean    4.652363e-16 -8.934652e-17  -1.036208e-16 -6.132661e-17\n",
              "std     1.004796e+00  1.004796e+00   1.004796e+00  1.004796e+00\n",
              "min    -1.875264e+00 -2.489319e+00  -1.555787e+00 -1.434683e+00\n",
              "25%    -7.913958e-01 -6.273171e-01  -1.221152e+00 -1.172925e+00\n",
              "50%    -6.881702e-02 -1.618168e-01   2.847054e-01  1.358648e-01\n",
              "75%     6.537617e-01  7.691839e-01   7.308854e-01  7.902596e-01\n",
              "max     2.460209e+00  2.631185e+00   1.734790e+00  1.706412e+00"
            ],
            "text/html": [
              "\n",
              "  <div id=\"df-790d95ba-be8f-46e2-abef-316a78803da9\">\n",
              "    <div class=\"colab-df-container\">\n",
              "      <div>\n",
              "<style scoped>\n",
              "    .dataframe tbody tr th:only-of-type {\n",
              "        vertical-align: middle;\n",
              "    }\n",
              "\n",
              "    .dataframe tbody tr th {\n",
              "        vertical-align: top;\n",
              "    }\n",
              "\n",
              "    .dataframe thead th {\n",
              "        text-align: right;\n",
              "    }\n",
              "</style>\n",
              "<table border=\"1\" class=\"dataframe\">\n",
              "  <thead>\n",
              "    <tr style=\"text-align: right;\">\n",
              "      <th></th>\n",
              "      <th>SepalLengthCm</th>\n",
              "      <th>SepalWidthCm</th>\n",
              "      <th>PetalLengthCm</th>\n",
              "      <th>PetalWidthCm</th>\n",
              "    </tr>\n",
              "  </thead>\n",
              "  <tbody>\n",
              "    <tr>\n",
              "      <th>count</th>\n",
              "      <td>1.050000e+02</td>\n",
              "      <td>1.050000e+02</td>\n",
              "      <td>1.050000e+02</td>\n",
              "      <td>1.050000e+02</td>\n",
              "    </tr>\n",
              "    <tr>\n",
              "      <th>mean</th>\n",
              "      <td>4.652363e-16</td>\n",
              "      <td>-8.934652e-17</td>\n",
              "      <td>-1.036208e-16</td>\n",
              "      <td>-6.132661e-17</td>\n",
              "    </tr>\n",
              "    <tr>\n",
              "      <th>std</th>\n",
              "      <td>1.004796e+00</td>\n",
              "      <td>1.004796e+00</td>\n",
              "      <td>1.004796e+00</td>\n",
              "      <td>1.004796e+00</td>\n",
              "    </tr>\n",
              "    <tr>\n",
              "      <th>min</th>\n",
              "      <td>-1.875264e+00</td>\n",
              "      <td>-2.489319e+00</td>\n",
              "      <td>-1.555787e+00</td>\n",
              "      <td>-1.434683e+00</td>\n",
              "    </tr>\n",
              "    <tr>\n",
              "      <th>25%</th>\n",
              "      <td>-7.913958e-01</td>\n",
              "      <td>-6.273171e-01</td>\n",
              "      <td>-1.221152e+00</td>\n",
              "      <td>-1.172925e+00</td>\n",
              "    </tr>\n",
              "    <tr>\n",
              "      <th>50%</th>\n",
              "      <td>-6.881702e-02</td>\n",
              "      <td>-1.618168e-01</td>\n",
              "      <td>2.847054e-01</td>\n",
              "      <td>1.358648e-01</td>\n",
              "    </tr>\n",
              "    <tr>\n",
              "      <th>75%</th>\n",
              "      <td>6.537617e-01</td>\n",
              "      <td>7.691839e-01</td>\n",
              "      <td>7.308854e-01</td>\n",
              "      <td>7.902596e-01</td>\n",
              "    </tr>\n",
              "    <tr>\n",
              "      <th>max</th>\n",
              "      <td>2.460209e+00</td>\n",
              "      <td>2.631185e+00</td>\n",
              "      <td>1.734790e+00</td>\n",
              "      <td>1.706412e+00</td>\n",
              "    </tr>\n",
              "  </tbody>\n",
              "</table>\n",
              "</div>\n",
              "      <button class=\"colab-df-convert\" onclick=\"convertToInteractive('df-790d95ba-be8f-46e2-abef-316a78803da9')\"\n",
              "              title=\"Convert this dataframe to an interactive table.\"\n",
              "              style=\"display:none;\">\n",
              "        \n",
              "  <svg xmlns=\"http://www.w3.org/2000/svg\" height=\"24px\"viewBox=\"0 0 24 24\"\n",
              "       width=\"24px\">\n",
              "    <path d=\"M0 0h24v24H0V0z\" fill=\"none\"/>\n",
              "    <path d=\"M18.56 5.44l.94 2.06.94-2.06 2.06-.94-2.06-.94-.94-2.06-.94 2.06-2.06.94zm-11 1L8.5 8.5l.94-2.06 2.06-.94-2.06-.94L8.5 2.5l-.94 2.06-2.06.94zm10 10l.94 2.06.94-2.06 2.06-.94-2.06-.94-.94-2.06-.94 2.06-2.06.94z\"/><path d=\"M17.41 7.96l-1.37-1.37c-.4-.4-.92-.59-1.43-.59-.52 0-1.04.2-1.43.59L10.3 9.45l-7.72 7.72c-.78.78-.78 2.05 0 2.83L4 21.41c.39.39.9.59 1.41.59.51 0 1.02-.2 1.41-.59l7.78-7.78 2.81-2.81c.8-.78.8-2.07 0-2.86zM5.41 20L4 18.59l7.72-7.72 1.47 1.35L5.41 20z\"/>\n",
              "  </svg>\n",
              "      </button>\n",
              "      \n",
              "  <style>\n",
              "    .colab-df-container {\n",
              "      display:flex;\n",
              "      flex-wrap:wrap;\n",
              "      gap: 12px;\n",
              "    }\n",
              "\n",
              "    .colab-df-convert {\n",
              "      background-color: #E8F0FE;\n",
              "      border: none;\n",
              "      border-radius: 50%;\n",
              "      cursor: pointer;\n",
              "      display: none;\n",
              "      fill: #1967D2;\n",
              "      height: 32px;\n",
              "      padding: 0 0 0 0;\n",
              "      width: 32px;\n",
              "    }\n",
              "\n",
              "    .colab-df-convert:hover {\n",
              "      background-color: #E2EBFA;\n",
              "      box-shadow: 0px 1px 2px rgba(60, 64, 67, 0.3), 0px 1px 3px 1px rgba(60, 64, 67, 0.15);\n",
              "      fill: #174EA6;\n",
              "    }\n",
              "\n",
              "    [theme=dark] .colab-df-convert {\n",
              "      background-color: #3B4455;\n",
              "      fill: #D2E3FC;\n",
              "    }\n",
              "\n",
              "    [theme=dark] .colab-df-convert:hover {\n",
              "      background-color: #434B5C;\n",
              "      box-shadow: 0px 1px 3px 1px rgba(0, 0, 0, 0.15);\n",
              "      filter: drop-shadow(0px 1px 2px rgba(0, 0, 0, 0.3));\n",
              "      fill: #FFFFFF;\n",
              "    }\n",
              "  </style>\n",
              "\n",
              "      <script>\n",
              "        const buttonEl =\n",
              "          document.querySelector('#df-790d95ba-be8f-46e2-abef-316a78803da9 button.colab-df-convert');\n",
              "        buttonEl.style.display =\n",
              "          google.colab.kernel.accessAllowed ? 'block' : 'none';\n",
              "\n",
              "        async function convertToInteractive(key) {\n",
              "          const element = document.querySelector('#df-790d95ba-be8f-46e2-abef-316a78803da9');\n",
              "          const dataTable =\n",
              "            await google.colab.kernel.invokeFunction('convertToInteractive',\n",
              "                                                     [key], {});\n",
              "          if (!dataTable) return;\n",
              "\n",
              "          const docLinkHtml = 'Like what you see? Visit the ' +\n",
              "            '<a target=\"_blank\" href=https://colab.research.google.com/notebooks/data_table.ipynb>data table notebook</a>'\n",
              "            + ' to learn more about interactive tables.';\n",
              "          element.innerHTML = '';\n",
              "          dataTable['output_type'] = 'display_data';\n",
              "          await google.colab.output.renderOutput(dataTable, element);\n",
              "          const docLink = document.createElement('div');\n",
              "          docLink.innerHTML = docLinkHtml;\n",
              "          element.appendChild(docLink);\n",
              "        }\n",
              "      </script>\n",
              "    </div>\n",
              "  </div>\n",
              "  "
            ]
          },
          "metadata": {},
          "execution_count": 19
        }
      ]
    },
    {
      "cell_type": "code",
      "source": [
        "df_train.hist()"
      ],
      "metadata": {
        "colab": {
          "base_uri": "https://localhost:8080/",
          "height": 368
        },
        "id": "1VESpXNhBNiq",
        "outputId": "78744c96-0685-4fd9-b46d-2fbd120f2643"
      },
      "execution_count": null,
      "outputs": [
        {
          "output_type": "execute_result",
          "data": {
            "text/plain": [
              "array([[<matplotlib.axes._subplots.AxesSubplot object at 0x7f2cb2a5ecd0>,\n",
              "        <matplotlib.axes._subplots.AxesSubplot object at 0x7f2cb2a3c310>],\n",
              "       [<matplotlib.axes._subplots.AxesSubplot object at 0x7f2cb29f4910>,\n",
              "        <matplotlib.axes._subplots.AxesSubplot object at 0x7f2cb29a9f10>]],\n",
              "      dtype=object)"
            ]
          },
          "metadata": {},
          "execution_count": 20
        },
        {
          "output_type": "display_data",
          "data": {
            "text/plain": [
              "<Figure size 432x288 with 4 Axes>"
            ],
            "image/png": "[encoded data removed]"
          },
          "metadata": {
            "needs_background": "light"
          }
        }
      ]
    },
    {
      "cell_type": "code",
      "source": [
        "df_test = pd.DataFrame(X_test_sc,index=X_test_sc[:,0],columns=X_test.columns)"
      ],
      "metadata": {
        "id": "M9f5M6_XCC4r"
      },
      "execution_count": null,
      "outputs": []
    },
    {
      "cell_type": "code",
      "source": [
        "df_test.hist()"
      ],
      "metadata": {
        "colab": {
          "base_uri": "https://localhost:8080/",
          "height": 368
        },
        "id": "mAlP7eS6CK2j",
        "outputId": "97790e90-d889-4810-ecda-2c9f35864d36"
      },
      "execution_count": null,
      "outputs": [
        {
          "output_type": "execute_result",
          "data": {
            "text/plain": [
              "array([[<matplotlib.axes._subplots.AxesSubplot object at 0x7f2cb23d63d0>,\n",
              "        <matplotlib.axes._subplots.AxesSubplot object at 0x7f2cb2390750>],\n",
              "       [<matplotlib.axes._subplots.AxesSubplot object at 0x7f2cb23c3d50>,\n",
              "        <matplotlib.axes._subplots.AxesSubplot object at 0x7f2cb2387390>]],\n",
              "      dtype=object)"
            ]
          },
          "metadata": {},
          "execution_count": 22
        },
        {
          "output_type": "display_data",
          "data": {
            "text/plain": [
              "<Figure size 432x288 with 4 Axes>"
            ],
            "image/png": "[encoded data removed]"
          },
          "metadata": {
            "needs_background": "light"
          }
        }
      ]
    },
    {
      "cell_type": "markdown",
      "metadata": {
        "id": "67w_Iq3hT-1p"
      },
      "source": [
        "### KNN Model\n",
        "\n",
        "#### Agora iremos aplicar nossos dados ao algoritmo KNN"
      ]
    },
    {
      "cell_type": "code",
      "execution_count": null,
      "metadata": {
        "colab": {
          "base_uri": "https://localhost:8080/"
        },
        "id": "4osF88SyT-1p",
        "outputId": "8d452397-749e-420e-a81c-9051a6ee50e1"
      },
      "outputs": [
        {
          "output_type": "execute_result",
          "data": {
            "text/plain": [
              "KNeighborsClassifier()"
            ]
          },
          "metadata": {},
          "execution_count": 23
        }
      ],
      "source": [
        "from sklearn.neighbors import KNeighborsClassifier  \n",
        "\n",
        "classifier = KNeighborsClassifier(n_neighbors=5)  \n",
        "classifier.fit(X_train, y_train)  "
      ]
    },
    {
      "cell_type": "code",
      "execution_count": null,
      "metadata": {
        "id": "87fmZH1oT-1p"
      },
      "outputs": [],
      "source": [
        "y_pred = classifier.predict(X_test) "
      ]
    },
    {
      "cell_type": "markdown",
      "metadata": {
        "id": "Wp1qU8-0T-1p"
      },
      "source": [
        "### Avaliando o Algoritmo\n",
        "##### Analisando e validando os resultados obtidos"
      ]
    },
    {
      "cell_type": "markdown",
      "source": [
        "#### Métricas implementadas no sklearn"
      ],
      "metadata": {
        "id": "P79UQZh0Feb-"
      }
    },
    {
      "cell_type": "markdown",
      "source": [
        "![Captura de tela de 2022-06-30 21-07-07.png](data:image/png;base64,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)"
      ],
      "metadata": {
        "id": "uJomONKeFO39"
      }
    },
    {
      "cell_type": "code",
      "source": [
        "from sklearn.metrics import accuracy_score\n",
        "print(\"accuracy on test: \", accuracy_score(y_test, y_pred))  \n"
      ],
      "metadata": {
        "colab": {
          "base_uri": "https://localhost:8080/"
        },
        "id": "kX1IsWrQEDDX",
        "outputId": "5c3a78c5-97ea-4561-88fa-31053dda452c"
      },
      "execution_count": null,
      "outputs": [
        {
          "output_type": "stream",
          "name": "stdout",
          "text": [
            "accuracy on test:  0.9555555555555556\n"
          ]
        }
      ]
    },
    {
      "cell_type": "code",
      "source": [
        "from sklearn.metrics import balanced_accuracy_score\n",
        "help(balanced_accuracy_score)"
      ],
      "metadata": {
        "colab": {
          "base_uri": "https://localhost:8080/"
        },
        "id": "pef_o1j7TH6f",
        "outputId": "f7170ab2-767a-402a-ca86-894c05e315fe"
      },
      "execution_count": null,
      "outputs": [
        {
          "output_type": "stream",
          "name": "stdout",
          "text": [
            "Help on function balanced_accuracy_score in module sklearn.metrics._classification:\n",
            "\n",
            "balanced_accuracy_score(y_true, y_pred, *, sample_weight=None, adjusted=False)\n",
            "    Compute the balanced accuracy.\n",
            "    \n",
            "    The balanced accuracy in binary and multiclass classification problems to\n",
            "    deal with imbalanced datasets. It is defined as the average of recall\n",
            "    obtained on each class.\n",
            "    \n",
            "    The best value is 1 and the worst value is 0 when ``adjusted=False``.\n",
            "    \n",
            "    Read more in the :ref:`User Guide <balanced_accuracy_score>`.\n",
            "    \n",
            "    .. versionadded:: 0.20\n",
            "    \n",
            "    Parameters\n",
            "    ----------\n",
            "    y_true : 1d array-like\n",
            "        Ground truth (correct) target values.\n",
            "    \n",
            "    y_pred : 1d array-like\n",
            "        Estimated targets as returned by a classifier.\n",
            "    \n",
            "    sample_weight : array-like of shape (n_samples,), default=None\n",
            "        Sample weights.\n",
            "    \n",
            "    adjusted : bool, default=False\n",
            "        When true, the result is adjusted for chance, so that random\n",
            "        performance would score 0, while keeping perfect performance at a score\n",
            "        of 1.\n",
            "    \n",
            "    Returns\n",
            "    -------\n",
            "    balanced_accuracy : float\n",
            "        Balanced accuracy score.\n",
            "    \n",
            "    See Also\n",
            "    --------\n",
            "    average_precision_score : Compute average precision (AP) from prediction\n",
            "        scores.\n",
            "    precision_score : Compute the precision score.\n",
            "    recall_score : Compute the recall score.\n",
            "    roc_auc_score : Compute Area Under the Receiver Operating Characteristic\n",
            "        Curve (ROC AUC) from prediction scores.\n",
            "    \n",
            "    Notes\n",
            "    -----\n",
            "    Some literature promotes alternative definitions of balanced accuracy. Our\n",
            "    definition is equivalent to :func:`accuracy_score` with class-balanced\n",
            "    sample weights, and shares desirable properties with the binary case.\n",
            "    See the :ref:`User Guide <balanced_accuracy_score>`.\n",
            "    \n",
            "    References\n",
            "    ----------\n",
            "    .. [1] Brodersen, K.H.; Ong, C.S.; Stephan, K.E.; Buhmann, J.M. (2010).\n",
            "           The balanced accuracy and its posterior distribution.\n",
            "           Proceedings of the 20th International Conference on Pattern\n",
            "           Recognition, 3121-24.\n",
            "    .. [2] John. D. Kelleher, Brian Mac Namee, Aoife D'Arcy, (2015).\n",
            "           `Fundamentals of Machine Learning for Predictive Data Analytics:\n",
            "           Algorithms, Worked Examples, and Case Studies\n",
            "           <https://mitpress.mit.edu/books/fundamentals-machine-learning-predictive-data-analytics>`_.\n",
            "    \n",
            "    Examples\n",
            "    --------\n",
            "    >>> from sklearn.metrics import balanced_accuracy_score\n",
            "    >>> y_true = [0, 1, 0, 0, 1, 0]\n",
            "    >>> y_pred = [0, 1, 0, 0, 0, 1]\n",
            "    >>> balanced_accuracy_score(y_true, y_pred)\n",
            "    0.625\n",
            "\n"
          ]
        }
      ]
    },
    {
      "cell_type": "code",
      "source": [
        "print(\"balanced accuracy on test: \", balanced_accuracy_score(y_test, y_pred))  \n"
      ],
      "metadata": {
        "colab": {
          "base_uri": "https://localhost:8080/"
        },
        "id": "X4Itd2WZF8bE",
        "outputId": "2e1d411e-bbbb-4e2b-af06-1ac8fd53ccaa"
      },
      "execution_count": null,
      "outputs": [
        {
          "output_type": "stream",
          "name": "stdout",
          "text": [
            "balanced accuracy on test:  0.9558404558404558\n"
          ]
        }
      ]
    },
    {
      "cell_type": "code",
      "source": [
        "from sklearn.metrics import f1_score\n",
        "\n",
        "help(f1_score)  \n"
      ],
      "metadata": {
        "colab": {
          "base_uri": "https://localhost:8080/"
        },
        "id": "ZU_8cSuYF8Tk",
        "outputId": "a7d0b77c-67b7-487b-9e7c-9114b7edbfb8"
      },
      "execution_count": null,
      "outputs": [
        {
          "output_type": "stream",
          "name": "stdout",
          "text": [
            "Help on function f1_score in module sklearn.metrics._classification:\n",
            "\n",
            "f1_score(y_true, y_pred, *, labels=None, pos_label=1, average='binary', sample_weight=None, zero_division='warn')\n",
            "    Compute the F1 score, also known as balanced F-score or F-measure.\n",
            "    \n",
            "    The F1 score can be interpreted as a harmonic mean of the precision and\n",
            "    recall, where an F1 score reaches its best value at 1 and worst score at 0.\n",
            "    The relative contribution of precision and recall to the F1 score are\n",
            "    equal. The formula for the F1 score is::\n",
            "    \n",
            "        F1 = 2 * (precision * recall) / (precision + recall)\n",
            "    \n",
            "    In the multi-class and multi-label case, this is the average of\n",
            "    the F1 score of each class with weighting depending on the ``average``\n",
            "    parameter.\n",
            "    \n",
            "    Read more in the :ref:`User Guide <precision_recall_f_measure_metrics>`.\n",
            "    \n",
            "    Parameters\n",
            "    ----------\n",
            "    y_true : 1d array-like, or label indicator array / sparse matrix\n",
            "        Ground truth (correct) target values.\n",
            "    \n",
            "    y_pred : 1d array-like, or label indicator array / sparse matrix\n",
            "        Estimated targets as returned by a classifier.\n",
            "    \n",
            "    labels : array-like, default=None\n",
            "        The set of labels to include when ``average != 'binary'``, and their\n",
            "        order if ``average is None``. Labels present in the data can be\n",
            "        excluded, for example to calculate a multiclass average ignoring a\n",
            "        majority negative class, while labels not present in the data will\n",
            "        result in 0 components in a macro average. For multilabel targets,\n",
            "        labels are column indices. By default, all labels in ``y_true`` and\n",
            "        ``y_pred`` are used in sorted order.\n",
            "    \n",
            "        .. versionchanged:: 0.17\n",
            "           Parameter `labels` improved for multiclass problem.\n",
            "    \n",
            "    pos_label : str or int, default=1\n",
            "        The class to report if ``average='binary'`` and the data is binary.\n",
            "        If the data are multiclass or multilabel, this will be ignored;\n",
            "        setting ``labels=[pos_label]`` and ``average != 'binary'`` will report\n",
            "        scores for that label only.\n",
            "    \n",
            "    average : {'micro', 'macro', 'samples','weighted', 'binary'} or None,             default='binary'\n",
            "        This parameter is required for multiclass/multilabel targets.\n",
            "        If ``None``, the scores for each class are returned. Otherwise, this\n",
            "        determines the type of averaging performed on the data:\n",
            "    \n",
            "        ``'binary'``:\n",
            "            Only report results for the class specified by ``pos_label``.\n",
            "            This is applicable only if targets (``y_{true,pred}``) are binary.\n",
            "        ``'micro'``:\n",
            "            Calculate metrics globally by counting the total true positives,\n",
            "            false negatives and false positives.\n",
            "        ``'macro'``:\n",
            "            Calculate metrics for each label, and find their unweighted\n",
            "            mean.  This does not take label imbalance into account.\n",
            "        ``'weighted'``:\n",
            "            Calculate metrics for each label, and find their average weighted\n",
            "            by support (the number of true instances for each label). This\n",
            "            alters 'macro' to account for label imbalance; it can result in an\n",
            "            F-score that is not between precision and recall.\n",
            "        ``'samples'``:\n",
            "            Calculate metrics for each instance, and find their average (only\n",
            "            meaningful for multilabel classification where this differs from\n",
            "            :func:`accuracy_score`).\n",
            "    \n",
            "    sample_weight : array-like of shape (n_samples,), default=None\n",
            "        Sample weights.\n",
            "    \n",
            "    zero_division : \"warn\", 0 or 1, default=\"warn\"\n",
            "        Sets the value to return when there is a zero division, i.e. when all\n",
            "        predictions and labels are negative. If set to \"warn\", this acts as 0,\n",
            "        but warnings are also raised.\n",
            "    \n",
            "    Returns\n",
            "    -------\n",
            "    f1_score : float or array of float, shape = [n_unique_labels]\n",
            "        F1 score of the positive class in binary classification or weighted\n",
            "        average of the F1 scores of each class for the multiclass task.\n",
            "    \n",
            "    See Also\n",
            "    --------\n",
            "    fbeta_score, precision_recall_fscore_support, jaccard_score,\n",
            "    multilabel_confusion_matrix\n",
            "    \n",
            "    References\n",
            "    ----------\n",
            "    .. [1] `Wikipedia entry for the F1-score\n",
            "           <https://en.wikipedia.org/wiki/F1_score>`_.\n",
            "    \n",
            "    Examples\n",
            "    --------\n",
            "    >>> from sklearn.metrics import f1_score\n",
            "    >>> y_true = [0, 1, 2, 0, 1, 2]\n",
            "    >>> y_pred = [0, 2, 1, 0, 0, 1]\n",
            "    >>> f1_score(y_true, y_pred, average='macro')\n",
            "    0.26...\n",
            "    >>> f1_score(y_true, y_pred, average='micro')\n",
            "    0.33...\n",
            "    >>> f1_score(y_true, y_pred, average='weighted')\n",
            "    0.26...\n",
            "    >>> f1_score(y_true, y_pred, average=None)\n",
            "    array([0.8, 0. , 0. ])\n",
            "    >>> y_true = [0, 0, 0, 0, 0, 0]\n",
            "    >>> y_pred = [0, 0, 0, 0, 0, 0]\n",
            "    >>> f1_score(y_true, y_pred, zero_division=1)\n",
            "    1.0...\n",
            "    >>> # multilabel classification\n",
            "    >>> y_true = [[0, 0, 0], [1, 1, 1], [0, 1, 1]]\n",
            "    >>> y_pred = [[0, 0, 0], [1, 1, 1], [1, 1, 0]]\n",
            "    >>> f1_score(y_true, y_pred, average=None)\n",
            "    array([0.66666667, 1.        , 0.66666667])\n",
            "    \n",
            "    Notes\n",
            "    -----\n",
            "    When ``true positive + false positive == 0``, precision is undefined.\n",
            "    When ``true positive + false negative == 0``, recall is undefined.\n",
            "    In such cases, by default the metric will be set to 0, as will f-score,\n",
            "    and ``UndefinedMetricWarning`` will be raised. This behavior can be\n",
            "    modified with ``zero_division``.\n",
            "\n"
          ]
        }
      ]
    },
    {
      "cell_type": "markdown",
      "source": [
        "``'micro'``:\n",
        "            Calculate metrics globally by counting the total true positives,\n",
        "            false negatives and false positives.\n",
        "        \n",
        "``'macro'``:\n",
        "            Calculate metrics for each label, and find their unweighted\n",
        "            mean.  This does not take label imbalance into account."
      ],
      "metadata": {
        "id": "XfA59GM9UFor"
      }
    },
    {
      "cell_type": "code",
      "source": [
        "print(\"f1_score on test: \", f1_score(y_test, y_pred,average='macro'))"
      ],
      "metadata": {
        "colab": {
          "base_uri": "https://localhost:8080/"
        },
        "id": "nsaLm6-oGn9d",
        "outputId": "1f45ae10-b89f-46d5-a8bc-521562ddb7b4"
      },
      "execution_count": null,
      "outputs": [
        {
          "output_type": "stream",
          "name": "stdout",
          "text": [
            "f1_score on test:  0.9777530589543938\n"
          ]
        }
      ]
    },
    {
      "cell_type": "code",
      "source": [
        "print(\"f1_score on test: \", f1_score(y_test, y_pred,average='micro'))"
      ],
      "metadata": {
        "colab": {
          "base_uri": "https://localhost:8080/"
        },
        "id": "xMXWG5OxJrkF",
        "outputId": "01431cc3-eddc-42ce-c999-890a9581dfea"
      },
      "execution_count": null,
      "outputs": [
        {
          "output_type": "stream",
          "name": "stdout",
          "text": [
            "f1_score on test:  0.9777530589543938\n"
          ]
        }
      ]
    },
    {
      "cell_type": "code",
      "source": [
        "from sklearn.metrics import precision_score\n",
        "help(precision_score)"
      ],
      "metadata": {
        "colab": {
          "base_uri": "https://localhost:8080/"
        },
        "id": "VxzQBQ7HIktd",
        "outputId": "80a403f3-810f-4b51-d1f0-e3b9943e0161"
      },
      "execution_count": null,
      "outputs": [
        {
          "output_type": "stream",
          "name": "stdout",
          "text": [
            "Help on function precision_score in module sklearn.metrics._classification:\n",
            "\n",
            "precision_score(y_true, y_pred, *, labels=None, pos_label=1, average='binary', sample_weight=None, zero_division='warn')\n",
            "    Compute the precision.\n",
            "    \n",
            "    The precision is the ratio ``tp / (tp + fp)`` where ``tp`` is the number of\n",
            "    true positives and ``fp`` the number of false positives. The precision is\n",
            "    intuitively the ability of the classifier not to label as positive a sample\n",
            "    that is negative.\n",
            "    \n",
            "    The best value is 1 and the worst value is 0.\n",
            "    \n",
            "    Read more in the :ref:`User Guide <precision_recall_f_measure_metrics>`.\n",
            "    \n",
            "    Parameters\n",
            "    ----------\n",
            "    y_true : 1d array-like, or label indicator array / sparse matrix\n",
            "        Ground truth (correct) target values.\n",
            "    \n",
            "    y_pred : 1d array-like, or label indicator array / sparse matrix\n",
            "        Estimated targets as returned by a classifier.\n",
            "    \n",
            "    labels : array-like, default=None\n",
            "        The set of labels to include when ``average != 'binary'``, and their\n",
            "        order if ``average is None``. Labels present in the data can be\n",
            "        excluded, for example to calculate a multiclass average ignoring a\n",
            "        majority negative class, while labels not present in the data will\n",
            "        result in 0 components in a macro average. For multilabel targets,\n",
            "        labels are column indices. By default, all labels in ``y_true`` and\n",
            "        ``y_pred`` are used in sorted order.\n",
            "    \n",
            "        .. versionchanged:: 0.17\n",
            "           Parameter `labels` improved for multiclass problem.\n",
            "    \n",
            "    pos_label : str or int, default=1\n",
            "        The class to report if ``average='binary'`` and the data is binary.\n",
            "        If the data are multiclass or multilabel, this will be ignored;\n",
            "        setting ``labels=[pos_label]`` and ``average != 'binary'`` will report\n",
            "        scores for that label only.\n",
            "    \n",
            "    average : {'micro', 'macro', 'samples', 'weighted', 'binary'} or None,             default='binary'\n",
            "        This parameter is required for multiclass/multilabel targets.\n",
            "        If ``None``, the scores for each class are returned. Otherwise, this\n",
            "        determines the type of averaging performed on the data:\n",
            "    \n",
            "        ``'binary'``:\n",
            "            Only report results for the class specified by ``pos_label``.\n",
            "            This is applicable only if targets (``y_{true,pred}``) are binary.\n",
            "        ``'micro'``:\n",
            "            Calculate metrics globally by counting the total true positives,\n",
            "            false negatives and false positives.\n",
            "        ``'macro'``:\n",
            "            Calculate metrics for each label, and find their unweighted\n",
            "            mean.  This does not take label imbalance into account.\n",
            "        ``'weighted'``:\n",
            "            Calculate metrics for each label, and find their average weighted\n",
            "            by support (the number of true instances for each label). This\n",
            "            alters 'macro' to account for label imbalance; it can result in an\n",
            "            F-score that is not between precision and recall.\n",
            "        ``'samples'``:\n",
            "            Calculate metrics for each instance, and find their average (only\n",
            "            meaningful for multilabel classification where this differs from\n",
            "            :func:`accuracy_score`).\n",
            "    \n",
            "    sample_weight : array-like of shape (n_samples,), default=None\n",
            "        Sample weights.\n",
            "    \n",
            "    zero_division : \"warn\", 0 or 1, default=\"warn\"\n",
            "        Sets the value to return when there is a zero division. If set to\n",
            "        \"warn\", this acts as 0, but warnings are also raised.\n",
            "    \n",
            "    Returns\n",
            "    -------\n",
            "    precision : float (if average is not None) or array of float of shape                 (n_unique_labels,)\n",
            "        Precision of the positive class in binary classification or weighted\n",
            "        average of the precision of each class for the multiclass task.\n",
            "    \n",
            "    See Also\n",
            "    --------\n",
            "    precision_recall_fscore_support : Compute precision, recall, F-measure and\n",
            "        support for each class.\n",
            "    recall_score :  Compute the ratio ``tp / (tp + fn)`` where ``tp`` is the\n",
            "        number of true positives and ``fn`` the number of false negatives.\n",
            "    PrecisionRecallDisplay.from_estimator : Plot precision-recall curve given\n",
            "        an estimator and some data.\n",
            "    PrecisionRecallDisplay.from_predictions : Plot precision-recall curve given\n",
            "        binary class predictions.\n",
            "    multilabel_confusion_matrix : Compute a confusion matrix for each class or\n",
            "        sample.\n",
            "    \n",
            "    Notes\n",
            "    -----\n",
            "    When ``true positive + false positive == 0``, precision returns 0 and\n",
            "    raises ``UndefinedMetricWarning``. This behavior can be\n",
            "    modified with ``zero_division``.\n",
            "    \n",
            "    Examples\n",
            "    --------\n",
            "    >>> from sklearn.metrics import precision_score\n",
            "    >>> y_true = [0, 1, 2, 0, 1, 2]\n",
            "    >>> y_pred = [0, 2, 1, 0, 0, 1]\n",
            "    >>> precision_score(y_true, y_pred, average='macro')\n",
            "    0.22...\n",
            "    >>> precision_score(y_true, y_pred, average='micro')\n",
            "    0.33...\n",
            "    >>> precision_score(y_true, y_pred, average='weighted')\n",
            "    0.22...\n",
            "    >>> precision_score(y_true, y_pred, average=None)\n",
            "    array([0.66..., 0.        , 0.        ])\n",
            "    >>> y_pred = [0, 0, 0, 0, 0, 0]\n",
            "    >>> precision_score(y_true, y_pred, average=None)\n",
            "    array([0.33..., 0.        , 0.        ])\n",
            "    >>> precision_score(y_true, y_pred, average=None, zero_division=1)\n",
            "    array([0.33..., 1.        , 1.        ])\n",
            "    >>> # multilabel classification\n",
            "    >>> y_true = [[0, 0, 0], [1, 1, 1], [0, 1, 1]]\n",
            "    >>> y_pred = [[0, 0, 0], [1, 1, 1], [1, 1, 0]]\n",
            "    >>> precision_score(y_true, y_pred, average=None)\n",
            "    array([0.5, 1. , 1. ])\n",
            "\n"
          ]
        }
      ]
    },
    {
      "cell_type": "code",
      "source": [
        "print(\"precision_score on test: \", precision_score(y_test, y_pred,average=\"macro\"))  \n"
      ],
      "metadata": {
        "colab": {
          "base_uri": "https://localhost:8080/"
        },
        "id": "C66uv9CSF8ED",
        "outputId": "a49ad31f-7e46-40ad-bd30-62ea3d7d4704"
      },
      "execution_count": null,
      "outputs": [
        {
          "output_type": "stream",
          "name": "stdout",
          "text": [
            "precision_score on test:  0.9791666666666666\n"
          ]
        }
      ]
    },
    {
      "cell_type": "code",
      "source": [
        "print(\"precision_score on test: \", precision_score(y_test, y_pred,average=\"micro\"))  \n"
      ],
      "metadata": {
        "colab": {
          "base_uri": "https://localhost:8080/"
        },
        "id": "xhqx1jU3J0EF",
        "outputId": "ec4c7840-6d5d-499e-e463-0265fe9181f2"
      },
      "execution_count": null,
      "outputs": [
        {
          "output_type": "stream",
          "name": "stdout",
          "text": [
            "precision_score on test:  0.9777777777777777\n"
          ]
        }
      ]
    },
    {
      "cell_type": "code",
      "source": [
        "from sklearn.metrics import recall_score\n",
        "\n",
        "help(recall_score)"
      ],
      "metadata": {
        "colab": {
          "base_uri": "https://localhost:8080/"
        },
        "id": "-kK4xIleKUW9",
        "outputId": "08fba2a4-03fe-4a27-9b5f-4a74431aa00d"
      },
      "execution_count": null,
      "outputs": [
        {
          "output_type": "stream",
          "name": "stdout",
          "text": [
            "Help on function recall_score in module sklearn.metrics._classification:\n",
            "\n",
            "recall_score(y_true, y_pred, *, labels=None, pos_label=1, average='binary', sample_weight=None, zero_division='warn')\n",
            "    Compute the recall.\n",
            "    \n",
            "    The recall is the ratio ``tp / (tp + fn)`` where ``tp`` is the number of\n",
            "    true positives and ``fn`` the number of false negatives. The recall is\n",
            "    intuitively the ability of the classifier to find all the positive samples.\n",
            "    \n",
            "    The best value is 1 and the worst value is 0.\n",
            "    \n",
            "    Read more in the :ref:`User Guide <precision_recall_f_measure_metrics>`.\n",
            "    \n",
            "    Parameters\n",
            "    ----------\n",
            "    y_true : 1d array-like, or label indicator array / sparse matrix\n",
            "        Ground truth (correct) target values.\n",
            "    \n",
            "    y_pred : 1d array-like, or label indicator array / sparse matrix\n",
            "        Estimated targets as returned by a classifier.\n",
            "    \n",
            "    labels : array-like, default=None\n",
            "        The set of labels to include when ``average != 'binary'``, and their\n",
            "        order if ``average is None``. Labels present in the data can be\n",
            "        excluded, for example to calculate a multiclass average ignoring a\n",
            "        majority negative class, while labels not present in the data will\n",
            "        result in 0 components in a macro average. For multilabel targets,\n",
            "        labels are column indices. By default, all labels in ``y_true`` and\n",
            "        ``y_pred`` are used in sorted order.\n",
            "    \n",
            "        .. versionchanged:: 0.17\n",
            "           Parameter `labels` improved for multiclass problem.\n",
            "    \n",
            "    pos_label : str or int, default=1\n",
            "        The class to report if ``average='binary'`` and the data is binary.\n",
            "        If the data are multiclass or multilabel, this will be ignored;\n",
            "        setting ``labels=[pos_label]`` and ``average != 'binary'`` will report\n",
            "        scores for that label only.\n",
            "    \n",
            "    average : {'micro', 'macro', 'samples', 'weighted', 'binary'} or None,             default='binary'\n",
            "        This parameter is required for multiclass/multilabel targets.\n",
            "        If ``None``, the scores for each class are returned. Otherwise, this\n",
            "        determines the type of averaging performed on the data:\n",
            "    \n",
            "        ``'binary'``:\n",
            "            Only report results for the class specified by ``pos_label``.\n",
            "            This is applicable only if targets (``y_{true,pred}``) are binary.\n",
            "        ``'micro'``:\n",
            "            Calculate metrics globally by counting the total true positives,\n",
            "            false negatives and false positives.\n",
            "        ``'macro'``:\n",
            "            Calculate metrics for each label, and find their unweighted\n",
            "            mean.  This does not take label imbalance into account.\n",
            "        ``'weighted'``:\n",
            "            Calculate metrics for each label, and find their average weighted\n",
            "            by support (the number of true instances for each label). This\n",
            "            alters 'macro' to account for label imbalance; it can result in an\n",
            "            F-score that is not between precision and recall. Weighted recall\n",
            "            is equal to accuracy.\n",
            "        ``'samples'``:\n",
            "            Calculate metrics for each instance, and find their average (only\n",
            "            meaningful for multilabel classification where this differs from\n",
            "            :func:`accuracy_score`).\n",
            "    \n",
            "    sample_weight : array-like of shape (n_samples,), default=None\n",
            "        Sample weights.\n",
            "    \n",
            "    zero_division : \"warn\", 0 or 1, default=\"warn\"\n",
            "        Sets the value to return when there is a zero division. If set to\n",
            "        \"warn\", this acts as 0, but warnings are also raised.\n",
            "    \n",
            "    Returns\n",
            "    -------\n",
            "    recall : float (if average is not None) or array of float of shape              (n_unique_labels,)\n",
            "        Recall of the positive class in binary classification or weighted\n",
            "        average of the recall of each class for the multiclass task.\n",
            "    \n",
            "    See Also\n",
            "    --------\n",
            "    precision_recall_fscore_support : Compute precision, recall, F-measure and\n",
            "        support for each class.\n",
            "    precision_score : Compute the ratio ``tp / (tp + fp)`` where ``tp`` is the\n",
            "        number of true positives and ``fp`` the number of false positives.\n",
            "    balanced_accuracy_score : Compute balanced accuracy to deal with imbalanced\n",
            "        datasets.\n",
            "    multilabel_confusion_matrix : Compute a confusion matrix for each class or\n",
            "        sample.\n",
            "    PrecisionRecallDisplay.from_estimator : Plot precision-recall curve given\n",
            "        an estimator and some data.\n",
            "    PrecisionRecallDisplay.from_predictions : Plot precision-recall curve given\n",
            "        binary class predictions.\n",
            "    \n",
            "    Notes\n",
            "    -----\n",
            "    When ``true positive + false negative == 0``, recall returns 0 and raises\n",
            "    ``UndefinedMetricWarning``. This behavior can be modified with\n",
            "    ``zero_division``.\n",
            "    \n",
            "    Examples\n",
            "    --------\n",
            "    >>> from sklearn.metrics import recall_score\n",
            "    >>> y_true = [0, 1, 2, 0, 1, 2]\n",
            "    >>> y_pred = [0, 2, 1, 0, 0, 1]\n",
            "    >>> recall_score(y_true, y_pred, average='macro')\n",
            "    0.33...\n",
            "    >>> recall_score(y_true, y_pred, average='micro')\n",
            "    0.33...\n",
            "    >>> recall_score(y_true, y_pred, average='weighted')\n",
            "    0.33...\n",
            "    >>> recall_score(y_true, y_pred, average=None)\n",
            "    array([1., 0., 0.])\n",
            "    >>> y_true = [0, 0, 0, 0, 0, 0]\n",
            "    >>> recall_score(y_true, y_pred, average=None)\n",
            "    array([0.5, 0. , 0. ])\n",
            "    >>> recall_score(y_true, y_pred, average=None, zero_division=1)\n",
            "    array([0.5, 1. , 1. ])\n",
            "    >>> # multilabel classification\n",
            "    >>> y_true = [[0, 0, 0], [1, 1, 1], [0, 1, 1]]\n",
            "    >>> y_pred = [[0, 0, 0], [1, 1, 1], [1, 1, 0]]\n",
            "    >>> recall_score(y_true, y_pred, average=None)\n",
            "    array([1. , 1. , 0.5])\n",
            "\n"
          ]
        }
      ]
    },
    {
      "cell_type": "code",
      "source": [
        "print(\"recall_score on test: \", recall_score(y_test, y_pred,average=\"macro\"))  \n"
      ],
      "metadata": {
        "colab": {
          "base_uri": "https://localhost:8080/"
        },
        "id": "d1dVzExUJ8sT",
        "outputId": "1420d4e2-d1e9-40bb-c7b3-5cdb43d5f713"
      },
      "execution_count": null,
      "outputs": [
        {
          "output_type": "stream",
          "name": "stdout",
          "text": [
            "recall_score on test:  0.9777777777777779\n"
          ]
        }
      ]
    },
    {
      "cell_type": "code",
      "source": [
        "print(\"recall_score on test: \", recall_score(y_test, y_pred,average=\"micro\"))  \n"
      ],
      "metadata": {
        "colab": {
          "base_uri": "https://localhost:8080/"
        },
        "id": "8uMfnnClKhto",
        "outputId": "b8dafb19-f7de-4cbc-e7c8-2202d2595ecf"
      },
      "execution_count": null,
      "outputs": [
        {
          "output_type": "stream",
          "name": "stdout",
          "text": [
            "recall_score on test:  0.9777777777777777\n"
          ]
        }
      ]
    },
    {
      "cell_type": "code",
      "execution_count": null,
      "metadata": {
        "colab": {
          "base_uri": "https://localhost:8080/"
        },
        "id": "OrTxwUHET-1p",
        "outputId": "8f01dff2-d930-47bc-8116-0446aba77db0"
      },
      "outputs": [
        {
          "output_type": "stream",
          "name": "stdout",
          "text": [
            "Relatório de classificação: \n",
            "                  precision    recall  f1-score   support\n",
            "\n",
            "    Iris-setosa       1.00      1.00      1.00        15\n",
            "Iris-versicolor       0.94      1.00      0.97        15\n",
            " Iris-virginica       1.00      0.93      0.97        15\n",
            "\n",
            "       accuracy                           0.98        45\n",
            "      macro avg       0.98      0.98      0.98        45\n",
            "   weighted avg       0.98      0.98      0.98        45\n",
            "\n"
          ]
        }
      ],
      "source": [
        "from sklearn.metrics import classification_report\n",
        "\n",
        "print(\"Relatório de classificação: \\n\", classification_report(y_test, y_pred))  \n"
      ]
    },
    {
      "cell_type": "markdown",
      "metadata": {
        "id": "6grFr-c9T-1q"
      },
      "source": [
        "### Loop para gerar testes com diferentes valores de visinho (K)"
      ]
    },
    {
      "cell_type": "code",
      "execution_count": null,
      "metadata": {
        "colab": {
          "base_uri": "https://localhost:8080/"
        },
        "id": "fXmfXL8nT-1q",
        "outputId": "b0b4bd96-49b7-4054-d5f6-7fc8b6be5ea0"
      },
      "outputs": [
        {
          "output_type": "stream",
          "name": "stderr",
          "text": [
            "100%|██████████| 10/10 [00:00<00:00, 190.38it/s]\n"
          ]
        }
      ],
      "source": [
        "from tqdm import tqdm\n",
        "error = []\n",
        "\n",
        "for i in tqdm(range(1, 20, 2)):  \n",
        "    knn = KNeighborsClassifier(n_neighbors=i)\n",
        "    knn.fit(X_train, y_train)\n",
        "    pred_i = knn.predict(X_test)\n",
        "    error.append(np.mean(pred_i != y_test))"
      ]
    },
    {
      "cell_type": "markdown",
      "metadata": {
        "id": "HAOV-tbFT-1q"
      },
      "source": [
        "### Comparando o Error Rate gerado de valores K diferentes"
      ]
    },
    {
      "cell_type": "code",
      "execution_count": null,
      "metadata": {
        "colab": {
          "base_uri": "https://localhost:8080/",
          "height": 421
        },
        "id": "DASe34lrT-1q",
        "outputId": "1678c7e6-c7d7-4164-c962-f47b0e9ef25a"
      },
      "outputs": [
        {
          "output_type": "execute_result",
          "data": {
            "text/plain": [
              "Text(0, 0.5, 'Mean Error')"
            ]
          },
          "metadata": {},
          "execution_count": 31
        },
        {
          "output_type": "display_data",
          "data": {
            "text/plain": [
              "<Figure size 864x432 with 1 Axes>"
            ],
            "image/png": "[encoded data removed]"
          },
          "metadata": {
            "needs_background": "light"
          }
        }
      ],
      "source": [
        "plt.figure(figsize=(12, 6))  \n",
        "plt.plot(range(1, 20,2), error, color='red', linestyle='dashed', marker='o',  \n",
        "         markerfacecolor='blue', markersize=10)\n",
        "plt.title('Error Rate K Value')  \n",
        "plt.xlabel('K Value')  \n",
        "plt.ylabel('Mean Error')  "
      ]
    },
    {
      "cell_type": "markdown",
      "metadata": {
        "id": "moGdwQ52T-1q"
      },
      "source": [
        "### Aplicando melhor parâmetro para K encontrado"
      ]
    },
    {
      "cell_type": "code",
      "execution_count": null,
      "metadata": {
        "colab": {
          "base_uri": "https://localhost:8080/"
        },
        "id": "rEH-_DBWT-1q",
        "outputId": "024b1cf0-e03b-4da2-f7d9-26282bcf7f8c"
      },
      "outputs": [
        {
          "output_type": "execute_result",
          "data": {
            "text/plain": [
              "KNeighborsClassifier(n_neighbors=3)"
            ]
          },
          "metadata": {},
          "execution_count": 40
        }
      ],
      "source": [
        "classifier = KNeighborsClassifier(n_neighbors=3)  \n",
        "classifier.fit(X_train, y_train)  "
      ]
    },
    {
      "cell_type": "code",
      "execution_count": null,
      "metadata": {
        "id": "AaSHGd_ZT-1r"
      },
      "outputs": [],
      "source": [
        "y_pred = classifier.predict(X_test) "
      ]
    },
    {
      "cell_type": "code",
      "execution_count": null,
      "metadata": {
        "colab": {
          "base_uri": "https://localhost:8080/"
        },
        "id": "b2r8-X0gT-1r",
        "outputId": "233b436f-a87d-4ab8-bff3-bf427f509fe2"
      },
      "outputs": [
        {
          "output_type": "stream",
          "name": "stdout",
          "text": [
            "Relatório de classificação: \n",
            "                  precision    recall  f1-score   support\n",
            "\n",
            "    Iris-setosa       1.00      1.00      1.00        15\n",
            "Iris-versicolor       0.94      1.00      0.97        15\n",
            " Iris-virginica       1.00      0.93      0.97        15\n",
            "\n",
            "       accuracy                           0.98        45\n",
            "      macro avg       0.98      0.98      0.98        45\n",
            "   weighted avg       0.98      0.98      0.98        45\n",
            "\n"
          ]
        }
      ],
      "source": [
        "print(\"Relatório de classificação: \\n\", classification_report(y_test, y_pred))  "
      ]
    },
    {
      "cell_type": "markdown",
      "source": [
        "## Wine "
      ],
      "metadata": {
        "id": "nfCatCnnovsI"
      }
    },
    {
      "cell_type": "code",
      "metadata": {
        "colab": {
          "base_uri": "https://localhost:8080/",
          "height": 430
        },
        "id": "Xo5Dd5Ka3i1p",
        "outputId": "05eafca5-52f6-4cf4-a282-ebe0c695002a"
      },
      "source": [
        "\n",
        "wine = datasets.load_wine()\n",
        "\n",
        "print(wine.data.shape)\n",
        "print(wine.feature_names)\n",
        "\n",
        "X = wine.data[:, :2]\n",
        "y = wine.target\n",
        "\n",
        "plt.figure(2, figsize=(8,6))\n",
        "plt.scatter(X[:, 0], X[:, 1], c=y)\n",
        "plt.show()\n",
        "\n",
        "X_train, X_test, y_train, y_test = train_test_split(wine.data, wine.target, test_size=0.3, random_state=42)"
      ],
      "execution_count": null,
      "outputs": [
        {
          "output_type": "stream",
          "name": "stdout",
          "text": [
            "(178, 13)\n",
            "['alcohol', 'malic_acid', 'ash', 'alcalinity_of_ash', 'magnesium', 'total_phenols', 'flavanoids', 'nonflavanoid_phenols', 'proanthocyanins', 'color_intensity', 'hue', 'od280/od315_of_diluted_wines', 'proline']\n"
          ]
        },
        {
          "output_type": "display_data",
          "data": {
            "text/plain": [
              "<Figure size 576x432 with 1 Axes>"
            ],
            "image/png": "[encoded data removed]"
          },
          "metadata": {
            "needs_background": "light"
          }
        }
      ]
    },
    {
      "cell_type": "code",
      "metadata": {
        "colab": {
          "base_uri": "https://localhost:8080/"
        },
        "id": "rykM4kdFh0eS",
        "outputId": "6218d8ac-4973-4c03-9ca3-e2b354d219e9"
      },
      "source": [
        "import numpy as np\n",
        "import matplotlib.pyplot as plt\n",
        "from sklearn import datasets\n",
        "from sklearn.neighbors import KNeighborsClassifier\n",
        "import sklearn.datasets as skdata\n",
        "import pandas as pd\n",
        "from sklearn.model_selection import cross_validate\n",
        "\n",
        "help(cross_validate)\n",
        "\n"
      ],
      "execution_count": null,
      "outputs": [
        {
          "output_type": "stream",
          "name": "stdout",
          "text": [
            "Help on function cross_validate in module sklearn.model_selection._validation:\n",
            "\n",
            "cross_validate(estimator, X, y=None, *, groups=None, scoring=None, cv=None, n_jobs=None, verbose=0, fit_params=None, pre_dispatch='2*n_jobs', return_train_score=False, return_estimator=False, error_score=nan)\n",
            "    Evaluate metric(s) by cross-validation and also record fit/score times.\n",
            "    \n",
            "    Read more in the :ref:`User Guide <multimetric_cross_validation>`.\n",
            "    \n",
            "    Parameters\n",
            "    ----------\n",
            "    estimator : estimator object implementing 'fit'\n",
            "        The object to use to fit the data.\n",
            "    \n",
            "    X : array-like of shape (n_samples, n_features)\n",
            "        The data to fit. Can be for example a list, or an array.\n",
            "    \n",
            "    y : array-like of shape (n_samples,) or (n_samples, n_outputs),             default=None\n",
            "        The target variable to try to predict in the case of\n",
            "        supervised learning.\n",
            "    \n",
            "    groups : array-like of shape (n_samples,), default=None\n",
            "        Group labels for the samples used while splitting the dataset into\n",
            "        train/test set. Only used in conjunction with a \"Group\" :term:`cv`\n",
            "        instance (e.g., :class:`GroupKFold`).\n",
            "    \n",
            "    scoring : str, callable, list, tuple, or dict, default=None\n",
            "        Strategy to evaluate the performance of the cross-validated model on\n",
            "        the test set.\n",
            "    \n",
            "        If `scoring` represents a single score, one can use:\n",
            "    \n",
            "        - a single string (see :ref:`scoring_parameter`);\n",
            "        - a callable (see :ref:`scoring`) that returns a single value.\n",
            "    \n",
            "        If `scoring` represents multiple scores, one can use:\n",
            "    \n",
            "        - a list or tuple of unique strings;\n",
            "        - a callable returning a dictionary where the keys are the metric\n",
            "          names and the values are the metric scores;\n",
            "        - a dictionary with metric names as keys and callables a values.\n",
            "    \n",
            "        See :ref:`multimetric_grid_search` for an example.\n",
            "    \n",
            "    cv : int, cross-validation generator or an iterable, default=None\n",
            "        Determines the cross-validation splitting strategy.\n",
            "        Possible inputs for cv are:\n",
            "    \n",
            "        - None, to use the default 5-fold cross validation,\n",
            "        - int, to specify the number of folds in a `(Stratified)KFold`,\n",
            "        - :term:`CV splitter`,\n",
            "        - An iterable yielding (train, test) splits as arrays of indices.\n",
            "    \n",
            "        For int/None inputs, if the estimator is a classifier and ``y`` is\n",
            "        either binary or multiclass, :class:`StratifiedKFold` is used. In all\n",
            "        other cases, :class:`.Fold` is used. These splitters are instantiated\n",
            "        with `shuffle=False` so the splits will be the same across calls.\n",
            "    \n",
            "        Refer :ref:`User Guide <cross_validation>` for the various\n",
            "        cross-validation strategies that can be used here.\n",
            "    \n",
            "        .. versionchanged:: 0.22\n",
            "            ``cv`` default value if None changed from 3-fold to 5-fold.\n",
            "    \n",
            "    n_jobs : int, default=None\n",
            "        Number of jobs to run in parallel. Training the estimator and computing\n",
            "        the score are parallelized over the cross-validation splits.\n",
            "        ``None`` means 1 unless in a :obj:`joblib.parallel_backend` context.\n",
            "        ``-1`` means using all processors. See :term:`Glossary <n_jobs>`\n",
            "        for more details.\n",
            "    \n",
            "    verbose : int, default=0\n",
            "        The verbosity level.\n",
            "    \n",
            "    fit_params : dict, default=None\n",
            "        Parameters to pass to the fit method of the estimator.\n",
            "    \n",
            "    pre_dispatch : int or str, default='2*n_jobs'\n",
            "        Controls the number of jobs that get dispatched during parallel\n",
            "        execution. Reducing this number can be useful to avoid an\n",
            "        explosion of memory consumption when more jobs get dispatched\n",
            "        than CPUs can process. This parameter can be:\n",
            "    \n",
            "            - None, in which case all the jobs are immediately\n",
            "              created and spawned. Use this for lightweight and\n",
            "              fast-running jobs, to avoid delays due to on-demand\n",
            "              spawning of the jobs\n",
            "    \n",
            "            - An int, giving the exact number of total jobs that are\n",
            "              spawned\n",
            "    \n",
            "            - A str, giving an expression as a function of n_jobs,\n",
            "              as in '2*n_jobs'\n",
            "    \n",
            "    return_train_score : bool, default=False\n",
            "        Whether to include train scores.\n",
            "        Computing training scores is used to get insights on how different\n",
            "        parameter settings impact the overfitting/underfitting trade-off.\n",
            "        However computing the scores on the training set can be computationally\n",
            "        expensive and is not strictly required to select the parameters that\n",
            "        yield the best generalization performance.\n",
            "    \n",
            "        .. versionadded:: 0.19\n",
            "    \n",
            "        .. versionchanged:: 0.21\n",
            "            Default value was changed from ``True`` to ``False``\n",
            "    \n",
            "    return_estimator : bool, default=False\n",
            "        Whether to return the estimators fitted on each split.\n",
            "    \n",
            "        .. versionadded:: 0.20\n",
            "    \n",
            "    error_score : 'raise' or numeric, default=np.nan\n",
            "        Value to assign to the score if an error occurs in estimator fitting.\n",
            "        If set to 'raise', the error is raised.\n",
            "        If a numeric value is given, FitFailedWarning is raised.\n",
            "    \n",
            "        .. versionadded:: 0.20\n",
            "    \n",
            "    Returns\n",
            "    -------\n",
            "    scores : dict of float arrays of shape (n_splits,)\n",
            "        Array of scores of the estimator for each run of the cross validation.\n",
            "    \n",
            "        A dict of arrays containing the score/time arrays for each scorer is\n",
            "        returned. The possible keys for this ``dict`` are:\n",
            "    \n",
            "            ``test_score``\n",
            "                The score array for test scores on each cv split.\n",
            "                Suffix ``_score`` in ``test_score`` changes to a specific\n",
            "                metric like ``test_r2`` or ``test_auc`` if there are\n",
            "                multiple scoring metrics in the scoring parameter.\n",
            "            ``train_score``\n",
            "                The score array for train scores on each cv split.\n",
            "                Suffix ``_score`` in ``train_score`` changes to a specific\n",
            "                metric like ``train_r2`` or ``train_auc`` if there are\n",
            "                multiple scoring metrics in the scoring parameter.\n",
            "                This is available only if ``return_train_score`` parameter\n",
            "                is ``True``.\n",
            "            ``fit_time``\n",
            "                The time for fitting the estimator on the train\n",
            "                set for each cv split.\n",
            "            ``score_time``\n",
            "                The time for scoring the estimator on the test set for each\n",
            "                cv split. (Note time for scoring on the train set is not\n",
            "                included even if ``return_train_score`` is set to ``True``\n",
            "            ``estimator``\n",
            "                The estimator objects for each cv split.\n",
            "                This is available only if ``return_estimator`` parameter\n",
            "                is set to ``True``.\n",
            "    \n",
            "    Examples\n",
            "    --------\n",
            "    >>> from sklearn import datasets, linear_model\n",
            "    >>> from sklearn.model_selection import cross_validate\n",
            "    >>> from sklearn.metrics import make_scorer\n",
            "    >>> from sklearn.metrics import confusion_matrix\n",
            "    >>> from sklearn.svm import LinearSVC\n",
            "    >>> diabetes = datasets.load_diabetes()\n",
            "    >>> X = diabetes.data[:150]\n",
            "    >>> y = diabetes.target[:150]\n",
            "    >>> lasso = linear_model.Lasso()\n",
            "    \n",
            "    Single metric evaluation using ``cross_validate``\n",
            "    \n",
            "    >>> cv_results = cross_validate(lasso, X, y, cv=3)\n",
            "    >>> sorted(cv_results.keys())\n",
            "    ['fit_time', 'score_time', 'test_score']\n",
            "    >>> cv_results['test_score']\n",
            "    array([0.33150734, 0.08022311, 0.03531764])\n",
            "    \n",
            "    Multiple metric evaluation using ``cross_validate``\n",
            "    (please refer the ``scoring`` parameter doc for more information)\n",
            "    \n",
            "    >>> scores = cross_validate(lasso, X, y, cv=3,\n",
            "    ...                         scoring=('r2', 'neg_mean_squared_error'),\n",
            "    ...                         return_train_score=True)\n",
            "    >>> print(scores['test_neg_mean_squared_error'])\n",
            "    [-3635.5... -3573.3... -6114.7...]\n",
            "    >>> print(scores['train_r2'])\n",
            "    [0.28010158 0.39088426 0.22784852]\n",
            "    \n",
            "    See Also\n",
            "    ---------\n",
            "    cross_val_score : Run cross-validation for single metric evaluation.\n",
            "    \n",
            "    cross_val_predict : Get predictions from each split of cross-validation for\n",
            "        diagnostic purposes.\n",
            "    \n",
            "    sklearn.metrics.make_scorer : Make a scorer from a performance metric or\n",
            "        loss function.\n",
            "\n"
          ]
        }
      ]
    },
    {
      "cell_type": "code",
      "source": [
        "nkf = 5 # Numero de folds\n",
        "for dist in ['euclidean', 'manhattan', 'chebyshev', 'minkowski']:\n",
        "  vk = [] # Armazena os valores de k\n",
        "  vscore = []\n",
        "  for k in range(1, 20,2):\n",
        "      model = KNeighborsClassifier(n_neighbors=k, metric = dist)\n",
        "      cv = cross_validate(model, X, y, cv=nkf)\n",
        "      vscore.append(cv['test_score'].mean())\n",
        "      vk.append(k)\n",
        "\n",
        "  plt.figure(figsize=(6,4))\n",
        "  plt.plot(vk, vscore, '-bo')\n",
        "  plt.xlabel('k', fontsize = 15)\n",
        "  plt.ylabel('Acuracy', fontsize = 15)\n",
        "  plt.show(True)"
      ],
      "metadata": {
        "colab": {
          "base_uri": "https://localhost:8080/",
          "height": 1000
        },
        "id": "pCw4h_srqoYC",
        "outputId": "3ac9de5b-f0d8-4efa-e61b-ede1eec9c714"
      },
      "execution_count": null,
      "outputs": [
        {
          "output_type": "display_data",
          "data": {
            "text/plain": [
              "<Figure size 432x288 with 1 Axes>"
            ],
            "image/png": "[encoded data removed]"
          },
          "metadata": {
            "needs_background": "light"
          }
        },
        {
          "output_type": "display_data",
          "data": {
            "text/plain": [
              "<Figure size 432x288 with 1 Axes>"
            ],
            "image/png": "[encoded data removed]"
          },
          "metadata": {
            "needs_background": "light"
          }
        },
        {
          "output_type": "display_data",
          "data": {
            "text/plain": [
              "<Figure size 432x288 with 1 Axes>"
            ],
            "image/png": "[encoded data removed]"
          },
          "metadata": {
            "needs_background": "light"
          }
        },
        {
          "output_type": "display_data",
          "data": {
            "text/plain": [
              "<Figure size 432x288 with 1 Axes>"
            ],
            "image/png": "[encoded data removed]"
          },
          "metadata": {
            "needs_background": "light"
          }
        }
      ]
    },
    {
      "cell_type": "code",
      "source": [
        "import threading\n",
        "threading.active_count()"
      ],
      "metadata": {
        "colab": {
          "base_uri": "https://localhost:8080/"
        },
        "id": "LjKYNAUJz9ru",
        "outputId": "999dca20-4345-465e-f449-033a68c8d900"
      },
      "execution_count": null,
      "outputs": [
        {
          "output_type": "execute_result",
          "data": {
            "text/plain": [
              "11"
            ]
          },
          "metadata": {},
          "execution_count": 38
        }
      ]
    },
    {
      "cell_type": "code",
      "source": [
        "from sklearn.model_selection import GridSearchCV\n",
        "knn = KNeighborsClassifier(n_jobs=10)\n",
        "\n",
        "k_range = list(range(1, 31))\n",
        "all_metrics = ['euclidean', 'manhattan', 'chebyshev']\n",
        "param_grid = dict(n_neighbors=k_range, metric=all_metrics)\n",
        "grid = GridSearchCV(knn, param_grid, cv=10, scoring='accuracy', return_train_score=False,verbose=1)\n",
        "print(knn.get_params().keys()"
      ],
      "metadata": {
        "id": "B-e1HTAEqpQs",
        "colab": {
          "base_uri": "https://localhost:8080/"
        },
        "outputId": "cbb6de13-d201-4a5f-e9e1-f818d7d2593e"
      },
      "execution_count": null,
      "outputs": [
        {
          "output_type": "stream",
          "name": "stdout",
          "text": [
            "dict_keys(['algorithm', 'leaf_size', 'metric', 'metric_params', 'n_jobs', 'n_neighbors', 'p', 'weights'])\n"
          ]
        }
      ]
    },
    {
      "cell_type": "code",
      "source": [
        "grid_search=grid.fit(X_train, y_train)"
      ],
      "metadata": {
        "colab": {
          "base_uri": "https://localhost:8080/"
        },
        "id": "tN5WDnHYzNXH",
        "outputId": "0160e490-4327-49a8-d36e-ace44469d070"
      },
      "execution_count": null,
      "outputs": [
        {
          "output_type": "stream",
          "name": "stdout",
          "text": [
            "Fitting 10 folds for each of 120 candidates, totalling 1200 fits\n"
          ]
        }
      ]
    },
    {
      "cell_type": "code",
      "source": [
        "print(grid_search.best_params_)"
      ],
      "metadata": {
        "colab": {
          "base_uri": "https://localhost:8080/"
        },
        "id": "9amYlNPf1N9h",
        "outputId": "66a5ff01-7a64-437f-efe7-b84d3938676f"
      },
      "execution_count": null,
      "outputs": [
        {
          "output_type": "stream",
          "name": "stdout",
          "text": [
            "{'metric': 'manhattan', 'n_neighbors': 1}\n"
          ]
        }
      ]
    },
    {
      "cell_type": "code",
      "source": [
        "accuracy = grid_search.best_score_ *100\n",
        "print(\"Accuracy for our training dataset with tuning is : {:.2f}%\".format(accuracy) )"
      ],
      "metadata": {
        "colab": {
          "base_uri": "https://localhost:8080/"
        },
        "id": "lir0LG5a1iVS",
        "outputId": "85ab591c-4ee4-4de5-c10c-1f40fa5fb8e5"
      },
      "execution_count": null,
      "outputs": [
        {
          "output_type": "stream",
          "name": "stdout",
          "text": [
            "Accuracy for our training dataset with tuning is : 78.40%\n"
          ]
        }
      ]
    },
    {
      "cell_type": "code",
      "source": [
        "knn = KNeighborsClassifier(n_neighbors=1,metric=\"manhattan\")\n",
        "\n",
        "knn.fit(X_train, y_train)"
      ],
      "metadata": {
        "colab": {
          "base_uri": "https://localhost:8080/"
        },
        "id": "k_a0LUiY2AwN",
        "outputId": "aa45ef4e-9488-49ae-959c-868aa7c61225"
      },
      "execution_count": null,
      "outputs": [
        {
          "output_type": "execute_result",
          "data": {
            "text/plain": [
              "KNeighborsClassifier(metric='manhattan', n_neighbors=1)"
            ]
          },
          "metadata": {},
          "execution_count": 52
        }
      ]
    },
    {
      "cell_type": "code",
      "source": [
        "from sklearn.metrics import confusion_matrix,plot_confusion_matrix,accuracy_score\n",
        "y_pred=knn.predict(X_test) \n",
        "\n",
        "test_accuracy=accuracy_score(y_test,y_pred)*100\n",
        "\n",
        "print(\"Accuracy for our testing dataset with tuning is : {:.2f}%\".format(test_accuracy) )\n"
      ],
      "metadata": {
        "colab": {
          "base_uri": "https://localhost:8080/"
        },
        "id": "p-j3iN7e1oTZ",
        "outputId": "74603b84-cee3-49a1-9f78-fecd901babcc"
      },
      "execution_count": null,
      "outputs": [
        {
          "output_type": "stream",
          "name": "stdout",
          "text": [
            "Accuracy for our testing dataset with tuning is : 85.19%\n"
          ]
        }
      ]
    },
    {
      "cell_type": "code",
      "source": [
        "import seaborn as sns\n",
        "\n",
        "def plot_confusion_matrix(confusion_matrix, class_names, figsize = (10,7), fontsize=14):\n",
        "    \"\"\"Prints a confusion matrix, as returned by sklearn.metrics.confusion_matrix, as a heatmap.\n",
        "    \n",
        "    Arguments\n",
        "    ---------\n",
        "    confusion_matrix: numpy.ndarray\n",
        "        The numpy.ndarray object returned from a call to sklearn.metrics.confusion_matrix. \n",
        "        Similarly constructed ndarrays can also be used.\n",
        "    class_names: list\n",
        "        An ordered list of class names, in the order they index the given confusion matrix.\n",
        "    figsize: tuple\n",
        "        A 2-long tuple, the first value determining the horizontal size of the ouputted figure,\n",
        "        the second determining the vertical size. Defaults to (10,7).\n",
        "    fontsize: int\n",
        "        Font size for axes labels. Defaults to 14.\n",
        "        \n",
        "    Returns\n",
        "    -------\n",
        "    matplotlib.figure.Figure\n",
        "        The resulting confusion matrix figure\n",
        "    \"\"\"\n",
        "    df_cm = pd.DataFrame(\n",
        "        confusion_matrix, index=class_names, columns=class_names, \n",
        "    )\n",
        "    fig = plt.figure(figsize=figsize)\n",
        "    sns.set(font_scale=1.4)\n",
        "    try:\n",
        "        heatmap = sns.heatmap(df_cm, annot=True, fmt=\"d\", annot_kws={\"size\": 16})\n",
        "    except ValueError:\n",
        "        raise ValueError(\"Confusion matrix values must be integers.\")\n",
        "    heatmap.yaxis.set_ticklabels(heatmap.yaxis.get_ticklabels(), rotation=0, ha='right', fontsize=fontsize)\n",
        "    heatmap.xaxis.set_ticklabels(heatmap.xaxis.get_ticklabels(), rotation=45, ha='right', fontsize=fontsize)\n",
        "    plt.ylabel('True label')\n",
        "    plt.xlabel('Predicted label')\n",
        "    return "
      ],
      "metadata": {
        "id": "aYkTq9z718bt"
      },
      "execution_count": null,
      "outputs": []
    },
    {
      "cell_type": "code",
      "source": [
        "print(\"Acc teste: \", accuracy_score(y_test,y_pred))\n",
        "cf = confusion_matrix(y_test, y_pred)\n",
        "print(cf)\n",
        "print(plot_confusion_matrix(cf,class_names=[\"0\",\"1\",\"2\"]))"
      ],
      "metadata": {
        "colab": {
          "base_uri": "https://localhost:8080/",
          "height": 546
        },
        "id": "n8DvLzJT2yqC",
        "outputId": "40db2827-6eb3-43b7-bab4-fdcd0367da9d"
      },
      "execution_count": null,
      "outputs": [
        {
          "output_type": "stream",
          "name": "stdout",
          "text": [
            "Acc teste:  0.8518518518518519\n",
            "[[17  1  1]\n",
            " [ 2 17  2]\n",
            " [ 1  1 12]]\n",
            "None\n"
          ]
        },
        {
          "output_type": "display_data",
          "data": {
            "text/plain": [
              "<Figure size 720x504 with 2 Axes>"
            ],
            "image/png": "[encoded data removed]"
          },
          "metadata": {
            "needs_background": "light"
          }
        }
      ]
    },
    {
      "cell_type": "code",
      "source": [
        ""
      ],
      "metadata": {
        "id": "tOPW7XmCvgYA"
      },
      "execution_count": null,
      "outputs": []
    }
  ],
  "metadata": {
    "kernelspec": {
      "display_name": "Python 3",
      "language": "python",
      "name": "python3"
    },
    "language_info": {
      "codemirror_mode": {
        "name": "ipython",
        "version": 3
      },
      "file_extension": ".py",
      "mimetype": "text/x-python",
      "name": "python",
      "nbconvert_exporter": "python",
      "pygments_lexer": "ipython3",
      "version": "3.6.7"
    },
    "colab": {
      "name": "Aula 4 - knn iris and wine - avaliacao .ipynb",
      "provenance": [],
      "collapsed_sections": []
    }
  },
  "nbformat": 4,
  "nbformat_minor": 0
}