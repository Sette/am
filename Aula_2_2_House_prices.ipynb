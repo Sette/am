{
  "nbformat": 4,
  "nbformat_minor": 0,
  "metadata": {
    "colab": {
      "name": "Aula 2.2 - House prices.ipynb",
      "provenance": []
    },
    "kernelspec": {
      "name": "python3",
      "display_name": "Python 3"
    },
    "language_info": {
      "name": "python"
    }
  },
  "cells": [
    {
      "cell_type": "code",
      "source": [
        "from google.colab import files"
      ],
      "metadata": {
        "id": "8olzL03906Du"
      },
      "execution_count": null,
      "outputs": []
    },
    {
      "cell_type": "code",
      "source": [
        "files.upload()"
      ],
      "metadata": {
        "colab": {
          "resources": {
            "http://localhost:8080/nbextensions/google.colab/files.js": {
              "data": "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",
              "ok": true,
              "headers": [
                [
                  "content-type",
                  "application/javascript"
                ]
              ],
              "status": 200,
              "status_text": ""
            }
          },
          "base_uri": "https://localhost:8080/",
          "height": 90
        },
        "id": "SHd4PlIt1GNN",
        "outputId": "1414fe6c-5027-4306-f48c-839d45dcaeec"
      },
      "execution_count": null,
      "outputs": [
        {
          "output_type": "display_data",
          "data": {
            "text/plain": [
              "<IPython.core.display.HTML object>"
            ],
            "text/html": [
              "\n",
              "     <input type=\"file\" id=\"files-a4cf5368-af4f-4623-826c-a71f2a11a08c\" name=\"files[]\" multiple disabled\n",
              "        style=\"border:none\" />\n",
              "     <output id=\"result-a4cf5368-af4f-4623-826c-a71f2a11a08c\">\n",
              "      Upload widget is only available when the cell has been executed in the\n",
              "      current browser session. Please rerun this cell to enable.\n",
              "      </output>\n",
              "      <script src=\"/nbextensions/google.colab/files.js\"></script> "
            ]
          },
          "metadata": {}
        },
        {
          "output_type": "stream",
          "name": "stdout",
          "text": [
            "Saving kaggle.json to kaggle.json\n"
          ]
        },
        {
          "output_type": "execute_result",
          "data": {
            "text/plain": [
              "{'kaggle.json': b'{\"username\":\"brunosette\",\"key\":\"92739e7643e0e09262cd6511b4b0c752\"}'}"
            ]
          },
          "metadata": {},
          "execution_count": 3
        }
      ]
    },
    {
      "cell_type": "code",
      "source": [
        "!mkdir ~/.kaggle\n",
        "!cp kaggle.json ~/.kaggle/\n",
        "!chmod 600 ~/.kaggle/kaggle.json"
      ],
      "metadata": {
        "id": "F_hOffEV1IFK"
      },
      "execution_count": null,
      "outputs": []
    },
    {
      "cell_type": "code",
      "execution_count": null,
      "metadata": {
        "id": "rHm6v4_0uYDi"
      },
      "outputs": [],
      "source": [
        "!pip install -q kaggle"
      ]
    },
    {
      "cell_type": "code",
      "source": [
        "!kaggle datasets list -s credit"
      ],
      "metadata": {
        "colab": {
          "base_uri": "https://localhost:8080/"
        },
        "id": "nTwk6lbv96TT",
        "outputId": "84fd4df9-8b36-46a3-f116-f9bb58ac9a24"
      },
      "execution_count": null,
      "outputs": [
        {
          "output_type": "stream",
          "name": "stdout",
          "text": [
            "ref                                              title                                               size  lastUpdated          downloadCount  voteCount  usabilityRating  \n",
            "-----------------------------------------------  ------------------------------------------------  ------  -------------------  -------------  ---------  ---------------  \n",
            "sakshigoyal7/credit-card-customers               Credit Card customers                              379KB  2020-11-19 07:38:44          60932       1575  1.0              \n",
            "mlg-ulb/creditcardfraud                          Credit Card Fraud Detection                         66MB  2018-03-23 01:17:27         418210       9191  0.85294116       \n",
            "rikdifos/credit-card-approval-prediction         Credit Card Approval Prediction                      5MB  2020-03-24 10:04:48          30467        501  1.0              \n",
            "uciml/german-credit                              German Credit Risk                                  11KB  2016-12-14 21:25:02          33285        322  0.8235294        \n",
            "upadorprofzs/credit-risk                         Credit risk                                         58KB  2020-06-28 00:32:27           1739         93  0.5882353        \n",
            "mishra5001/credit-card                           Credit Card Fraud Detection                        112MB  2019-07-15 06:36:02           8179        119  0.88235295       \n",
            "uciml/default-of-credit-card-clients-dataset     Default of Credit Card Clients Dataset            1001KB  2016-11-03 03:39:18          50215        781  0.7058824        \n",
            "dhanushnarayananr/credit-card-fraud              Credit Card Fraud                                   29MB  2022-05-07 15:09:29           1339         43  0.9411765        \n",
            "praveengovi/credit-risk-classification-dataset   Credit Risk Classification Dataset                 148KB  2020-05-05 14:34:44           4541         47  1.0              \n",
            "laotse/credit-risk-dataset                       Credit Risk Dataset                                368KB  2020-06-02 06:10:39           5651         55  0.7058824        \n",
            "arjunbhasin2013/ccdata                           Credit Card Dataset for Clustering                 340KB  2018-03-02 08:35:03          33137        387  0.5882353        \n",
            "mpwolke/cusersmarildownloadsgermancsv            Creditability - German Credit Data                  13KB  2021-03-12 19:01:40            459         30  1.0              \n",
            "kartik2112/fraud-detection                       Credit Card Transactions Fraud Detection Dataset   202MB  2020-08-05 15:20:55          11929        149  0.85294116       \n",
            "ealtman2019/credit-card-transactions             Credit Card Transactions                           263MB  2021-10-14 17:42:24           2148         42  0.85294116       \n",
            "samuelcortinhas/credit-card-approval-clean-data  Credit Card Approvals (Clean Data)                  19KB  2022-04-25 15:52:35           2131         48  1.0              \n",
            "aryashah2k/credit-card-customer-data             Credit Card Customer Data                            6KB  2021-05-15 08:59:46           2218         33  1.0              \n",
            "ranadeep/credit-risk-dataset                     Credit Risk Analysis                               101MB  2021-06-12 14:52:07           1335         33  0.9705882        \n",
            "shayannaveed/credit-card-fraud-detection         Credit Card Fraud Detection                         66MB  2019-12-24 08:07:24           1169         20  0.88235295       \n",
            "rupakroy/credit-data                             Credit_data                                         41KB  2022-01-27 04:09:24            903         26  1.0              \n",
            "saurabhbagchi/credit-card-fraud-detection        Credit Card Fraud Detection                         28MB  2021-07-18 14:27:20            840         30  0.9375           \n"
          ]
        }
      ]
    },
    {
      "cell_type": "code",
      "source": [
        "!kaggle datasets download -d mishra5001/credit-card"
      ],
      "metadata": {
        "colab": {
          "base_uri": "https://localhost:8080/"
        },
        "id": "_Aq-0Q6z-e_w",
        "outputId": "7c30ce2c-c4d8-4ee0-8b7a-849f667e3627"
      },
      "execution_count": null,
      "outputs": [
        {
          "output_type": "stream",
          "name": "stdout",
          "text": [
            "Downloading ipeadata.zip to /content\n",
            "\r  0% 0.00/3.51k [00:00<?, ?B/s]\n",
            "\r100% 3.51k/3.51k [00:00<00:00, 3.18MB/s]\n"
          ]
        }
      ]
    },
    {
      "cell_type": "code",
      "source": [
        "!mkdir -p data/credit-card\n",
        "!unzip credit-card.zip -d data/credit-card"
      ],
      "metadata": {
        "colab": {
          "base_uri": "https://localhost:8080/"
        },
        "id": "HLPveo2_ARlO",
        "outputId": "a5ec29eb-843a-4bb7-9deb-83846901ce87"
      },
      "execution_count": null,
      "outputs": [
        {
          "output_type": "stream",
          "name": "stdout",
          "text": [
            "unzip:  cannot find or open credit-card.zip, credit-card.zip.zip or credit-card.zip.ZIP.\n"
          ]
        }
      ]
    },
    {
      "cell_type": "code",
      "source": [
        "df_application_data = pd.read_csv(\"data/credit-card/application_data.csv\")"
      ],
      "metadata": {
        "id": "Sns3ARKHAdf6"
      },
      "execution_count": null,
      "outputs": []
    },
    {
      "cell_type": "code",
      "source": [
        "df_application_data.info()"
      ],
      "metadata": {
        "colab": {
          "base_uri": "https://localhost:8080/"
        },
        "id": "JcpBz94FAxJA",
        "outputId": "cfb124b3-245d-4a20-e1ec-161c6b037ed7"
      },
      "execution_count": null,
      "outputs": [
        {
          "output_type": "stream",
          "name": "stdout",
          "text": [
            "<class 'pandas.core.frame.DataFrame'>\n",
            "RangeIndex: 307511 entries, 0 to 307510\n",
            "Columns: 122 entries, SK_ID_CURR to AMT_REQ_CREDIT_BUREAU_YEAR\n",
            "dtypes: float64(65), int64(41), object(16)\n",
            "memory usage: 286.2+ MB\n"
          ]
        }
      ]
    },
    {
      "cell_type": "code",
      "source": [
        "check_null(df_application_data)"
      ],
      "metadata": {
        "colab": {
          "base_uri": "https://localhost:8080/"
        },
        "id": "c8UGiQSwA_EM",
        "outputId": "a49210a9-5ab2-4f74-efb8-776c4ef5058e"
      },
      "execution_count": null,
      "outputs": [
        {
          "output_type": "stream",
          "name": "stdout",
          "text": [
            "Column SK_ID_CURR total nulos: 0 que corresponde a: 0.0%\n",
            "Column TARGET total nulos: 0 que corresponde a: 0.0%\n",
            "Column NAME_CONTRACT_TYPE total nulos: 0 que corresponde a: 0.0%\n",
            "Column CODE_GENDER total nulos: 0 que corresponde a: 0.0%\n",
            "Column FLAG_OWN_CAR total nulos: 0 que corresponde a: 0.0%\n",
            "Column FLAG_OWN_REALTY total nulos: 0 que corresponde a: 0.0%\n",
            "Column CNT_CHILDREN total nulos: 0 que corresponde a: 0.0%\n",
            "Column AMT_INCOME_TOTAL total nulos: 0 que corresponde a: 0.0%\n",
            "Column AMT_CREDIT total nulos: 0 que corresponde a: 0.0%\n",
            "Column AMT_ANNUITY total nulos: 12 que corresponde a: 0.0%\n",
            "Column AMT_GOODS_PRICE total nulos: 278 que corresponde a: 0.09%\n",
            "Column NAME_TYPE_SUITE total nulos: 1292 que corresponde a: 0.42%\n",
            "Column NAME_INCOME_TYPE total nulos: 0 que corresponde a: 0.0%\n",
            "Column NAME_EDUCATION_TYPE total nulos: 0 que corresponde a: 0.0%\n",
            "Column NAME_FAMILY_STATUS total nulos: 0 que corresponde a: 0.0%\n",
            "Column NAME_HOUSING_TYPE total nulos: 0 que corresponde a: 0.0%\n",
            "Column REGION_POPULATION_RELATIVE total nulos: 0 que corresponde a: 0.0%\n",
            "Column DAYS_BIRTH total nulos: 0 que corresponde a: 0.0%\n",
            "Column DAYS_EMPLOYED total nulos: 0 que corresponde a: 0.0%\n",
            "Column DAYS_REGISTRATION total nulos: 0 que corresponde a: 0.0%\n",
            "Column DAYS_ID_PUBLISH total nulos: 0 que corresponde a: 0.0%\n",
            "Column OWN_CAR_AGE total nulos: 202929 que corresponde a: 65.99%\n",
            "Column FLAG_MOBIL total nulos: 0 que corresponde a: 0.0%\n",
            "Column FLAG_EMP_PHONE total nulos: 0 que corresponde a: 0.0%\n",
            "Column FLAG_WORK_PHONE total nulos: 0 que corresponde a: 0.0%\n",
            "Column FLAG_CONT_MOBILE total nulos: 0 que corresponde a: 0.0%\n",
            "Column FLAG_PHONE total nulos: 0 que corresponde a: 0.0%\n",
            "Column FLAG_EMAIL total nulos: 0 que corresponde a: 0.0%\n",
            "Column OCCUPATION_TYPE total nulos: 96391 que corresponde a: 31.35%\n",
            "Column CNT_FAM_MEMBERS total nulos: 2 que corresponde a: 0.0%\n",
            "Column REGION_RATING_CLIENT total nulos: 0 que corresponde a: 0.0%\n",
            "Column REGION_RATING_CLIENT_W_CITY total nulos: 0 que corresponde a: 0.0%\n",
            "Column WEEKDAY_APPR_PROCESS_START total nulos: 0 que corresponde a: 0.0%\n",
            "Column HOUR_APPR_PROCESS_START total nulos: 0 que corresponde a: 0.0%\n",
            "Column REG_REGION_NOT_LIVE_REGION total nulos: 0 que corresponde a: 0.0%\n",
            "Column REG_REGION_NOT_WORK_REGION total nulos: 0 que corresponde a: 0.0%\n",
            "Column LIVE_REGION_NOT_WORK_REGION total nulos: 0 que corresponde a: 0.0%\n",
            "Column REG_CITY_NOT_LIVE_CITY total nulos: 0 que corresponde a: 0.0%\n",
            "Column REG_CITY_NOT_WORK_CITY total nulos: 0 que corresponde a: 0.0%\n",
            "Column LIVE_CITY_NOT_WORK_CITY total nulos: 0 que corresponde a: 0.0%\n",
            "Column ORGANIZATION_TYPE total nulos: 0 que corresponde a: 0.0%\n",
            "Column EXT_SOURCE_1 total nulos: 173378 que corresponde a: 56.38%\n",
            "Column EXT_SOURCE_2 total nulos: 660 que corresponde a: 0.21%\n",
            "Column EXT_SOURCE_3 total nulos: 60965 que corresponde a: 19.83%\n",
            "Column APARTMENTS_AVG total nulos: 156061 que corresponde a: 50.75%\n",
            "Column BASEMENTAREA_AVG total nulos: 179943 que corresponde a: 58.52%\n",
            "Column YEARS_BEGINEXPLUATATION_AVG total nulos: 150007 que corresponde a: 48.78%\n",
            "Column YEARS_BUILD_AVG total nulos: 204488 que corresponde a: 66.5%\n",
            "Column COMMONAREA_AVG total nulos: 214865 que corresponde a: 69.87%\n",
            "Column ELEVATORS_AVG total nulos: 163891 que corresponde a: 53.3%\n",
            "Column ENTRANCES_AVG total nulos: 154828 que corresponde a: 50.35%\n",
            "Column FLOORSMAX_AVG total nulos: 153020 que corresponde a: 49.76%\n",
            "Column FLOORSMIN_AVG total nulos: 208642 que corresponde a: 67.85%\n",
            "Column LANDAREA_AVG total nulos: 182590 que corresponde a: 59.38%\n",
            "Column LIVINGAPARTMENTS_AVG total nulos: 210199 que corresponde a: 68.35%\n",
            "Column LIVINGAREA_AVG total nulos: 154350 que corresponde a: 50.19%\n",
            "Column NONLIVINGAPARTMENTS_AVG total nulos: 213514 que corresponde a: 69.43%\n",
            "Column NONLIVINGAREA_AVG total nulos: 169682 que corresponde a: 55.18%\n",
            "Column APARTMENTS_MODE total nulos: 156061 que corresponde a: 50.75%\n",
            "Column BASEMENTAREA_MODE total nulos: 179943 que corresponde a: 58.52%\n",
            "Column YEARS_BEGINEXPLUATATION_MODE total nulos: 150007 que corresponde a: 48.78%\n",
            "Column YEARS_BUILD_MODE total nulos: 204488 que corresponde a: 66.5%\n",
            "Column COMMONAREA_MODE total nulos: 214865 que corresponde a: 69.87%\n",
            "Column ELEVATORS_MODE total nulos: 163891 que corresponde a: 53.3%\n",
            "Column ENTRANCES_MODE total nulos: 154828 que corresponde a: 50.35%\n",
            "Column FLOORSMAX_MODE total nulos: 153020 que corresponde a: 49.76%\n",
            "Column FLOORSMIN_MODE total nulos: 208642 que corresponde a: 67.85%\n",
            "Column LANDAREA_MODE total nulos: 182590 que corresponde a: 59.38%\n",
            "Column LIVINGAPARTMENTS_MODE total nulos: 210199 que corresponde a: 68.35%\n",
            "Column LIVINGAREA_MODE total nulos: 154350 que corresponde a: 50.19%\n",
            "Column NONLIVINGAPARTMENTS_MODE total nulos: 213514 que corresponde a: 69.43%\n",
            "Column NONLIVINGAREA_MODE total nulos: 169682 que corresponde a: 55.18%\n",
            "Column APARTMENTS_MEDI total nulos: 156061 que corresponde a: 50.75%\n",
            "Column BASEMENTAREA_MEDI total nulos: 179943 que corresponde a: 58.52%\n",
            "Column YEARS_BEGINEXPLUATATION_MEDI total nulos: 150007 que corresponde a: 48.78%\n",
            "Column YEARS_BUILD_MEDI total nulos: 204488 que corresponde a: 66.5%\n",
            "Column COMMONAREA_MEDI total nulos: 214865 que corresponde a: 69.87%\n",
            "Column ELEVATORS_MEDI total nulos: 163891 que corresponde a: 53.3%\n",
            "Column ENTRANCES_MEDI total nulos: 154828 que corresponde a: 50.35%\n",
            "Column FLOORSMAX_MEDI total nulos: 153020 que corresponde a: 49.76%\n",
            "Column FLOORSMIN_MEDI total nulos: 208642 que corresponde a: 67.85%\n",
            "Column LANDAREA_MEDI total nulos: 182590 que corresponde a: 59.38%\n",
            "Column LIVINGAPARTMENTS_MEDI total nulos: 210199 que corresponde a: 68.35%\n",
            "Column LIVINGAREA_MEDI total nulos: 154350 que corresponde a: 50.19%\n",
            "Column NONLIVINGAPARTMENTS_MEDI total nulos: 213514 que corresponde a: 69.43%\n",
            "Column NONLIVINGAREA_MEDI total nulos: 169682 que corresponde a: 55.18%\n",
            "Column FONDKAPREMONT_MODE total nulos: 210295 que corresponde a: 68.39%\n",
            "Column HOUSETYPE_MODE total nulos: 154297 que corresponde a: 50.18%\n",
            "Column TOTALAREA_MODE total nulos: 148431 que corresponde a: 48.27%\n",
            "Column WALLSMATERIAL_MODE total nulos: 156341 que corresponde a: 50.84%\n",
            "Column EMERGENCYSTATE_MODE total nulos: 145755 que corresponde a: 47.4%\n",
            "Column OBS_30_CNT_SOCIAL_CIRCLE total nulos: 1021 que corresponde a: 0.33%\n",
            "Column DEF_30_CNT_SOCIAL_CIRCLE total nulos: 1021 que corresponde a: 0.33%\n",
            "Column OBS_60_CNT_SOCIAL_CIRCLE total nulos: 1021 que corresponde a: 0.33%\n",
            "Column DEF_60_CNT_SOCIAL_CIRCLE total nulos: 1021 que corresponde a: 0.33%\n",
            "Column DAYS_LAST_PHONE_CHANGE total nulos: 1 que corresponde a: 0.0%\n",
            "Column FLAG_DOCUMENT_2 total nulos: 0 que corresponde a: 0.0%\n",
            "Column FLAG_DOCUMENT_3 total nulos: 0 que corresponde a: 0.0%\n",
            "Column FLAG_DOCUMENT_4 total nulos: 0 que corresponde a: 0.0%\n",
            "Column FLAG_DOCUMENT_5 total nulos: 0 que corresponde a: 0.0%\n",
            "Column FLAG_DOCUMENT_6 total nulos: 0 que corresponde a: 0.0%\n",
            "Column FLAG_DOCUMENT_7 total nulos: 0 que corresponde a: 0.0%\n",
            "Column FLAG_DOCUMENT_8 total nulos: 0 que corresponde a: 0.0%\n",
            "Column FLAG_DOCUMENT_9 total nulos: 0 que corresponde a: 0.0%\n",
            "Column FLAG_DOCUMENT_10 total nulos: 0 que corresponde a: 0.0%\n",
            "Column FLAG_DOCUMENT_11 total nulos: 0 que corresponde a: 0.0%\n",
            "Column FLAG_DOCUMENT_12 total nulos: 0 que corresponde a: 0.0%\n",
            "Column FLAG_DOCUMENT_13 total nulos: 0 que corresponde a: 0.0%\n",
            "Column FLAG_DOCUMENT_14 total nulos: 0 que corresponde a: 0.0%\n",
            "Column FLAG_DOCUMENT_15 total nulos: 0 que corresponde a: 0.0%\n",
            "Column FLAG_DOCUMENT_16 total nulos: 0 que corresponde a: 0.0%\n",
            "Column FLAG_DOCUMENT_17 total nulos: 0 que corresponde a: 0.0%\n",
            "Column FLAG_DOCUMENT_18 total nulos: 0 que corresponde a: 0.0%\n",
            "Column FLAG_DOCUMENT_19 total nulos: 0 que corresponde a: 0.0%\n",
            "Column FLAG_DOCUMENT_20 total nulos: 0 que corresponde a: 0.0%\n",
            "Column FLAG_DOCUMENT_21 total nulos: 0 que corresponde a: 0.0%\n",
            "Column AMT_REQ_CREDIT_BUREAU_HOUR total nulos: 41519 que corresponde a: 13.5%\n",
            "Column AMT_REQ_CREDIT_BUREAU_DAY total nulos: 41519 que corresponde a: 13.5%\n",
            "Column AMT_REQ_CREDIT_BUREAU_WEEK total nulos: 41519 que corresponde a: 13.5%\n",
            "Column AMT_REQ_CREDIT_BUREAU_MON total nulos: 41519 que corresponde a: 13.5%\n",
            "Column AMT_REQ_CREDIT_BUREAU_QRT total nulos: 41519 que corresponde a: 13.5%\n",
            "Column AMT_REQ_CREDIT_BUREAU_YEAR total nulos: 41519 que corresponde a: 13.5%\n"
          ]
        }
      ]
    },
    {
      "cell_type": "code",
      "source": [
        "df_application_data.describe()"
      ],
      "metadata": {
        "colab": {
          "base_uri": "https://localhost:8080/",
          "height": 394
        },
        "id": "x0NC8BygBPob",
        "outputId": "fddae8d5-f8c7-48bb-9583-15e7eb6af4f1"
      },
      "execution_count": null,
      "outputs": [
        {
          "output_type": "execute_result",
          "data": {
            "text/plain": [
              "          SK_ID_CURR         TARGET   CNT_CHILDREN  AMT_INCOME_TOTAL  \\\n",
              "count  307511.000000  307511.000000  307511.000000      3.075110e+05   \n",
              "mean   278180.518577       0.080729       0.417052      1.687979e+05   \n",
              "std    102790.175348       0.272419       0.722121      2.371231e+05   \n",
              "min    100002.000000       0.000000       0.000000      2.565000e+04   \n",
              "25%    189145.500000       0.000000       0.000000      1.125000e+05   \n",
              "50%    278202.000000       0.000000       0.000000      1.471500e+05   \n",
              "75%    367142.500000       0.000000       1.000000      2.025000e+05   \n",
              "max    456255.000000       1.000000      19.000000      1.170000e+08   \n",
              "\n",
              "         AMT_CREDIT    AMT_ANNUITY  AMT_GOODS_PRICE  \\\n",
              "count  3.075110e+05  307499.000000     3.072330e+05   \n",
              "mean   5.990260e+05   27108.573909     5.383962e+05   \n",
              "std    4.024908e+05   14493.737315     3.694465e+05   \n",
              "min    4.500000e+04    1615.500000     4.050000e+04   \n",
              "25%    2.700000e+05   16524.000000     2.385000e+05   \n",
              "50%    5.135310e+05   24903.000000     4.500000e+05   \n",
              "75%    8.086500e+05   34596.000000     6.795000e+05   \n",
              "max    4.050000e+06  258025.500000     4.050000e+06   \n",
              "\n",
              "       REGION_POPULATION_RELATIVE     DAYS_BIRTH  DAYS_EMPLOYED  ...  \\\n",
              "count               307511.000000  307511.000000  307511.000000  ...   \n",
              "mean                     0.020868  -16036.995067   63815.045904  ...   \n",
              "std                      0.013831    4363.988632  141275.766519  ...   \n",
              "min                      0.000290  -25229.000000  -17912.000000  ...   \n",
              "25%                      0.010006  -19682.000000   -2760.000000  ...   \n",
              "50%                      0.018850  -15750.000000   -1213.000000  ...   \n",
              "75%                      0.028663  -12413.000000    -289.000000  ...   \n",
              "max                      0.072508   -7489.000000  365243.000000  ...   \n",
              "\n",
              "       FLAG_DOCUMENT_18  FLAG_DOCUMENT_19  FLAG_DOCUMENT_20  FLAG_DOCUMENT_21  \\\n",
              "count     307511.000000     307511.000000     307511.000000     307511.000000   \n",
              "mean           0.008130          0.000595          0.000507          0.000335   \n",
              "std            0.089798          0.024387          0.022518          0.018299   \n",
              "min            0.000000          0.000000          0.000000          0.000000   \n",
              "25%            0.000000          0.000000          0.000000          0.000000   \n",
              "50%            0.000000          0.000000          0.000000          0.000000   \n",
              "75%            0.000000          0.000000          0.000000          0.000000   \n",
              "max            1.000000          1.000000          1.000000          1.000000   \n",
              "\n",
              "       AMT_REQ_CREDIT_BUREAU_HOUR  AMT_REQ_CREDIT_BUREAU_DAY  \\\n",
              "count               265992.000000              265992.000000   \n",
              "mean                     0.006402                   0.007000   \n",
              "std                      0.083849                   0.110757   \n",
              "min                      0.000000                   0.000000   \n",
              "25%                      0.000000                   0.000000   \n",
              "50%                      0.000000                   0.000000   \n",
              "75%                      0.000000                   0.000000   \n",
              "max                      4.000000                   9.000000   \n",
              "\n",
              "       AMT_REQ_CREDIT_BUREAU_WEEK  AMT_REQ_CREDIT_BUREAU_MON  \\\n",
              "count               265992.000000              265992.000000   \n",
              "mean                     0.034362                   0.267395   \n",
              "std                      0.204685                   0.916002   \n",
              "min                      0.000000                   0.000000   \n",
              "25%                      0.000000                   0.000000   \n",
              "50%                      0.000000                   0.000000   \n",
              "75%                      0.000000                   0.000000   \n",
              "max                      8.000000                  27.000000   \n",
              "\n",
              "       AMT_REQ_CREDIT_BUREAU_QRT  AMT_REQ_CREDIT_BUREAU_YEAR  \n",
              "count              265992.000000               265992.000000  \n",
              "mean                    0.265474                    1.899974  \n",
              "std                     0.794056                    1.869295  \n",
              "min                     0.000000                    0.000000  \n",
              "25%                     0.000000                    0.000000  \n",
              "50%                     0.000000                    1.000000  \n",
              "75%                     0.000000                    3.000000  \n",
              "max                   261.000000                   25.000000  \n",
              "\n",
              "[8 rows x 106 columns]"
            ],
            "text/html": [
              "\n",
              "  <div id=\"df-c57254a2-c6c7-4966-9b17-1f00de575a00\">\n",
              "    <div class=\"colab-df-container\">\n",
              "      <div>\n",
              "<style scoped>\n",
              "    .dataframe tbody tr th:only-of-type {\n",
              "        vertical-align: middle;\n",
              "    }\n",
              "\n",
              "    .dataframe tbody tr th {\n",
              "        vertical-align: top;\n",
              "    }\n",
              "\n",
              "    .dataframe thead th {\n",
              "        text-align: right;\n",
              "    }\n",
              "</style>\n",
              "<table border=\"1\" class=\"dataframe\">\n",
              "  <thead>\n",
              "    <tr style=\"text-align: right;\">\n",
              "      <th></th>\n",
              "      <th>SK_ID_CURR</th>\n",
              "      <th>TARGET</th>\n",
              "      <th>CNT_CHILDREN</th>\n",
              "      <th>AMT_INCOME_TOTAL</th>\n",
              "      <th>AMT_CREDIT</th>\n",
              "      <th>AMT_ANNUITY</th>\n",
              "      <th>AMT_GOODS_PRICE</th>\n",
              "      <th>REGION_POPULATION_RELATIVE</th>\n",
              "      <th>DAYS_BIRTH</th>\n",
              "      <th>DAYS_EMPLOYED</th>\n",
              "      <th>...</th>\n",
              "      <th>FLAG_DOCUMENT_18</th>\n",
              "      <th>FLAG_DOCUMENT_19</th>\n",
              "      <th>FLAG_DOCUMENT_20</th>\n",
              "      <th>FLAG_DOCUMENT_21</th>\n",
              "      <th>AMT_REQ_CREDIT_BUREAU_HOUR</th>\n",
              "      <th>AMT_REQ_CREDIT_BUREAU_DAY</th>\n",
              "      <th>AMT_REQ_CREDIT_BUREAU_WEEK</th>\n",
              "      <th>AMT_REQ_CREDIT_BUREAU_MON</th>\n",
              "      <th>AMT_REQ_CREDIT_BUREAU_QRT</th>\n",
              "      <th>AMT_REQ_CREDIT_BUREAU_YEAR</th>\n",
              "    </tr>\n",
              "  </thead>\n",
              "  <tbody>\n",
              "    <tr>\n",
              "      <th>count</th>\n",
              "      <td>307511.000000</td>\n",
              "      <td>307511.000000</td>\n",
              "      <td>307511.000000</td>\n",
              "      <td>3.075110e+05</td>\n",
              "      <td>3.075110e+05</td>\n",
              "      <td>307499.000000</td>\n",
              "      <td>3.072330e+05</td>\n",
              "      <td>307511.000000</td>\n",
              "      <td>307511.000000</td>\n",
              "      <td>307511.000000</td>\n",
              "      <td>...</td>\n",
              "      <td>307511.000000</td>\n",
              "      <td>307511.000000</td>\n",
              "      <td>307511.000000</td>\n",
              "      <td>307511.000000</td>\n",
              "      <td>265992.000000</td>\n",
              "      <td>265992.000000</td>\n",
              "      <td>265992.000000</td>\n",
              "      <td>265992.000000</td>\n",
              "      <td>265992.000000</td>\n",
              "      <td>265992.000000</td>\n",
              "    </tr>\n",
              "    <tr>\n",
              "      <th>mean</th>\n",
              "      <td>278180.518577</td>\n",
              "      <td>0.080729</td>\n",
              "      <td>0.417052</td>\n",
              "      <td>1.687979e+05</td>\n",
              "      <td>5.990260e+05</td>\n",
              "      <td>27108.573909</td>\n",
              "      <td>5.383962e+05</td>\n",
              "      <td>0.020868</td>\n",
              "      <td>-16036.995067</td>\n",
              "      <td>63815.045904</td>\n",
              "      <td>...</td>\n",
              "      <td>0.008130</td>\n",
              "      <td>0.000595</td>\n",
              "      <td>0.000507</td>\n",
              "      <td>0.000335</td>\n",
              "      <td>0.006402</td>\n",
              "      <td>0.007000</td>\n",
              "      <td>0.034362</td>\n",
              "      <td>0.267395</td>\n",
              "      <td>0.265474</td>\n",
              "      <td>1.899974</td>\n",
              "    </tr>\n",
              "    <tr>\n",
              "      <th>std</th>\n",
              "      <td>102790.175348</td>\n",
              "      <td>0.272419</td>\n",
              "      <td>0.722121</td>\n",
              "      <td>2.371231e+05</td>\n",
              "      <td>4.024908e+05</td>\n",
              "      <td>14493.737315</td>\n",
              "      <td>3.694465e+05</td>\n",
              "      <td>0.013831</td>\n",
              "      <td>4363.988632</td>\n",
              "      <td>141275.766519</td>\n",
              "      <td>...</td>\n",
              "      <td>0.089798</td>\n",
              "      <td>0.024387</td>\n",
              "      <td>0.022518</td>\n",
              "      <td>0.018299</td>\n",
              "      <td>0.083849</td>\n",
              "      <td>0.110757</td>\n",
              "      <td>0.204685</td>\n",
              "      <td>0.916002</td>\n",
              "      <td>0.794056</td>\n",
              "      <td>1.869295</td>\n",
              "    </tr>\n",
              "    <tr>\n",
              "      <th>min</th>\n",
              "      <td>100002.000000</td>\n",
              "      <td>0.000000</td>\n",
              "      <td>0.000000</td>\n",
              "      <td>2.565000e+04</td>\n",
              "      <td>4.500000e+04</td>\n",
              "      <td>1615.500000</td>\n",
              "      <td>4.050000e+04</td>\n",
              "      <td>0.000290</td>\n",
              "      <td>-25229.000000</td>\n",
              "      <td>-17912.000000</td>\n",
              "      <td>...</td>\n",
              "      <td>0.000000</td>\n",
              "      <td>0.000000</td>\n",
              "      <td>0.000000</td>\n",
              "      <td>0.000000</td>\n",
              "      <td>0.000000</td>\n",
              "      <td>0.000000</td>\n",
              "      <td>0.000000</td>\n",
              "      <td>0.000000</td>\n",
              "      <td>0.000000</td>\n",
              "      <td>0.000000</td>\n",
              "    </tr>\n",
              "    <tr>\n",
              "      <th>25%</th>\n",
              "      <td>189145.500000</td>\n",
              "      <td>0.000000</td>\n",
              "      <td>0.000000</td>\n",
              "      <td>1.125000e+05</td>\n",
              "      <td>2.700000e+05</td>\n",
              "      <td>16524.000000</td>\n",
              "      <td>2.385000e+05</td>\n",
              "      <td>0.010006</td>\n",
              "      <td>-19682.000000</td>\n",
              "      <td>-2760.000000</td>\n",
              "      <td>...</td>\n",
              "      <td>0.000000</td>\n",
              "      <td>0.000000</td>\n",
              "      <td>0.000000</td>\n",
              "      <td>0.000000</td>\n",
              "      <td>0.000000</td>\n",
              "      <td>0.000000</td>\n",
              "      <td>0.000000</td>\n",
              "      <td>0.000000</td>\n",
              "      <td>0.000000</td>\n",
              "      <td>0.000000</td>\n",
              "    </tr>\n",
              "    <tr>\n",
              "      <th>50%</th>\n",
              "      <td>278202.000000</td>\n",
              "      <td>0.000000</td>\n",
              "      <td>0.000000</td>\n",
              "      <td>1.471500e+05</td>\n",
              "      <td>5.135310e+05</td>\n",
              "      <td>24903.000000</td>\n",
              "      <td>4.500000e+05</td>\n",
              "      <td>0.018850</td>\n",
              "      <td>-15750.000000</td>\n",
              "      <td>-1213.000000</td>\n",
              "      <td>...</td>\n",
              "      <td>0.000000</td>\n",
              "      <td>0.000000</td>\n",
              "      <td>0.000000</td>\n",
              "      <td>0.000000</td>\n",
              "      <td>0.000000</td>\n",
              "      <td>0.000000</td>\n",
              "      <td>0.000000</td>\n",
              "      <td>0.000000</td>\n",
              "      <td>0.000000</td>\n",
              "      <td>1.000000</td>\n",
              "    </tr>\n",
              "    <tr>\n",
              "      <th>75%</th>\n",
              "      <td>367142.500000</td>\n",
              "      <td>0.000000</td>\n",
              "      <td>1.000000</td>\n",
              "      <td>2.025000e+05</td>\n",
              "      <td>8.086500e+05</td>\n",
              "      <td>34596.000000</td>\n",
              "      <td>6.795000e+05</td>\n",
              "      <td>0.028663</td>\n",
              "      <td>-12413.000000</td>\n",
              "      <td>-289.000000</td>\n",
              "      <td>...</td>\n",
              "      <td>0.000000</td>\n",
              "      <td>0.000000</td>\n",
              "      <td>0.000000</td>\n",
              "      <td>0.000000</td>\n",
              "      <td>0.000000</td>\n",
              "      <td>0.000000</td>\n",
              "      <td>0.000000</td>\n",
              "      <td>0.000000</td>\n",
              "      <td>0.000000</td>\n",
              "      <td>3.000000</td>\n",
              "    </tr>\n",
              "    <tr>\n",
              "      <th>max</th>\n",
              "      <td>456255.000000</td>\n",
              "      <td>1.000000</td>\n",
              "      <td>19.000000</td>\n",
              "      <td>1.170000e+08</td>\n",
              "      <td>4.050000e+06</td>\n",
              "      <td>258025.500000</td>\n",
              "      <td>4.050000e+06</td>\n",
              "      <td>0.072508</td>\n",
              "      <td>-7489.000000</td>\n",
              "      <td>365243.000000</td>\n",
              "      <td>...</td>\n",
              "      <td>1.000000</td>\n",
              "      <td>1.000000</td>\n",
              "      <td>1.000000</td>\n",
              "      <td>1.000000</td>\n",
              "      <td>4.000000</td>\n",
              "      <td>9.000000</td>\n",
              "      <td>8.000000</td>\n",
              "      <td>27.000000</td>\n",
              "      <td>261.000000</td>\n",
              "      <td>25.000000</td>\n",
              "    </tr>\n",
              "  </tbody>\n",
              "</table>\n",
              "<p>8 rows × 106 columns</p>\n",
              "</div>\n",
              "      <button class=\"colab-df-convert\" onclick=\"convertToInteractive('df-c57254a2-c6c7-4966-9b17-1f00de575a00')\"\n",
              "              title=\"Convert this dataframe to an interactive table.\"\n",
              "              style=\"display:none;\">\n",
              "        \n",
              "  <svg xmlns=\"http://www.w3.org/2000/svg\" height=\"24px\"viewBox=\"0 0 24 24\"\n",
              "       width=\"24px\">\n",
              "    <path d=\"M0 0h24v24H0V0z\" fill=\"none\"/>\n",
              "    <path d=\"M18.56 5.44l.94 2.06.94-2.06 2.06-.94-2.06-.94-.94-2.06-.94 2.06-2.06.94zm-11 1L8.5 8.5l.94-2.06 2.06-.94-2.06-.94L8.5 2.5l-.94 2.06-2.06.94zm10 10l.94 2.06.94-2.06 2.06-.94-2.06-.94-.94-2.06-.94 2.06-2.06.94z\"/><path d=\"M17.41 7.96l-1.37-1.37c-.4-.4-.92-.59-1.43-.59-.52 0-1.04.2-1.43.59L10.3 9.45l-7.72 7.72c-.78.78-.78 2.05 0 2.83L4 21.41c.39.39.9.59 1.41.59.51 0 1.02-.2 1.41-.59l7.78-7.78 2.81-2.81c.8-.78.8-2.07 0-2.86zM5.41 20L4 18.59l7.72-7.72 1.47 1.35L5.41 20z\"/>\n",
              "  </svg>\n",
              "      </button>\n",
              "      \n",
              "  <style>\n",
              "    .colab-df-container {\n",
              "      display:flex;\n",
              "      flex-wrap:wrap;\n",
              "      gap: 12px;\n",
              "    }\n",
              "\n",
              "    .colab-df-convert {\n",
              "      background-color: #E8F0FE;\n",
              "      border: none;\n",
              "      border-radius: 50%;\n",
              "      cursor: pointer;\n",
              "      display: none;\n",
              "      fill: #1967D2;\n",
              "      height: 32px;\n",
              "      padding: 0 0 0 0;\n",
              "      width: 32px;\n",
              "    }\n",
              "\n",
              "    .colab-df-convert:hover {\n",
              "      background-color: #E2EBFA;\n",
              "      box-shadow: 0px 1px 2px rgba(60, 64, 67, 0.3), 0px 1px 3px 1px rgba(60, 64, 67, 0.15);\n",
              "      fill: #174EA6;\n",
              "    }\n",
              "\n",
              "    [theme=dark] .colab-df-convert {\n",
              "      background-color: #3B4455;\n",
              "      fill: #D2E3FC;\n",
              "    }\n",
              "\n",
              "    [theme=dark] .colab-df-convert:hover {\n",
              "      background-color: #434B5C;\n",
              "      box-shadow: 0px 1px 3px 1px rgba(0, 0, 0, 0.15);\n",
              "      filter: drop-shadow(0px 1px 2px rgba(0, 0, 0, 0.3));\n",
              "      fill: #FFFFFF;\n",
              "    }\n",
              "  </style>\n",
              "\n",
              "      <script>\n",
              "        const buttonEl =\n",
              "          document.querySelector('#df-c57254a2-c6c7-4966-9b17-1f00de575a00 button.colab-df-convert');\n",
              "        buttonEl.style.display =\n",
              "          google.colab.kernel.accessAllowed ? 'block' : 'none';\n",
              "\n",
              "        async function convertToInteractive(key) {\n",
              "          const element = document.querySelector('#df-c57254a2-c6c7-4966-9b17-1f00de575a00');\n",
              "          const dataTable =\n",
              "            await google.colab.kernel.invokeFunction('convertToInteractive',\n",
              "                                                     [key], {});\n",
              "          if (!dataTable) return;\n",
              "\n",
              "          const docLinkHtml = 'Like what you see? Visit the ' +\n",
              "            '<a target=\"_blank\" href=https://colab.research.google.com/notebooks/data_table.ipynb>data table notebook</a>'\n",
              "            + ' to learn more about interactive tables.';\n",
              "          element.innerHTML = '';\n",
              "          dataTable['output_type'] = 'display_data';\n",
              "          await google.colab.output.renderOutput(dataTable, element);\n",
              "          const docLink = document.createElement('div');\n",
              "          docLink.innerHTML = docLinkHtml;\n",
              "          element.appendChild(docLink);\n",
              "        }\n",
              "      </script>\n",
              "    </div>\n",
              "  </div>\n",
              "  "
            ]
          },
          "metadata": {},
          "execution_count": 74
        }
      ]
    },
    {
      "cell_type": "code",
      "source": [
        "num_cols = df_application_data._get_numeric_data().columns.to_list()\n",
        "columns = df_application_data.columns.to_list()\n",
        "categorical_cols = set(columns).difference(set(num_cols))"
      ],
      "metadata": {
        "id": "43E6RJP-F_H9"
      },
      "execution_count": null,
      "outputs": []
    },
    {
      "cell_type": "code",
      "source": [
        "num_cols"
      ],
      "metadata": {
        "colab": {
          "base_uri": "https://localhost:8080/"
        },
        "id": "JCVVQjUQGQB4",
        "outputId": "6ee1ddc3-40af-477b-df79-c74ee3a75d4e"
      },
      "execution_count": null,
      "outputs": [
        {
          "output_type": "execute_result",
          "data": {
            "text/plain": [
              "Index(['SK_ID_CURR', 'TARGET', 'CNT_CHILDREN', 'AMT_INCOME_TOTAL',\n",
              "       'AMT_CREDIT', 'AMT_ANNUITY', 'AMT_GOODS_PRICE',\n",
              "       'REGION_POPULATION_RELATIVE', 'DAYS_BIRTH', 'DAYS_EMPLOYED',\n",
              "       ...\n",
              "       'FLAG_DOCUMENT_18', 'FLAG_DOCUMENT_19', 'FLAG_DOCUMENT_20',\n",
              "       'FLAG_DOCUMENT_21', 'AMT_REQ_CREDIT_BUREAU_HOUR',\n",
              "       'AMT_REQ_CREDIT_BUREAU_DAY', 'AMT_REQ_CREDIT_BUREAU_WEEK',\n",
              "       'AMT_REQ_CREDIT_BUREAU_MON', 'AMT_REQ_CREDIT_BUREAU_QRT',\n",
              "       'AMT_REQ_CREDIT_BUREAU_YEAR'],\n",
              "      dtype='object', length=106)"
            ]
          },
          "metadata": {},
          "execution_count": 77
        }
      ]
    },
    {
      "cell_type": "code",
      "source": [
        "categorical_cols"
      ],
      "metadata": {
        "colab": {
          "base_uri": "https://localhost:8080/"
        },
        "id": "3vLIkSEXGRYC",
        "outputId": "489c5729-b040-4722-90c6-e4bab56e7ad5"
      },
      "execution_count": null,
      "outputs": [
        {
          "output_type": "execute_result",
          "data": {
            "text/plain": [
              "{'CODE_GENDER',\n",
              " 'EMERGENCYSTATE_MODE',\n",
              " 'FLAG_OWN_CAR',\n",
              " 'FLAG_OWN_REALTY',\n",
              " 'FONDKAPREMONT_MODE',\n",
              " 'HOUSETYPE_MODE',\n",
              " 'NAME_CONTRACT_TYPE',\n",
              " 'NAME_EDUCATION_TYPE',\n",
              " 'NAME_FAMILY_STATUS',\n",
              " 'NAME_HOUSING_TYPE',\n",
              " 'NAME_INCOME_TYPE',\n",
              " 'NAME_TYPE_SUITE',\n",
              " 'OCCUPATION_TYPE',\n",
              " 'ORGANIZATION_TYPE',\n",
              " 'WALLSMATERIAL_MODE',\n",
              " 'WEEKDAY_APPR_PROCESS_START'}"
            ]
          },
          "metadata": {},
          "execution_count": 84
        }
      ]
    },
    {
      "cell_type": "code",
      "source": [
        "df_application_data['OCCUPATION_TYPE'].unique()\n"
      ],
      "metadata": {
        "colab": {
          "base_uri": "https://localhost:8080/"
        },
        "id": "cLpIgQ-AHfXZ",
        "outputId": "959e6bcc-2b99-45fb-e5ec-2f716be0645d"
      },
      "execution_count": null,
      "outputs": [
        {
          "output_type": "execute_result",
          "data": {
            "text/plain": [
              "array(['Laborers', 'Core staff', 'Accountants', 'Managers', nan,\n",
              "       'Drivers', 'Sales staff', 'Cleaning staff', 'Cooking staff',\n",
              "       'Private service staff', 'Medicine staff', 'Security staff',\n",
              "       'High skill tech staff', 'Waiters/barmen staff',\n",
              "       'Low-skill Laborers', 'Realty agents', 'Secretaries', 'IT staff',\n",
              "       'HR staff'], dtype=object)"
            ]
          },
          "metadata": {},
          "execution_count": 86
        }
      ]
    },
    {
      "cell_type": "code",
      "source": [
        "def show_labels(df):\n",
        "  for col in categorical_cols:\n",
        "    print(f\"Coluna {col} possui os seguintes valores: {df[col].unique()}, no total: {df[col].nunique()} valores\\n\\n\")"
      ],
      "metadata": {
        "id": "6rxpY8jEH3YD"
      },
      "execution_count": null,
      "outputs": []
    },
    {
      "cell_type": "code",
      "source": [
        "show_labels(df_application_data)"
      ],
      "metadata": {
        "colab": {
          "base_uri": "https://localhost:8080/"
        },
        "id": "mSF1UsPQITOz",
        "outputId": "d715eb06-d409-44b1-f327-8dbd91f6fda4"
      },
      "execution_count": null,
      "outputs": [
        {
          "output_type": "stream",
          "name": "stdout",
          "text": [
            "Coluna WALLSMATERIAL_MODE possui os seguintes valores: ['Stone, brick' 'Block' nan 'Panel' 'Mixed' 'Wooden' 'Others' 'Monolithic'], no total: 7 valores\n",
            "\n",
            "\n",
            "Coluna FONDKAPREMONT_MODE possui os seguintes valores: ['reg oper account' nan 'org spec account' 'reg oper spec account'\n",
            " 'not specified'], no total: 4 valores\n",
            "\n",
            "\n",
            "Coluna FLAG_OWN_CAR possui os seguintes valores: ['N' 'Y'], no total: 2 valores\n",
            "\n",
            "\n",
            "Coluna NAME_TYPE_SUITE possui os seguintes valores: ['Unaccompanied' 'Family' 'Spouse, partner' 'Children' 'Other_A' nan\n",
            " 'Other_B' 'Group of people'], no total: 7 valores\n",
            "\n",
            "\n",
            "Coluna WEEKDAY_APPR_PROCESS_START possui os seguintes valores: ['WEDNESDAY' 'MONDAY' 'THURSDAY' 'SUNDAY' 'SATURDAY' 'FRIDAY' 'TUESDAY'], no total: 7 valores\n",
            "\n",
            "\n",
            "Coluna NAME_INCOME_TYPE possui os seguintes valores: ['Working' 'State servant' 'Commercial associate' 'Pensioner' 'Unemployed'\n",
            " 'Student' 'Businessman' 'Maternity leave'], no total: 8 valores\n",
            "\n",
            "\n",
            "Coluna EMERGENCYSTATE_MODE possui os seguintes valores: ['No' nan 'Yes'], no total: 2 valores\n",
            "\n",
            "\n",
            "Coluna NAME_HOUSING_TYPE possui os seguintes valores: ['House / apartment' 'Rented apartment' 'With parents'\n",
            " 'Municipal apartment' 'Office apartment' 'Co-op apartment'], no total: 6 valores\n",
            "\n",
            "\n",
            "Coluna NAME_EDUCATION_TYPE possui os seguintes valores: ['Secondary / secondary special' 'Higher education' 'Incomplete higher'\n",
            " 'Lower secondary' 'Academic degree'], no total: 5 valores\n",
            "\n",
            "\n",
            "Coluna NAME_CONTRACT_TYPE possui os seguintes valores: ['Cash loans' 'Revolving loans'], no total: 2 valores\n",
            "\n",
            "\n",
            "Coluna ORGANIZATION_TYPE possui os seguintes valores: ['Business Entity Type 3' 'School' 'Government' 'Religion' 'Other' 'XNA'\n",
            " 'Electricity' 'Medicine' 'Business Entity Type 2' 'Self-employed'\n",
            " 'Transport: type 2' 'Construction' 'Housing' 'Kindergarten'\n",
            " 'Trade: type 7' 'Industry: type 11' 'Military' 'Services'\n",
            " 'Security Ministries' 'Transport: type 4' 'Industry: type 1' 'Emergency'\n",
            " 'Security' 'Trade: type 2' 'University' 'Transport: type 3' 'Police'\n",
            " 'Business Entity Type 1' 'Postal' 'Industry: type 4' 'Agriculture'\n",
            " 'Restaurant' 'Culture' 'Hotel' 'Industry: type 7' 'Trade: type 3'\n",
            " 'Industry: type 3' 'Bank' 'Industry: type 9' 'Insurance' 'Trade: type 6'\n",
            " 'Industry: type 2' 'Transport: type 1' 'Industry: type 12' 'Mobile'\n",
            " 'Trade: type 1' 'Industry: type 5' 'Industry: type 10' 'Legal Services'\n",
            " 'Advertising' 'Trade: type 5' 'Cleaning' 'Industry: type 13'\n",
            " 'Trade: type 4' 'Telecom' 'Industry: type 8' 'Realtor' 'Industry: type 6'], no total: 58 valores\n",
            "\n",
            "\n",
            "Coluna CODE_GENDER possui os seguintes valores: ['M' 'F' 'XNA'], no total: 3 valores\n",
            "\n",
            "\n",
            "Coluna HOUSETYPE_MODE possui os seguintes valores: ['block of flats' nan 'terraced house' 'specific housing'], no total: 3 valores\n",
            "\n",
            "\n",
            "Coluna NAME_FAMILY_STATUS possui os seguintes valores: ['Single / not married' 'Married' 'Civil marriage' 'Widow' 'Separated'\n",
            " 'Unknown'], no total: 6 valores\n",
            "\n",
            "\n",
            "Coluna FLAG_OWN_REALTY possui os seguintes valores: ['Y' 'N'], no total: 2 valores\n",
            "\n",
            "\n",
            "Coluna OCCUPATION_TYPE possui os seguintes valores: ['Laborers' 'Core staff' 'Accountants' 'Managers' nan 'Drivers'\n",
            " 'Sales staff' 'Cleaning staff' 'Cooking staff' 'Private service staff'\n",
            " 'Medicine staff' 'Security staff' 'High skill tech staff'\n",
            " 'Waiters/barmen staff' 'Low-skill Laborers' 'Realty agents' 'Secretaries'\n",
            " 'IT staff' 'HR staff'], no total: 18 valores\n",
            "\n",
            "\n"
          ]
        }
      ]
    },
    {
      "cell_type": "code",
      "source": [
        ""
      ],
      "metadata": {
        "id": "WawDs_A5Itli"
      },
      "execution_count": null,
      "outputs": []
    }
  ]
}